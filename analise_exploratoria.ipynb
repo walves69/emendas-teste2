{
 "cells": [
  {
   "cell_type": "markdown",
   "metadata": {},
   "source": [
    "https://portaldatransparencia.gov.br/emendas"
   ]
  },
  {
   "cell_type": "code",
   "execution_count": 72,
   "metadata": {},
   "outputs": [
    {
     "name": "stdout",
     "output_type": "stream",
     "text": [
      "<class 'pandas.core.frame.DataFrame'>\n",
      "RangeIndex: 2849 entries, 0 to 2848\n",
      "Data columns (total 18 columns):\n",
      " #   Column                                Non-Null Count  Dtype  \n",
      "---  ------                                --------------  -----  \n",
      " 0   Ano                                   2849 non-null   int64  \n",
      " 1   Tipo de Emenda                        2849 non-null   object \n",
      " 2   Autor da emenda                       2849 non-null   object \n",
      " 3   Número da emenda                      2849 non-null   int64  \n",
      " 4   Localidade do gasto (Regionalização)  2849 non-null   object \n",
      " 5   Função                                2849 non-null   object \n",
      " 6   Subfunção                             2849 non-null   object \n",
      " 7   Programa Orçamentário                 2849 non-null   object \n",
      " 8   Ação Orçamentária                     2849 non-null   object \n",
      " 9   Plano Orçamentário                    2849 non-null   object \n",
      " 10  Código da emenda                      2849 non-null   int64  \n",
      " 11  Valor empenhado                       2849 non-null   object \n",
      " 12  Valor liquidado                       2849 non-null   object \n",
      " 13  Valor pago                            2849 non-null   object \n",
      " 14  Valor Restos a Pagar Inscritos        2849 non-null   object \n",
      " 15  Valor Restos a Pagar Cancelados       2849 non-null   object \n",
      " 16  Valor Restos a Pagar Pagos            2849 non-null   object \n",
      " 17  Unnamed: 17                           0 non-null      float64\n",
      "dtypes: float64(1), int64(3), object(14)\n",
      "memory usage: 400.8+ KB\n"
     ]
    }
   ],
   "source": [
    "import pandas as pd\n",
    "import numpy as np\n",
    "import plotly.express as px\n",
    "from babel.numbers import format_currency\n",
    "\n",
    "# retirar a notação científica do pandas\n",
    "# pd.set_option('display.float_format', '{:.2f}'.format)\n",
    "\n",
    "df = pd.read_csv('emendas.csv', sep=';')\n",
    "df.info()"
   ]
  },
  {
   "cell_type": "markdown",
   "metadata": {},
   "source": [
    "## Estrutura\n",
    "\n",
    "### Renomeando colunas"
   ]
  },
  {
   "cell_type": "code",
   "execution_count": 73,
   "metadata": {},
   "outputs": [
    {
     "data": {
      "text/html": [
       "<div>\n",
       "<style scoped>\n",
       "    .dataframe tbody tr th:only-of-type {\n",
       "        vertical-align: middle;\n",
       "    }\n",
       "\n",
       "    .dataframe tbody tr th {\n",
       "        vertical-align: top;\n",
       "    }\n",
       "\n",
       "    .dataframe thead th {\n",
       "        text-align: right;\n",
       "    }\n",
       "</style>\n",
       "<table border=\"1\" class=\"dataframe\">\n",
       "  <thead>\n",
       "    <tr style=\"text-align: right;\">\n",
       "      <th></th>\n",
       "      <th>ano</th>\n",
       "      <th>emenda_tipo</th>\n",
       "      <th>emenda_autor</th>\n",
       "      <th>emenda_nr</th>\n",
       "      <th>local_gasto</th>\n",
       "      <th>funcao</th>\n",
       "      <th>subfuncao</th>\n",
       "      <th>orc_programa</th>\n",
       "      <th>orc_acao</th>\n",
       "      <th>orc_plano</th>\n",
       "      <th>emenda_cod</th>\n",
       "      <th>vlr_empenhado</th>\n",
       "      <th>vlr_liquido</th>\n",
       "      <th>vlr_pago</th>\n",
       "      <th>vlr_restos_pagar_inscrito</th>\n",
       "      <th>vlr_restos_pagar_cancelados</th>\n",
       "      <th>vlr_restos_pagar_pagos</th>\n",
       "      <th>outro</th>\n",
       "    </tr>\n",
       "  </thead>\n",
       "  <tbody>\n",
       "    <tr>\n",
       "      <th>0</th>\n",
       "      <td>2022</td>\n",
       "      <td>Emenda Individual - Transferências Especiais</td>\n",
       "      <td>MARCIO ALVINO</td>\n",
       "      <td>6</td>\n",
       "      <td>SÃO PAULO (UF)</td>\n",
       "      <td>Encargos especiais</td>\n",
       "      <td>Outras transferências</td>\n",
       "      <td>0903 - OPERACOES ESPECIAIS: TRANSFERENCIAS CON...</td>\n",
       "      <td>0EC2 - TRANSFERENCIAS ESPECIAIS</td>\n",
       "      <td>TRANSFERENCIAS ESPECIAIS</td>\n",
       "      <td>202237170006</td>\n",
       "      <td>100.000,00</td>\n",
       "      <td>0,00</td>\n",
       "      <td>0,00</td>\n",
       "      <td>100.000,00</td>\n",
       "      <td>0,00</td>\n",
       "      <td>100.000,00</td>\n",
       "      <td>NaN</td>\n",
       "    </tr>\n",
       "    <tr>\n",
       "      <th>1</th>\n",
       "      <td>2024</td>\n",
       "      <td>Emenda Individual - Transferências Especiais</td>\n",
       "      <td>JUNIO AMARAL</td>\n",
       "      <td>16</td>\n",
       "      <td>MINAS GERAIS (UF)</td>\n",
       "      <td>Encargos especiais</td>\n",
       "      <td>Outras transferências</td>\n",
       "      <td>0903 - OPERACOES ESPECIAIS: TRANSFERENCIAS CON...</td>\n",
       "      <td>0EC2 - TRANSFERENCIAS ESPECIAIS</td>\n",
       "      <td>TRANSFERENCIAS ESPECIAIS</td>\n",
       "      <td>202439240016</td>\n",
       "      <td>100.000,00</td>\n",
       "      <td>0,00</td>\n",
       "      <td>0,00</td>\n",
       "      <td>0,00</td>\n",
       "      <td>0,00</td>\n",
       "      <td>0,00</td>\n",
       "      <td>NaN</td>\n",
       "    </tr>\n",
       "    <tr>\n",
       "      <th>2</th>\n",
       "      <td>2024</td>\n",
       "      <td>Emenda Individual - Transferências Especiais</td>\n",
       "      <td>JOAQUIM PASSARINHO</td>\n",
       "      <td>14</td>\n",
       "      <td>PARÁ (UF)</td>\n",
       "      <td>Encargos especiais</td>\n",
       "      <td>Outras transferências</td>\n",
       "      <td>0903 - OPERACOES ESPECIAIS: TRANSFERENCIAS CON...</td>\n",
       "      <td>0EC2 - TRANSFERENCIAS ESPECIAIS</td>\n",
       "      <td>TRANSFERENCIAS ESPECIAIS</td>\n",
       "      <td>202436920014</td>\n",
       "      <td>100.000,00</td>\n",
       "      <td>100.000,00</td>\n",
       "      <td>100.000,00</td>\n",
       "      <td>0,00</td>\n",
       "      <td>0,00</td>\n",
       "      <td>0,00</td>\n",
       "      <td>NaN</td>\n",
       "    </tr>\n",
       "    <tr>\n",
       "      <th>3</th>\n",
       "      <td>2022</td>\n",
       "      <td>Emenda Individual - Transferências Especiais</td>\n",
       "      <td>VINICIUS FARAH</td>\n",
       "      <td>23</td>\n",
       "      <td>PATY DO ALFERES - RJ</td>\n",
       "      <td>Encargos especiais</td>\n",
       "      <td>Outras transferências</td>\n",
       "      <td>0903 - OPERACOES ESPECIAIS: TRANSFERENCIAS CON...</td>\n",
       "      <td>0EC2 - TRANSFERENCIAS ESPECIAIS</td>\n",
       "      <td>TRANSFERENCIAS ESPECIAIS</td>\n",
       "      <td>202240750023</td>\n",
       "      <td>100.000,00</td>\n",
       "      <td>0,00</td>\n",
       "      <td>0,00</td>\n",
       "      <td>100.000,00</td>\n",
       "      <td>0,00</td>\n",
       "      <td>100.000,00</td>\n",
       "      <td>NaN</td>\n",
       "    </tr>\n",
       "    <tr>\n",
       "      <th>4</th>\n",
       "      <td>2023</td>\n",
       "      <td>Emenda Individual - Transferências Especiais</td>\n",
       "      <td>SERGIO PETECAO</td>\n",
       "      <td>8</td>\n",
       "      <td>Nacional</td>\n",
       "      <td>Encargos especiais</td>\n",
       "      <td>Outras transferências</td>\n",
       "      <td>0903 - OPERACOES ESPECIAIS: TRANSFERENCIAS CON...</td>\n",
       "      <td>0EC2 - TRANSFERENCIAS ESPECIAIS</td>\n",
       "      <td>TRANSFERENCIAS ESPECIAIS</td>\n",
       "      <td>202329140008</td>\n",
       "      <td>100.000,00</td>\n",
       "      <td>100.000,00</td>\n",
       "      <td>100.000,00</td>\n",
       "      <td>0,00</td>\n",
       "      <td>0,00</td>\n",
       "      <td>0,00</td>\n",
       "      <td>NaN</td>\n",
       "    </tr>\n",
       "  </tbody>\n",
       "</table>\n",
       "</div>"
      ],
      "text/plain": [
       "    ano                                   emenda_tipo        emenda_autor  \\\n",
       "0  2022  Emenda Individual - Transferências Especiais       MARCIO ALVINO   \n",
       "1  2024  Emenda Individual - Transferências Especiais        JUNIO AMARAL   \n",
       "2  2024  Emenda Individual - Transferências Especiais  JOAQUIM PASSARINHO   \n",
       "3  2022  Emenda Individual - Transferências Especiais      VINICIUS FARAH   \n",
       "4  2023  Emenda Individual - Transferências Especiais      SERGIO PETECAO   \n",
       "\n",
       "   emenda_nr           local_gasto              funcao              subfuncao  \\\n",
       "0          6        SÃO PAULO (UF)  Encargos especiais  Outras transferências   \n",
       "1         16     MINAS GERAIS (UF)  Encargos especiais  Outras transferências   \n",
       "2         14             PARÁ (UF)  Encargos especiais  Outras transferências   \n",
       "3         23  PATY DO ALFERES - RJ  Encargos especiais  Outras transferências   \n",
       "4          8              Nacional  Encargos especiais  Outras transferências   \n",
       "\n",
       "                                        orc_programa  \\\n",
       "0  0903 - OPERACOES ESPECIAIS: TRANSFERENCIAS CON...   \n",
       "1  0903 - OPERACOES ESPECIAIS: TRANSFERENCIAS CON...   \n",
       "2  0903 - OPERACOES ESPECIAIS: TRANSFERENCIAS CON...   \n",
       "3  0903 - OPERACOES ESPECIAIS: TRANSFERENCIAS CON...   \n",
       "4  0903 - OPERACOES ESPECIAIS: TRANSFERENCIAS CON...   \n",
       "\n",
       "                          orc_acao                 orc_plano    emenda_cod  \\\n",
       "0  0EC2 - TRANSFERENCIAS ESPECIAIS  TRANSFERENCIAS ESPECIAIS  202237170006   \n",
       "1  0EC2 - TRANSFERENCIAS ESPECIAIS  TRANSFERENCIAS ESPECIAIS  202439240016   \n",
       "2  0EC2 - TRANSFERENCIAS ESPECIAIS  TRANSFERENCIAS ESPECIAIS  202436920014   \n",
       "3  0EC2 - TRANSFERENCIAS ESPECIAIS  TRANSFERENCIAS ESPECIAIS  202240750023   \n",
       "4  0EC2 - TRANSFERENCIAS ESPECIAIS  TRANSFERENCIAS ESPECIAIS  202329140008   \n",
       "\n",
       "  vlr_empenhado vlr_liquido    vlr_pago vlr_restos_pagar_inscrito  \\\n",
       "0    100.000,00        0,00        0,00                100.000,00   \n",
       "1    100.000,00        0,00        0,00                      0,00   \n",
       "2    100.000,00  100.000,00  100.000,00                      0,00   \n",
       "3    100.000,00        0,00        0,00                100.000,00   \n",
       "4    100.000,00  100.000,00  100.000,00                      0,00   \n",
       "\n",
       "  vlr_restos_pagar_cancelados vlr_restos_pagar_pagos  outro  \n",
       "0                        0,00             100.000,00    NaN  \n",
       "1                        0,00                   0,00    NaN  \n",
       "2                        0,00                   0,00    NaN  \n",
       "3                        0,00             100.000,00    NaN  \n",
       "4                        0,00                   0,00    NaN  "
      ]
     },
     "execution_count": 73,
     "metadata": {},
     "output_type": "execute_result"
    }
   ],
   "source": [
    "# Renomeando as colunas pra trabalhar mais facilmente\n",
    "df.columns = ['ano','emenda_tipo','emenda_autor','emenda_nr','local_gasto','funcao','subfuncao','orc_programa'\n",
    "              ,'orc_acao','orc_plano','emenda_cod','vlr_empenhado','vlr_liquido','vlr_pago','vlr_restos_pagar_inscrito'\n",
    "              ,'vlr_restos_pagar_cancelados','vlr_restos_pagar_pagos','outro']\n",
    "df.head()"
   ]
  },
  {
   "cell_type": "markdown",
   "metadata": {},
   "source": [
    "### Selecionando colunas\n",
    "\n",
    "Selecionamos apenas as colunas de nosso interesse."
   ]
  },
  {
   "cell_type": "code",
   "execution_count": 74,
   "metadata": {},
   "outputs": [
    {
     "data": {
      "text/html": [
       "<div>\n",
       "<style scoped>\n",
       "    .dataframe tbody tr th:only-of-type {\n",
       "        vertical-align: middle;\n",
       "    }\n",
       "\n",
       "    .dataframe tbody tr th {\n",
       "        vertical-align: top;\n",
       "    }\n",
       "\n",
       "    .dataframe thead th {\n",
       "        text-align: right;\n",
       "    }\n",
       "</style>\n",
       "<table border=\"1\" class=\"dataframe\">\n",
       "  <thead>\n",
       "    <tr style=\"text-align: right;\">\n",
       "      <th></th>\n",
       "      <th>emenda_autor</th>\n",
       "      <th>local_gasto</th>\n",
       "      <th>vlr_empenhado</th>\n",
       "      <th>vlr_liquido</th>\n",
       "      <th>vlr_pago</th>\n",
       "      <th>vlr_restos_pagar_inscrito</th>\n",
       "      <th>vlr_restos_pagar_cancelados</th>\n",
       "      <th>vlr_restos_pagar_pagos</th>\n",
       "    </tr>\n",
       "  </thead>\n",
       "  <tbody>\n",
       "    <tr>\n",
       "      <th>0</th>\n",
       "      <td>MARCIO ALVINO</td>\n",
       "      <td>SÃO PAULO (UF)</td>\n",
       "      <td>100.000,00</td>\n",
       "      <td>0,00</td>\n",
       "      <td>0,00</td>\n",
       "      <td>100.000,00</td>\n",
       "      <td>0,00</td>\n",
       "      <td>100.000,00</td>\n",
       "    </tr>\n",
       "    <tr>\n",
       "      <th>1</th>\n",
       "      <td>JUNIO AMARAL</td>\n",
       "      <td>MINAS GERAIS (UF)</td>\n",
       "      <td>100.000,00</td>\n",
       "      <td>0,00</td>\n",
       "      <td>0,00</td>\n",
       "      <td>0,00</td>\n",
       "      <td>0,00</td>\n",
       "      <td>0,00</td>\n",
       "    </tr>\n",
       "    <tr>\n",
       "      <th>2</th>\n",
       "      <td>JOAQUIM PASSARINHO</td>\n",
       "      <td>PARÁ (UF)</td>\n",
       "      <td>100.000,00</td>\n",
       "      <td>100.000,00</td>\n",
       "      <td>100.000,00</td>\n",
       "      <td>0,00</td>\n",
       "      <td>0,00</td>\n",
       "      <td>0,00</td>\n",
       "    </tr>\n",
       "    <tr>\n",
       "      <th>3</th>\n",
       "      <td>VINICIUS FARAH</td>\n",
       "      <td>PATY DO ALFERES - RJ</td>\n",
       "      <td>100.000,00</td>\n",
       "      <td>0,00</td>\n",
       "      <td>0,00</td>\n",
       "      <td>100.000,00</td>\n",
       "      <td>0,00</td>\n",
       "      <td>100.000,00</td>\n",
       "    </tr>\n",
       "    <tr>\n",
       "      <th>4</th>\n",
       "      <td>SERGIO PETECAO</td>\n",
       "      <td>Nacional</td>\n",
       "      <td>100.000,00</td>\n",
       "      <td>100.000,00</td>\n",
       "      <td>100.000,00</td>\n",
       "      <td>0,00</td>\n",
       "      <td>0,00</td>\n",
       "      <td>0,00</td>\n",
       "    </tr>\n",
       "  </tbody>\n",
       "</table>\n",
       "</div>"
      ],
      "text/plain": [
       "         emenda_autor           local_gasto vlr_empenhado vlr_liquido  \\\n",
       "0       MARCIO ALVINO        SÃO PAULO (UF)    100.000,00        0,00   \n",
       "1        JUNIO AMARAL     MINAS GERAIS (UF)    100.000,00        0,00   \n",
       "2  JOAQUIM PASSARINHO             PARÁ (UF)    100.000,00  100.000,00   \n",
       "3      VINICIUS FARAH  PATY DO ALFERES - RJ    100.000,00        0,00   \n",
       "4      SERGIO PETECAO              Nacional    100.000,00  100.000,00   \n",
       "\n",
       "     vlr_pago vlr_restos_pagar_inscrito vlr_restos_pagar_cancelados  \\\n",
       "0        0,00                100.000,00                        0,00   \n",
       "1        0,00                      0,00                        0,00   \n",
       "2  100.000,00                      0,00                        0,00   \n",
       "3        0,00                100.000,00                        0,00   \n",
       "4  100.000,00                      0,00                        0,00   \n",
       "\n",
       "  vlr_restos_pagar_pagos  \n",
       "0             100.000,00  \n",
       "1                   0,00  \n",
       "2                   0,00  \n",
       "3             100.000,00  \n",
       "4                   0,00  "
      ]
     },
     "execution_count": 74,
     "metadata": {},
     "output_type": "execute_result"
    }
   ],
   "source": [
    "df = df[['emenda_autor', 'local_gasto','vlr_empenhado','vlr_liquido','vlr_pago','vlr_restos_pagar_inscrito','vlr_restos_pagar_cancelados','vlr_restos_pagar_pagos']]\n",
    "# print(type(df['vlr_empenhado'][0]))\n",
    "df.head()"
   ]
  },
  {
   "cell_type": "markdown",
   "metadata": {},
   "source": [
    "### Convertendo valores\n",
    "\n",
    "As colunas de valores hoje estão como tipo de dado str. Precisam ser convertidas para float. Para isso vou subtituir o separador . por nada, e depois o separador\n",
    "\n",
    "Podemos fazer coluna por coluna. Por exemplo:\n",
    "\n",
    "```python \n",
    "df['vlr_empenhado'] = df['vlr_empenhado'].apply(lambda x: float(x.replace(\".\",\"\").replace(\",\",\".\")))\n",
    "```\n",
    "\n",
    "Ou, como as colunas com valores começam com vlr_, podemos aplicar uma função nas colunas que iniciam com este prefixo."
   ]
  },
  {
   "cell_type": "code",
   "execution_count": 75,
   "metadata": {},
   "outputs": [],
   "source": [
    "# def ajustar_valores(df):\n",
    "#     df['vlr_empenhado'] = df['vlr_empenhado'].apply(lambda x: float(x.replace(\".\",\"\").replace(\",\",\".\")))\n",
    "\n",
    "#     df['vlr_liquido'] = df['vlr_liquido'].apply(lambda x: float(x.replace(\".\",\"\").replace(\",\",\".\")))\n",
    "\n",
    "#     df['vlr_pago'] = df['vlr_pago'].apply(lambda x: float(x.replace(\".\",\"\").replace(\",\",\".\")))\n",
    "\n",
    "#     df['vlr_restos_pagar_inscrito'] = df['vlr_restos_pagar_inscrito'].apply(lambda x: float(x.replace(\".\",\"\").replace(\",\",\".\")))\n",
    "\n",
    "#     df['vlr_restos_pagar_cancelados'] = df['vlr_restos_pagar_cancelados'].apply(lambda x: float(x.replace(\".\",\"\").replace(\",\",\".\")))\n",
    "\n",
    "#     df['vlr_restos_pagar_pagos'] = df['vlr_restos_pagar_pagos'].apply(lambda x: float(x.replace(\".\",\"\").replace(\",\",\".\")))\n",
    "#     return df\n",
    "\n",
    "# df = ajustar_valores(df)\n",
    "# df.info()"
   ]
  },
  {
   "cell_type": "code",
   "execution_count": 76,
   "metadata": {},
   "outputs": [
    {
     "name": "stdout",
     "output_type": "stream",
     "text": [
      "<class 'pandas.core.frame.DataFrame'>\n",
      "RangeIndex: 2849 entries, 0 to 2848\n",
      "Data columns (total 8 columns):\n",
      " #   Column                       Non-Null Count  Dtype  \n",
      "---  ------                       --------------  -----  \n",
      " 0   emenda_autor                 2849 non-null   object \n",
      " 1   local_gasto                  2849 non-null   object \n",
      " 2   vlr_empenhado                2849 non-null   float64\n",
      " 3   vlr_liquido                  2849 non-null   float64\n",
      " 4   vlr_pago                     2849 non-null   float64\n",
      " 5   vlr_restos_pagar_inscrito    2849 non-null   float64\n",
      " 6   vlr_restos_pagar_cancelados  2849 non-null   float64\n",
      " 7   vlr_restos_pagar_pagos       2849 non-null   float64\n",
      "dtypes: float64(6), object(2)\n",
      "memory usage: 178.2+ KB\n"
     ]
    }
   ],
   "source": [
    "def convert_to_float(x):\n",
    "    return float(x.replace(\".\",\"\").replace(\",\",\".\"))\n",
    "\n",
    "prefix = 'vlr_'\n",
    "# df2 = df.loc[:, df.columns.str.startswith(prefix)] = df.loc[:, df.columns.str.startswith(prefix)].apply(convert_to_float)\n",
    "colunas = [col for col in df if col.startswith(prefix)]\n",
    "for coluna in colunas:\n",
    "    df[coluna] = df[coluna].map(lambda x: convert_to_float(x))\n",
    "\n",
    "df.info()"
   ]
  },
  {
   "cell_type": "markdown",
   "metadata": {},
   "source": [
    "### Ajustando valor pago\n",
    "\n",
    "A emenda pode ter sido paga, então `vlr_pago > 0`; pode ter ido para restos a pagar, então `vlr_restos_pagar_pagos > 0`, ou ainda não ter sido paga. Estamos interessados nas que foram pagas (`vlr_pago > 0 ou vlr_restos_pagar_pagos > 0`)."
   ]
  },
  {
   "cell_type": "code",
   "execution_count": 77,
   "metadata": {},
   "outputs": [
    {
     "data": {
      "text/html": [
       "<div>\n",
       "<style scoped>\n",
       "    .dataframe tbody tr th:only-of-type {\n",
       "        vertical-align: middle;\n",
       "    }\n",
       "\n",
       "    .dataframe tbody tr th {\n",
       "        vertical-align: top;\n",
       "    }\n",
       "\n",
       "    .dataframe thead th {\n",
       "        text-align: right;\n",
       "    }\n",
       "</style>\n",
       "<table border=\"1\" class=\"dataframe\">\n",
       "  <thead>\n",
       "    <tr style=\"text-align: right;\">\n",
       "      <th></th>\n",
       "      <th>emenda_autor</th>\n",
       "      <th>local_gasto</th>\n",
       "      <th>vlr</th>\n",
       "    </tr>\n",
       "  </thead>\n",
       "  <tbody>\n",
       "    <tr>\n",
       "      <th>0</th>\n",
       "      <td>MARCIO ALVINO</td>\n",
       "      <td>SÃO PAULO (UF)</td>\n",
       "      <td>100000.0</td>\n",
       "    </tr>\n",
       "    <tr>\n",
       "      <th>2</th>\n",
       "      <td>JOAQUIM PASSARINHO</td>\n",
       "      <td>PARÁ (UF)</td>\n",
       "      <td>100000.0</td>\n",
       "    </tr>\n",
       "    <tr>\n",
       "      <th>3</th>\n",
       "      <td>VINICIUS FARAH</td>\n",
       "      <td>PATY DO ALFERES - RJ</td>\n",
       "      <td>100000.0</td>\n",
       "    </tr>\n",
       "    <tr>\n",
       "      <th>4</th>\n",
       "      <td>SERGIO PETECAO</td>\n",
       "      <td>Nacional</td>\n",
       "      <td>100000.0</td>\n",
       "    </tr>\n",
       "    <tr>\n",
       "      <th>6</th>\n",
       "      <td>EDILAZIO JUNIOR</td>\n",
       "      <td>CODÓ - MA</td>\n",
       "      <td>100000.0</td>\n",
       "    </tr>\n",
       "  </tbody>\n",
       "</table>\n",
       "</div>"
      ],
      "text/plain": [
       "         emenda_autor           local_gasto       vlr\n",
       "0       MARCIO ALVINO        SÃO PAULO (UF)  100000.0\n",
       "2  JOAQUIM PASSARINHO             PARÁ (UF)  100000.0\n",
       "3      VINICIUS FARAH  PATY DO ALFERES - RJ  100000.0\n",
       "4      SERGIO PETECAO              Nacional  100000.0\n",
       "6     EDILAZIO JUNIOR             CODÓ - MA  100000.0"
      ]
     },
     "execution_count": 77,
     "metadata": {},
     "output_type": "execute_result"
    }
   ],
   "source": [
    "# Criar nova coluna, caso a nova coluna for maior que zero\n",
    "# significa que aquela emanda foi paga\n",
    "df['vlr'] = df['vlr_pago']+df['vlr_restos_pagar_pagos']\n",
    "df = df[df['vlr']>0]\n",
    "\n",
    "# selecionar apenas colunas de interesse\n",
    "df = df[['emenda_autor','local_gasto','vlr']]\n",
    "df.head()"
   ]
  },
  {
   "cell_type": "markdown",
   "metadata": {},
   "source": [
    "## Emendas"
   ]
  },
  {
   "cell_type": "markdown",
   "metadata": {},
   "source": [
    "### Emendas Estaduais\n",
    "\n",
    "Filtrar apenas as emendas enviadas para estados.\n",
    "\n",
    "Quero a informação de qual o volume financeiro recebido e quantos políticos envolvidos."
   ]
  },
  {
   "cell_type": "code",
   "execution_count": 78,
   "metadata": {},
   "outputs": [
    {
     "data": {
      "text/html": [
       "<div>\n",
       "<style scoped>\n",
       "    .dataframe tbody tr th:only-of-type {\n",
       "        vertical-align: middle;\n",
       "    }\n",
       "\n",
       "    .dataframe tbody tr th {\n",
       "        vertical-align: top;\n",
       "    }\n",
       "\n",
       "    .dataframe thead th {\n",
       "        text-align: right;\n",
       "    }\n",
       "</style>\n",
       "<table border=\"1\" class=\"dataframe\">\n",
       "  <thead>\n",
       "    <tr style=\"text-align: right;\">\n",
       "      <th></th>\n",
       "      <th>Estado</th>\n",
       "      <th>Políticos</th>\n",
       "      <th>Emendas</th>\n",
       "      <th>Valor</th>\n",
       "    </tr>\n",
       "  </thead>\n",
       "  <tbody>\n",
       "    <tr>\n",
       "      <th>0</th>\n",
       "      <td>ACRE</td>\n",
       "      <td>19</td>\n",
       "      <td>59</td>\n",
       "      <td>R$ 270.668.887,72</td>\n",
       "    </tr>\n",
       "    <tr>\n",
       "      <th>1</th>\n",
       "      <td>ALAGOAS</td>\n",
       "      <td>16</td>\n",
       "      <td>27</td>\n",
       "      <td>R$ 288.547.617,91</td>\n",
       "    </tr>\n",
       "    <tr>\n",
       "      <th>2</th>\n",
       "      <td>AMAPÁ</td>\n",
       "      <td>18</td>\n",
       "      <td>45</td>\n",
       "      <td>R$ 350.701.642,85</td>\n",
       "    </tr>\n",
       "    <tr>\n",
       "      <th>3</th>\n",
       "      <td>AMAZONAS</td>\n",
       "      <td>12</td>\n",
       "      <td>34</td>\n",
       "      <td>R$ 242.881.420,64</td>\n",
       "    </tr>\n",
       "    <tr>\n",
       "      <th>4</th>\n",
       "      <td>BAHIA</td>\n",
       "      <td>52</td>\n",
       "      <td>148</td>\n",
       "      <td>R$ 1.075.305.291,73</td>\n",
       "    </tr>\n",
       "    <tr>\n",
       "      <th>5</th>\n",
       "      <td>CEARÁ</td>\n",
       "      <td>28</td>\n",
       "      <td>61</td>\n",
       "      <td>R$ 476.996.674,15</td>\n",
       "    </tr>\n",
       "    <tr>\n",
       "      <th>6</th>\n",
       "      <td>DISTRITO FEDERAL</td>\n",
       "      <td>4</td>\n",
       "      <td>5</td>\n",
       "      <td>R$ 28.724.356,38</td>\n",
       "    </tr>\n",
       "    <tr>\n",
       "      <th>7</th>\n",
       "      <td>ESPÍRITO SANTO</td>\n",
       "      <td>17</td>\n",
       "      <td>33</td>\n",
       "      <td>R$ 208.546.895,42</td>\n",
       "    </tr>\n",
       "    <tr>\n",
       "      <th>8</th>\n",
       "      <td>GOIÁS</td>\n",
       "      <td>28</td>\n",
       "      <td>63</td>\n",
       "      <td>R$ 449.253.444,39</td>\n",
       "    </tr>\n",
       "    <tr>\n",
       "      <th>9</th>\n",
       "      <td>MARANHÃO</td>\n",
       "      <td>32</td>\n",
       "      <td>73</td>\n",
       "      <td>R$ 642.742.781,03</td>\n",
       "    </tr>\n",
       "    <tr>\n",
       "      <th>10</th>\n",
       "      <td>MATO GROSSO</td>\n",
       "      <td>15</td>\n",
       "      <td>26</td>\n",
       "      <td>R$ 250.405.540,72</td>\n",
       "    </tr>\n",
       "    <tr>\n",
       "      <th>11</th>\n",
       "      <td>MATO GROSSO DO SUL</td>\n",
       "      <td>15</td>\n",
       "      <td>46</td>\n",
       "      <td>R$ 274.989.432,62</td>\n",
       "    </tr>\n",
       "    <tr>\n",
       "      <th>12</th>\n",
       "      <td>MINAS GERAIS</td>\n",
       "      <td>69</td>\n",
       "      <td>179</td>\n",
       "      <td>R$ 1.280.384.685,02</td>\n",
       "    </tr>\n",
       "    <tr>\n",
       "      <th>13</th>\n",
       "      <td>PARANÁ</td>\n",
       "      <td>41</td>\n",
       "      <td>110</td>\n",
       "      <td>R$ 765.282.505,91</td>\n",
       "    </tr>\n",
       "    <tr>\n",
       "      <th>14</th>\n",
       "      <td>PARAÍBA</td>\n",
       "      <td>20</td>\n",
       "      <td>71</td>\n",
       "      <td>R$ 441.416.282,17</td>\n",
       "    </tr>\n",
       "    <tr>\n",
       "      <th>15</th>\n",
       "      <td>PARÁ</td>\n",
       "      <td>28</td>\n",
       "      <td>73</td>\n",
       "      <td>R$ 529.455.591,48</td>\n",
       "    </tr>\n",
       "    <tr>\n",
       "      <th>16</th>\n",
       "      <td>PERNAMBUCO</td>\n",
       "      <td>38</td>\n",
       "      <td>81</td>\n",
       "      <td>R$ 621.529.087,67</td>\n",
       "    </tr>\n",
       "    <tr>\n",
       "      <th>17</th>\n",
       "      <td>PIAUÍ</td>\n",
       "      <td>20</td>\n",
       "      <td>47</td>\n",
       "      <td>R$ 460.788.039,12</td>\n",
       "    </tr>\n",
       "    <tr>\n",
       "      <th>18</th>\n",
       "      <td>RIO DE JANEIRO</td>\n",
       "      <td>44</td>\n",
       "      <td>82</td>\n",
       "      <td>R$ 274.456.608,74</td>\n",
       "    </tr>\n",
       "    <tr>\n",
       "      <th>19</th>\n",
       "      <td>RIO GRANDE DO NORTE</td>\n",
       "      <td>16</td>\n",
       "      <td>46</td>\n",
       "      <td>R$ 325.306.366,19</td>\n",
       "    </tr>\n",
       "    <tr>\n",
       "      <th>20</th>\n",
       "      <td>RIO GRANDE DO SUL</td>\n",
       "      <td>41</td>\n",
       "      <td>92</td>\n",
       "      <td>R$ 864.090.040,19</td>\n",
       "    </tr>\n",
       "    <tr>\n",
       "      <th>21</th>\n",
       "      <td>RONDÔNIA</td>\n",
       "      <td>17</td>\n",
       "      <td>31</td>\n",
       "      <td>R$ 378.531.271,66</td>\n",
       "    </tr>\n",
       "    <tr>\n",
       "      <th>22</th>\n",
       "      <td>RORAIMA</td>\n",
       "      <td>16</td>\n",
       "      <td>42</td>\n",
       "      <td>R$ 299.764.800,42</td>\n",
       "    </tr>\n",
       "    <tr>\n",
       "      <th>23</th>\n",
       "      <td>SANTA CATARINA</td>\n",
       "      <td>26</td>\n",
       "      <td>51</td>\n",
       "      <td>R$ 443.845.664,20</td>\n",
       "    </tr>\n",
       "    <tr>\n",
       "      <th>24</th>\n",
       "      <td>SERGIPE</td>\n",
       "      <td>17</td>\n",
       "      <td>42</td>\n",
       "      <td>R$ 356.215.023,04</td>\n",
       "    </tr>\n",
       "    <tr>\n",
       "      <th>25</th>\n",
       "      <td>SÃO PAULO</td>\n",
       "      <td>79</td>\n",
       "      <td>172</td>\n",
       "      <td>R$ 1.120.947.911,35</td>\n",
       "    </tr>\n",
       "    <tr>\n",
       "      <th>26</th>\n",
       "      <td>TOCANTINS</td>\n",
       "      <td>18</td>\n",
       "      <td>33</td>\n",
       "      <td>R$ 321.699.311,86</td>\n",
       "    </tr>\n",
       "  </tbody>\n",
       "</table>\n",
       "</div>"
      ],
      "text/plain": [
       "                 Estado  Políticos  Emendas                Valor\n",
       "0                  ACRE         19       59    R$ 270.668.887,72\n",
       "1               ALAGOAS         16       27    R$ 288.547.617,91\n",
       "2                 AMAPÁ         18       45    R$ 350.701.642,85\n",
       "3              AMAZONAS         12       34    R$ 242.881.420,64\n",
       "4                 BAHIA         52      148  R$ 1.075.305.291,73\n",
       "5                 CEARÁ         28       61    R$ 476.996.674,15\n",
       "6      DISTRITO FEDERAL          4        5     R$ 28.724.356,38\n",
       "7        ESPÍRITO SANTO         17       33    R$ 208.546.895,42\n",
       "8                 GOIÁS         28       63    R$ 449.253.444,39\n",
       "9              MARANHÃO         32       73    R$ 642.742.781,03\n",
       "10          MATO GROSSO         15       26    R$ 250.405.540,72\n",
       "11   MATO GROSSO DO SUL         15       46    R$ 274.989.432,62\n",
       "12         MINAS GERAIS         69      179  R$ 1.280.384.685,02\n",
       "13               PARANÁ         41      110    R$ 765.282.505,91\n",
       "14              PARAÍBA         20       71    R$ 441.416.282,17\n",
       "15                 PARÁ         28       73    R$ 529.455.591,48\n",
       "16           PERNAMBUCO         38       81    R$ 621.529.087,67\n",
       "17                PIAUÍ         20       47    R$ 460.788.039,12\n",
       "18       RIO DE JANEIRO         44       82    R$ 274.456.608,74\n",
       "19  RIO GRANDE DO NORTE         16       46    R$ 325.306.366,19\n",
       "20    RIO GRANDE DO SUL         41       92    R$ 864.090.040,19\n",
       "21             RONDÔNIA         17       31    R$ 378.531.271,66\n",
       "22              RORAIMA         16       42    R$ 299.764.800,42\n",
       "23       SANTA CATARINA         26       51    R$ 443.845.664,20\n",
       "24              SERGIPE         17       42    R$ 356.215.023,04\n",
       "25            SÃO PAULO         79      172  R$ 1.120.947.911,35\n",
       "26            TOCANTINS         18       33    R$ 321.699.311,86"
      ]
     },
     "execution_count": 78,
     "metadata": {},
     "output_type": "execute_result"
    }
   ],
   "source": [
    "# Emendas enviadas por estados terminam com (UF)\n",
    "emendas_estaduais = df.loc[df['local_gasto'].str.contains('(UF)',regex=False), ['local_gasto', 'vlr','emenda_autor']]\n",
    "\n",
    "# quanto foi enviado\n",
    "emendas_estaduais = (emendas_estaduais.groupby('local_gasto').agg({'local_gasto':'count', 'vlr': 'sum', 'emenda_autor':pd.Series.nunique})\n",
    "                    .rename(columns={'local_gasto':'Emendas', 'emenda_autor':'Políticos'})\n",
    "                    .reset_index())\n",
    "\n",
    "# retirando a marcação (UF) do nome do estado.\n",
    "emendas_estaduais[\"local_gasto\"] = emendas_estaduais[\"local_gasto\"].apply(lambda x: x.replace(\" (UF)\", \"\"))\n",
    "\n",
    "# renomeando a coluna local_gasto\n",
    "emendas_estaduais.rename(columns={'local_gasto':'Estado'}, inplace=True)\n",
    "\n",
    "# formatando o valor\n",
    "emendas_estaduais[\"Valor\"] = emendas_estaduais[\"vlr\"].apply(lambda x: format_currency(x, currency=\"BRL\", locale=\"pt_BR\"))\n",
    "\n",
    "emendas_estaduais[['Estado','Políticos','Emendas','Valor']]"
   ]
  },
  {
   "cell_type": "markdown",
   "metadata": {},
   "source": [
    "Vamos criar um treemap para ver melhor os dados."
   ]
  },
  {
   "cell_type": "code",
   "execution_count": null,
   "metadata": {},
   "outputs": [
    {
     "data": {
      "application/vnd.plotly.v1+json": {
       "config": {
        "plotlyServerURL": "https://plot.ly"
       },
       "data": [
        {
         "branchvalues": "total",
         "customdata": [
          [
           270668887.72
          ],
          [
           288547617.91
          ],
          [
           350701642.85
          ],
          [
           242881420.64
          ],
          [
           1075305291.73
          ],
          [
           476996674.15
          ],
          [
           28724356.38
          ],
          [
           208546895.41999996
          ],
          [
           449253444.39
          ],
          [
           642742781.03
          ],
          [
           250405540.72
          ],
          [
           274989432.62
          ],
          [
           1280384685.02
          ],
          [
           765282505.91
          ],
          [
           441416282.1700001
          ],
          [
           529455591.48
          ],
          [
           621529087.67
          ],
          [
           460788039.12
          ],
          [
           274456608.74
          ],
          [
           325306366.19
          ],
          [
           864090040.1900002
          ],
          [
           378531271.65999997
          ],
          [
           299764800.42
          ],
          [
           443845664.1999999
          ],
          [
           356215023.04
          ],
          [
           1120947911.35
          ],
          [
           321699311.86
          ],
          [
           664208269.0815128
          ]
         ],
         "domain": {
          "x": [
           0,
           1
          ],
          "y": [
           0,
           1
          ]
         },
         "hovertemplate": "labels=%{label}<br>vlr_sum=%{value}<br>parent=%{parent}<br>id=%{id}<br>vlr=%{color}<extra></extra>",
         "ids": [
          "Brasil/ACRE",
          "Brasil/ALAGOAS",
          "Brasil/AMAPÁ",
          "Brasil/AMAZONAS",
          "Brasil/BAHIA",
          "Brasil/CEARÁ",
          "Brasil/DISTRITO FEDERAL",
          "Brasil/ESPÍRITO SANTO",
          "Brasil/GOIÁS",
          "Brasil/MARANHÃO",
          "Brasil/MATO GROSSO",
          "Brasil/MATO GROSSO DO SUL",
          "Brasil/MINAS GERAIS",
          "Brasil/PARANÁ",
          "Brasil/PARAÍBA",
          "Brasil/PARÁ",
          "Brasil/PERNAMBUCO",
          "Brasil/PIAUÍ",
          "Brasil/RIO DE JANEIRO",
          "Brasil/RIO GRANDE DO NORTE",
          "Brasil/RIO GRANDE DO SUL",
          "Brasil/RONDÔNIA",
          "Brasil/RORAIMA",
          "Brasil/SANTA CATARINA",
          "Brasil/SERGIPE",
          "Brasil/SÃO PAULO",
          "Brasil/TOCANTINS",
          "Brasil"
         ],
         "labels": [
          "ACRE",
          "ALAGOAS",
          "AMAPÁ",
          "AMAZONAS",
          "BAHIA",
          "CEARÁ",
          "DISTRITO FEDERAL",
          "ESPÍRITO SANTO",
          "GOIÁS",
          "MARANHÃO",
          "MATO GROSSO",
          "MATO GROSSO DO SUL",
          "MINAS GERAIS",
          "PARANÁ",
          "PARAÍBA",
          "PARÁ",
          "PERNAMBUCO",
          "PIAUÍ",
          "RIO DE JANEIRO",
          "RIO GRANDE DO NORTE",
          "RIO GRANDE DO SUL",
          "RONDÔNIA",
          "RORAIMA",
          "SANTA CATARINA",
          "SERGIPE",
          "SÃO PAULO",
          "TOCANTINS",
          "Brasil"
         ],
         "marker": {
          "coloraxis": "coloraxis",
          "colors": [
           270668887.72,
           288547617.91,
           350701642.85,
           242881420.64,
           1075305291.73,
           476996674.15,
           28724356.38,
           208546895.41999996,
           449253444.39,
           642742781.03,
           250405540.72,
           274989432.62,
           1280384685.02,
           765282505.91,
           441416282.1700001,
           529455591.48,
           621529087.67,
           460788039.12,
           274456608.74,
           325306366.19,
           864090040.1900002,
           378531271.65999997,
           299764800.42,
           443845664.1999999,
           356215023.04,
           1120947911.35,
           321699311.86,
           664208269.0815128
          ]
         },
         "name": "asdasdasd",
         "opacity": 0.75,
         "parents": [
          "Brasil",
          "Brasil",
          "Brasil",
          "Brasil",
          "Brasil",
          "Brasil",
          "Brasil",
          "Brasil",
          "Brasil",
          "Brasil",
          "Brasil",
          "Brasil",
          "Brasil",
          "Brasil",
          "Brasil",
          "Brasil",
          "Brasil",
          "Brasil",
          "Brasil",
          "Brasil",
          "Brasil",
          "Brasil",
          "Brasil",
          "Brasil",
          "Brasil",
          "Brasil",
          "Brasil",
          ""
         ],
         "root": {
          "color": "lightgrey"
         },
         "text": [
          "270.67M",
          "288.55M",
          "350.70M",
          "242.88M",
          "1.08B",
          "477.00M",
          "28.72M",
          "208.55M",
          "449.25M",
          "642.74M",
          "250.41M",
          "274.99M",
          "1.28B",
          "765.28M",
          "441.42M",
          "529.46M",
          "621.53M",
          "460.79M",
          "274.46M",
          "325.31M",
          "864.09M",
          "378.53M",
          "299.76M",
          "443.85M",
          "356.22M",
          "1.12B",
          "321.70M"
         ],
         "textinfo": "label+text+percent root",
         "type": "treemap",
         "values": [
          270668887.72,
          288547617.91,
          350701642.85,
          242881420.64,
          1075305291.73,
          476996674.15,
          28724356.38,
          208546895.42,
          449253444.39,
          642742781.03,
          250405540.72,
          274989432.62,
          1280384685.02,
          765282505.91,
          441416282.17,
          529455591.48,
          621529087.67,
          460788039.12,
          274456608.74,
          325306366.19,
          864090040.19,
          378531271.65999997,
          299764800.42,
          443845664.2,
          356215023.04,
          1120947911.35,
          321699311.86,
          13043477174.58
         ]
        }
       ],
       "layout": {
        "coloraxis": {
         "colorbar": {
          "title": {
           "text": "vlr"
          }
         },
         "colorscale": [
          [
           0,
           "#440154"
          ],
          [
           0.1111111111111111,
           "#482878"
          ],
          [
           0.2222222222222222,
           "#3e4989"
          ],
          [
           0.3333333333333333,
           "#31688e"
          ],
          [
           0.4444444444444444,
           "#26828e"
          ],
          [
           0.5555555555555556,
           "#1f9e89"
          ],
          [
           0.6666666666666666,
           "#35b779"
          ],
          [
           0.7777777777777778,
           "#6ece58"
          ],
          [
           0.8888888888888888,
           "#b5de2b"
          ],
          [
           1,
           "#fde725"
          ]
         ]
        },
        "legend": {
         "tracegroupgap": 0
        },
        "margin": {
         "t": 60
        },
        "template": {
         "data": {
          "bar": [
           {
            "error_x": {
             "color": "#2a3f5f"
            },
            "error_y": {
             "color": "#2a3f5f"
            },
            "marker": {
             "line": {
              "color": "#E5ECF6",
              "width": 0.5
             },
             "pattern": {
              "fillmode": "overlay",
              "size": 10,
              "solidity": 0.2
             }
            },
            "type": "bar"
           }
          ],
          "barpolar": [
           {
            "marker": {
             "line": {
              "color": "#E5ECF6",
              "width": 0.5
             },
             "pattern": {
              "fillmode": "overlay",
              "size": 10,
              "solidity": 0.2
             }
            },
            "type": "barpolar"
           }
          ],
          "carpet": [
           {
            "aaxis": {
             "endlinecolor": "#2a3f5f",
             "gridcolor": "white",
             "linecolor": "white",
             "minorgridcolor": "white",
             "startlinecolor": "#2a3f5f"
            },
            "baxis": {
             "endlinecolor": "#2a3f5f",
             "gridcolor": "white",
             "linecolor": "white",
             "minorgridcolor": "white",
             "startlinecolor": "#2a3f5f"
            },
            "type": "carpet"
           }
          ],
          "choropleth": [
           {
            "colorbar": {
             "outlinewidth": 0,
             "ticks": ""
            },
            "type": "choropleth"
           }
          ],
          "contour": [
           {
            "colorbar": {
             "outlinewidth": 0,
             "ticks": ""
            },
            "colorscale": [
             [
              0,
              "#0d0887"
             ],
             [
              0.1111111111111111,
              "#46039f"
             ],
             [
              0.2222222222222222,
              "#7201a8"
             ],
             [
              0.3333333333333333,
              "#9c179e"
             ],
             [
              0.4444444444444444,
              "#bd3786"
             ],
             [
              0.5555555555555556,
              "#d8576b"
             ],
             [
              0.6666666666666666,
              "#ed7953"
             ],
             [
              0.7777777777777778,
              "#fb9f3a"
             ],
             [
              0.8888888888888888,
              "#fdca26"
             ],
             [
              1,
              "#f0f921"
             ]
            ],
            "type": "contour"
           }
          ],
          "contourcarpet": [
           {
            "colorbar": {
             "outlinewidth": 0,
             "ticks": ""
            },
            "type": "contourcarpet"
           }
          ],
          "heatmap": [
           {
            "colorbar": {
             "outlinewidth": 0,
             "ticks": ""
            },
            "colorscale": [
             [
              0,
              "#0d0887"
             ],
             [
              0.1111111111111111,
              "#46039f"
             ],
             [
              0.2222222222222222,
              "#7201a8"
             ],
             [
              0.3333333333333333,
              "#9c179e"
             ],
             [
              0.4444444444444444,
              "#bd3786"
             ],
             [
              0.5555555555555556,
              "#d8576b"
             ],
             [
              0.6666666666666666,
              "#ed7953"
             ],
             [
              0.7777777777777778,
              "#fb9f3a"
             ],
             [
              0.8888888888888888,
              "#fdca26"
             ],
             [
              1,
              "#f0f921"
             ]
            ],
            "type": "heatmap"
           }
          ],
          "heatmapgl": [
           {
            "colorbar": {
             "outlinewidth": 0,
             "ticks": ""
            },
            "colorscale": [
             [
              0,
              "#0d0887"
             ],
             [
              0.1111111111111111,
              "#46039f"
             ],
             [
              0.2222222222222222,
              "#7201a8"
             ],
             [
              0.3333333333333333,
              "#9c179e"
             ],
             [
              0.4444444444444444,
              "#bd3786"
             ],
             [
              0.5555555555555556,
              "#d8576b"
             ],
             [
              0.6666666666666666,
              "#ed7953"
             ],
             [
              0.7777777777777778,
              "#fb9f3a"
             ],
             [
              0.8888888888888888,
              "#fdca26"
             ],
             [
              1,
              "#f0f921"
             ]
            ],
            "type": "heatmapgl"
           }
          ],
          "histogram": [
           {
            "marker": {
             "pattern": {
              "fillmode": "overlay",
              "size": 10,
              "solidity": 0.2
             }
            },
            "type": "histogram"
           }
          ],
          "histogram2d": [
           {
            "colorbar": {
             "outlinewidth": 0,
             "ticks": ""
            },
            "colorscale": [
             [
              0,
              "#0d0887"
             ],
             [
              0.1111111111111111,
              "#46039f"
             ],
             [
              0.2222222222222222,
              "#7201a8"
             ],
             [
              0.3333333333333333,
              "#9c179e"
             ],
             [
              0.4444444444444444,
              "#bd3786"
             ],
             [
              0.5555555555555556,
              "#d8576b"
             ],
             [
              0.6666666666666666,
              "#ed7953"
             ],
             [
              0.7777777777777778,
              "#fb9f3a"
             ],
             [
              0.8888888888888888,
              "#fdca26"
             ],
             [
              1,
              "#f0f921"
             ]
            ],
            "type": "histogram2d"
           }
          ],
          "histogram2dcontour": [
           {
            "colorbar": {
             "outlinewidth": 0,
             "ticks": ""
            },
            "colorscale": [
             [
              0,
              "#0d0887"
             ],
             [
              0.1111111111111111,
              "#46039f"
             ],
             [
              0.2222222222222222,
              "#7201a8"
             ],
             [
              0.3333333333333333,
              "#9c179e"
             ],
             [
              0.4444444444444444,
              "#bd3786"
             ],
             [
              0.5555555555555556,
              "#d8576b"
             ],
             [
              0.6666666666666666,
              "#ed7953"
             ],
             [
              0.7777777777777778,
              "#fb9f3a"
             ],
             [
              0.8888888888888888,
              "#fdca26"
             ],
             [
              1,
              "#f0f921"
             ]
            ],
            "type": "histogram2dcontour"
           }
          ],
          "mesh3d": [
           {
            "colorbar": {
             "outlinewidth": 0,
             "ticks": ""
            },
            "type": "mesh3d"
           }
          ],
          "parcoords": [
           {
            "line": {
             "colorbar": {
              "outlinewidth": 0,
              "ticks": ""
             }
            },
            "type": "parcoords"
           }
          ],
          "pie": [
           {
            "automargin": true,
            "type": "pie"
           }
          ],
          "scatter": [
           {
            "fillpattern": {
             "fillmode": "overlay",
             "size": 10,
             "solidity": 0.2
            },
            "type": "scatter"
           }
          ],
          "scatter3d": [
           {
            "line": {
             "colorbar": {
              "outlinewidth": 0,
              "ticks": ""
             }
            },
            "marker": {
             "colorbar": {
              "outlinewidth": 0,
              "ticks": ""
             }
            },
            "type": "scatter3d"
           }
          ],
          "scattercarpet": [
           {
            "marker": {
             "colorbar": {
              "outlinewidth": 0,
              "ticks": ""
             }
            },
            "type": "scattercarpet"
           }
          ],
          "scattergeo": [
           {
            "marker": {
             "colorbar": {
              "outlinewidth": 0,
              "ticks": ""
             }
            },
            "type": "scattergeo"
           }
          ],
          "scattergl": [
           {
            "marker": {
             "colorbar": {
              "outlinewidth": 0,
              "ticks": ""
             }
            },
            "type": "scattergl"
           }
          ],
          "scattermapbox": [
           {
            "marker": {
             "colorbar": {
              "outlinewidth": 0,
              "ticks": ""
             }
            },
            "type": "scattermapbox"
           }
          ],
          "scatterpolar": [
           {
            "marker": {
             "colorbar": {
              "outlinewidth": 0,
              "ticks": ""
             }
            },
            "type": "scatterpolar"
           }
          ],
          "scatterpolargl": [
           {
            "marker": {
             "colorbar": {
              "outlinewidth": 0,
              "ticks": ""
             }
            },
            "type": "scatterpolargl"
           }
          ],
          "scatterternary": [
           {
            "marker": {
             "colorbar": {
              "outlinewidth": 0,
              "ticks": ""
             }
            },
            "type": "scatterternary"
           }
          ],
          "surface": [
           {
            "colorbar": {
             "outlinewidth": 0,
             "ticks": ""
            },
            "colorscale": [
             [
              0,
              "#0d0887"
             ],
             [
              0.1111111111111111,
              "#46039f"
             ],
             [
              0.2222222222222222,
              "#7201a8"
             ],
             [
              0.3333333333333333,
              "#9c179e"
             ],
             [
              0.4444444444444444,
              "#bd3786"
             ],
             [
              0.5555555555555556,
              "#d8576b"
             ],
             [
              0.6666666666666666,
              "#ed7953"
             ],
             [
              0.7777777777777778,
              "#fb9f3a"
             ],
             [
              0.8888888888888888,
              "#fdca26"
             ],
             [
              1,
              "#f0f921"
             ]
            ],
            "type": "surface"
           }
          ],
          "table": [
           {
            "cells": {
             "fill": {
              "color": "#EBF0F8"
             },
             "line": {
              "color": "white"
             }
            },
            "header": {
             "fill": {
              "color": "#C8D4E3"
             },
             "line": {
              "color": "white"
             }
            },
            "type": "table"
           }
          ]
         },
         "layout": {
          "annotationdefaults": {
           "arrowcolor": "#2a3f5f",
           "arrowhead": 0,
           "arrowwidth": 1
          },
          "autotypenumbers": "strict",
          "coloraxis": {
           "colorbar": {
            "outlinewidth": 0,
            "ticks": ""
           }
          },
          "colorscale": {
           "diverging": [
            [
             0,
             "#8e0152"
            ],
            [
             0.1,
             "#c51b7d"
            ],
            [
             0.2,
             "#de77ae"
            ],
            [
             0.3,
             "#f1b6da"
            ],
            [
             0.4,
             "#fde0ef"
            ],
            [
             0.5,
             "#f7f7f7"
            ],
            [
             0.6,
             "#e6f5d0"
            ],
            [
             0.7,
             "#b8e186"
            ],
            [
             0.8,
             "#7fbc41"
            ],
            [
             0.9,
             "#4d9221"
            ],
            [
             1,
             "#276419"
            ]
           ],
           "sequential": [
            [
             0,
             "#0d0887"
            ],
            [
             0.1111111111111111,
             "#46039f"
            ],
            [
             0.2222222222222222,
             "#7201a8"
            ],
            [
             0.3333333333333333,
             "#9c179e"
            ],
            [
             0.4444444444444444,
             "#bd3786"
            ],
            [
             0.5555555555555556,
             "#d8576b"
            ],
            [
             0.6666666666666666,
             "#ed7953"
            ],
            [
             0.7777777777777778,
             "#fb9f3a"
            ],
            [
             0.8888888888888888,
             "#fdca26"
            ],
            [
             1,
             "#f0f921"
            ]
           ],
           "sequentialminus": [
            [
             0,
             "#0d0887"
            ],
            [
             0.1111111111111111,
             "#46039f"
            ],
            [
             0.2222222222222222,
             "#7201a8"
            ],
            [
             0.3333333333333333,
             "#9c179e"
            ],
            [
             0.4444444444444444,
             "#bd3786"
            ],
            [
             0.5555555555555556,
             "#d8576b"
            ],
            [
             0.6666666666666666,
             "#ed7953"
            ],
            [
             0.7777777777777778,
             "#fb9f3a"
            ],
            [
             0.8888888888888888,
             "#fdca26"
            ],
            [
             1,
             "#f0f921"
            ]
           ]
          },
          "colorway": [
           "#636efa",
           "#EF553B",
           "#00cc96",
           "#ab63fa",
           "#FFA15A",
           "#19d3f3",
           "#FF6692",
           "#B6E880",
           "#FF97FF",
           "#FECB52"
          ],
          "font": {
           "color": "#2a3f5f"
          },
          "geo": {
           "bgcolor": "white",
           "lakecolor": "white",
           "landcolor": "#E5ECF6",
           "showlakes": true,
           "showland": true,
           "subunitcolor": "white"
          },
          "hoverlabel": {
           "align": "left"
          },
          "hovermode": "closest",
          "mapbox": {
           "style": "light"
          },
          "paper_bgcolor": "white",
          "plot_bgcolor": "#E5ECF6",
          "polar": {
           "angularaxis": {
            "gridcolor": "white",
            "linecolor": "white",
            "ticks": ""
           },
           "bgcolor": "#E5ECF6",
           "radialaxis": {
            "gridcolor": "white",
            "linecolor": "white",
            "ticks": ""
           }
          },
          "scene": {
           "xaxis": {
            "backgroundcolor": "#E5ECF6",
            "gridcolor": "white",
            "gridwidth": 2,
            "linecolor": "white",
            "showbackground": true,
            "ticks": "",
            "zerolinecolor": "white"
           },
           "yaxis": {
            "backgroundcolor": "#E5ECF6",
            "gridcolor": "white",
            "gridwidth": 2,
            "linecolor": "white",
            "showbackground": true,
            "ticks": "",
            "zerolinecolor": "white"
           },
           "zaxis": {
            "backgroundcolor": "#E5ECF6",
            "gridcolor": "white",
            "gridwidth": 2,
            "linecolor": "white",
            "showbackground": true,
            "ticks": "",
            "zerolinecolor": "white"
           }
          },
          "shapedefaults": {
           "line": {
            "color": "#2a3f5f"
           }
          },
          "ternary": {
           "aaxis": {
            "gridcolor": "white",
            "linecolor": "white",
            "ticks": ""
           },
           "baxis": {
            "gridcolor": "white",
            "linecolor": "white",
            "ticks": ""
           },
           "bgcolor": "#E5ECF6",
           "caxis": {
            "gridcolor": "white",
            "linecolor": "white",
            "ticks": ""
           }
          },
          "title": {
           "x": 0.05
          },
          "xaxis": {
           "automargin": true,
           "gridcolor": "white",
           "linecolor": "white",
           "ticks": "",
           "title": {
            "standoff": 15
           },
           "zerolinecolor": "white",
           "zerolinewidth": 2
          },
          "yaxis": {
           "automargin": true,
           "gridcolor": "white",
           "linecolor": "white",
           "ticks": "",
           "title": {
            "standoff": 15
           },
           "zerolinecolor": "white",
           "zerolinewidth": 2
          }
         }
        }
       }
      }
     },
     "metadata": {},
     "output_type": "display_data"
    }
   ],
   "source": [
    "# apresentar os valores no formato 1K, 1M, 1B\n",
    "def f(row):\n",
    "    if row['vlr'] >= 10**9:\n",
    "        val = row['vlr']/10**9\n",
    "        val = '{0:.2f}B'.format(val)\n",
    "    elif row['vlr'] >= 10**6 and row['vlr'] < 10**9:\n",
    "        val = row['vlr']/10**6\n",
    "        val = '{0:.2f}M'.format(val)\n",
    "    elif row['vlr'] >= 10**3 and row['vlr'] < 10**6:\n",
    "        val = row['vlr']/10**3\n",
    "        val = '{0:.2f}K'.format(val)\n",
    "    else:\n",
    "        val = '{0:.2f}'.format(row['vlr'])\n",
    "    return val\n",
    "\n",
    "emendas_estaduais['vlr_prty'] = emendas_estaduais.apply(f, axis=1)\n",
    "\n",
    "# treemap com os valores por estado\n",
    "fig1 = px.treemap(emendas_estaduais, path=[px.Constant(\"Brasil\"), \"Estado\"], values=\"vlr\", color=\"vlr\", color_continuous_scale='viridis')\n",
    "fig1.update_traces(\n",
    "text=emendas_estaduais['vlr_prty'],\n",
    "textinfo=\"label+text+percent root\", root_color=\"lightgrey\", selector=dict(type='treemap')\n",
    ", name=\"asdasdasd\", opacity=0.75\n",
    ")\n",
    "fig1.show()"
   ]
  },
  {
   "cell_type": "markdown",
   "metadata": {},
   "source": [
    "## Emendas Ceará\n",
    "\n",
    "- [ ] quais políticos enviaram emendas"
   ]
  },
  {
   "cell_type": "code",
   "execution_count": 99,
   "metadata": {},
   "outputs": [
    {
     "data": {
      "text/html": [
       "<div>\n",
       "<style scoped>\n",
       "    .dataframe tbody tr th:only-of-type {\n",
       "        vertical-align: middle;\n",
       "    }\n",
       "\n",
       "    .dataframe tbody tr th {\n",
       "        vertical-align: top;\n",
       "    }\n",
       "\n",
       "    .dataframe thead th {\n",
       "        text-align: right;\n",
       "    }\n",
       "</style>\n",
       "<table border=\"1\" class=\"dataframe\">\n",
       "  <thead>\n",
       "    <tr style=\"text-align: right;\">\n",
       "      <th></th>\n",
       "      <th>emenda_autor</th>\n",
       "      <th>local_gasto</th>\n",
       "      <th>vlr</th>\n",
       "    </tr>\n",
       "  </thead>\n",
       "  <tbody>\n",
       "    <tr>\n",
       "      <th>0</th>\n",
       "      <td>ROBERIO MONTEIRO</td>\n",
       "      <td>MORADA NOVA</td>\n",
       "      <td>100000.0</td>\n",
       "    </tr>\n",
       "    <tr>\n",
       "      <th>1</th>\n",
       "      <td>CID GOMES</td>\n",
       "      <td>COREAÚ</td>\n",
       "      <td>250000.0</td>\n",
       "    </tr>\n",
       "    <tr>\n",
       "      <th>2</th>\n",
       "      <td>CID GOMES</td>\n",
       "      <td>ALCÂNTARAS</td>\n",
       "      <td>250000.0</td>\n",
       "    </tr>\n",
       "    <tr>\n",
       "      <th>3</th>\n",
       "      <td>ROBERIO MONTEIRO</td>\n",
       "      <td>BELA CRUZ</td>\n",
       "      <td>400000.0</td>\n",
       "    </tr>\n",
       "    <tr>\n",
       "      <th>4</th>\n",
       "      <td>PEDRO AUGUSTO BEZERRA</td>\n",
       "      <td>PARACURU</td>\n",
       "      <td>500000.0</td>\n",
       "    </tr>\n",
       "  </tbody>\n",
       "</table>\n",
       "</div>"
      ],
      "text/plain": [
       "            emenda_autor  local_gasto       vlr\n",
       "0       ROBERIO MONTEIRO  MORADA NOVA  100000.0\n",
       "1              CID GOMES       COREAÚ  250000.0\n",
       "2              CID GOMES   ALCÂNTARAS  250000.0\n",
       "3       ROBERIO MONTEIRO    BELA CRUZ  400000.0\n",
       "4  PEDRO AUGUSTO BEZERRA     PARACURU  500000.0"
      ]
     },
     "execution_count": 99,
     "metadata": {},
     "output_type": "execute_result"
    }
   ],
   "source": [
    "# Dados do estado do ceará e das cidades do ceará\n",
    "def separar_dados_ce(df):\n",
    "    # emenda direto pro estado do Ceará\n",
    "    df_estado = df.loc[df['local_gasto']=='CEARÁ (UF)']\n",
    "\n",
    "    # emendas para as cidade tem a marcação \"- CE\"\n",
    "    df_cidades = df.loc[df['local_gasto'].str.contains('- CE')]\n",
    "\n",
    "    # limpando o nome das cidades, retirando a marcação \"- CE\"\n",
    "    # df_cidades['local_gasto'] = df_cidades[\"local_gasto\"].apply(lambda x: x.replace(\" - CE\", \"\"))\n",
    "    \n",
    "    # df_ce = pd.concat([df_estados, df_cidades], axis=0)\n",
    "    # df_ce = df_ce[['emenda_autor', 'local_gasto','vlr','vlr_empenhado','vlr_liquido','vlr_pago','vlr_restos_pagar_inscrito','vlr_restos_pagar_cancelados','vlr_restos_pagar_pagos']]\n",
    "    # df_ce = pd.DataFrame(df_ce).sort_values(by=['vlr'], ascending=False)\n",
    "    # return df_ce\n",
    "    return df_estado.reset_index(drop=True), df_cidades.reset_index(drop=True)\n",
    "\n",
    "df_ce, df_cidades = separar_dados_ce(df)\n",
    "# df_cidades.head()\n",
    "\n",
    "# limpando o nome das cidades\n",
    "df_cidades['local_gasto'] = df_cidades[\"local_gasto\"].apply(lambda x: x.replace(\" - CE\", \"\"))\n",
    "df_cidades.head()"
   ]
  },
  {
   "cell_type": "markdown",
   "metadata": {},
   "source": [
    "### Cidades Recebedoras"
   ]
  },
  {
   "cell_type": "markdown",
   "metadata": {},
   "source": [
    "Cidades que receberam emendas. Filtrando apenas cidades que já receberam."
   ]
  },
  {
   "cell_type": "code",
   "execution_count": 81,
   "metadata": {},
   "outputs": [
    {
     "data": {
      "text/html": [
       "<div>\n",
       "<style scoped>\n",
       "    .dataframe tbody tr th:only-of-type {\n",
       "        vertical-align: middle;\n",
       "    }\n",
       "\n",
       "    .dataframe tbody tr th {\n",
       "        vertical-align: top;\n",
       "    }\n",
       "\n",
       "    .dataframe thead th {\n",
       "        text-align: right;\n",
       "    }\n",
       "</style>\n",
       "<table border=\"1\" class=\"dataframe\">\n",
       "  <thead>\n",
       "    <tr style=\"text-align: right;\">\n",
       "      <th></th>\n",
       "      <th>0</th>\n",
       "      <th>1</th>\n",
       "      <th>2</th>\n",
       "      <th>3</th>\n",
       "      <th>4</th>\n",
       "    </tr>\n",
       "  </thead>\n",
       "  <tbody>\n",
       "    <tr>\n",
       "      <th>0</th>\n",
       "      <td>ACARAÚ</td>\n",
       "      <td>ALCÂNTARAS</td>\n",
       "      <td>ALTANEIRA</td>\n",
       "      <td>AMONTADA</td>\n",
       "      <td>AQUIRAZ</td>\n",
       "    </tr>\n",
       "    <tr>\n",
       "      <th>1</th>\n",
       "      <td>ARATUBA</td>\n",
       "      <td>ASSARÉ</td>\n",
       "      <td>BELA CRUZ</td>\n",
       "      <td>BOA VIAGEM</td>\n",
       "      <td>CARIRIAÇU</td>\n",
       "    </tr>\n",
       "    <tr>\n",
       "      <th>2</th>\n",
       "      <td>CARIRÉ</td>\n",
       "      <td>CHAVAL</td>\n",
       "      <td>CHOROZINHO</td>\n",
       "      <td>CHORÓ</td>\n",
       "      <td>COREAÚ</td>\n",
       "    </tr>\n",
       "    <tr>\n",
       "      <th>3</th>\n",
       "      <td>CRUZ</td>\n",
       "      <td>FORTIM</td>\n",
       "      <td>FRECHEIRINHA</td>\n",
       "      <td>GRANJA</td>\n",
       "      <td>IBIAPINA</td>\n",
       "    </tr>\n",
       "    <tr>\n",
       "      <th>4</th>\n",
       "      <td>IBICUITINGA</td>\n",
       "      <td>ICÓ</td>\n",
       "      <td>IPU</td>\n",
       "      <td>IRACEMA</td>\n",
       "      <td>ITAPIPOCA</td>\n",
       "    </tr>\n",
       "    <tr>\n",
       "      <th>5</th>\n",
       "      <td>ITAREMA</td>\n",
       "      <td>JAGUARIBARA</td>\n",
       "      <td>JAGUARIBE</td>\n",
       "      <td>MARANGUAPE</td>\n",
       "      <td>MILHÃ</td>\n",
       "    </tr>\n",
       "    <tr>\n",
       "      <th>6</th>\n",
       "      <td>MONSENHOR TABOSA</td>\n",
       "      <td>MORADA NOVA</td>\n",
       "      <td>MORAÚJO</td>\n",
       "      <td>MUCAMBO</td>\n",
       "      <td>NOVA RUSSAS</td>\n",
       "    </tr>\n",
       "    <tr>\n",
       "      <th>7</th>\n",
       "      <td>NOVO ORIENTE</td>\n",
       "      <td>PARACURU</td>\n",
       "      <td>PARAIPABA</td>\n",
       "      <td>PARAMBU</td>\n",
       "      <td>PEDRA BRANCA</td>\n",
       "    </tr>\n",
       "    <tr>\n",
       "      <th>8</th>\n",
       "      <td>PENTECOSTE</td>\n",
       "      <td>PIRES FERREIRA</td>\n",
       "      <td>QUITERIANÓPOLIS</td>\n",
       "      <td>RERIUTABA</td>\n",
       "      <td>RUSSAS</td>\n",
       "    </tr>\n",
       "    <tr>\n",
       "      <th>9</th>\n",
       "      <td>SENADOR POMPEU</td>\n",
       "      <td>SÃO BENEDITO</td>\n",
       "      <td>TAMBORIL</td>\n",
       "      <td>URUOCA</td>\n",
       "      <td></td>\n",
       "    </tr>\n",
       "  </tbody>\n",
       "</table>\n",
       "</div>"
      ],
      "text/plain": [
       "                  0               1                2           3             4\n",
       "0            ACARAÚ      ALCÂNTARAS        ALTANEIRA    AMONTADA       AQUIRAZ\n",
       "1           ARATUBA          ASSARÉ        BELA CRUZ  BOA VIAGEM     CARIRIAÇU\n",
       "2            CARIRÉ          CHAVAL       CHOROZINHO       CHORÓ        COREAÚ\n",
       "3              CRUZ          FORTIM     FRECHEIRINHA      GRANJA      IBIAPINA\n",
       "4       IBICUITINGA             ICÓ              IPU     IRACEMA     ITAPIPOCA\n",
       "5           ITAREMA     JAGUARIBARA        JAGUARIBE  MARANGUAPE         MILHÃ\n",
       "6  MONSENHOR TABOSA     MORADA NOVA          MORAÚJO     MUCAMBO   NOVA RUSSAS\n",
       "7      NOVO ORIENTE        PARACURU        PARAIPABA     PARAMBU  PEDRA BRANCA\n",
       "8        PENTECOSTE  PIRES FERREIRA  QUITERIANÓPOLIS   RERIUTABA        RUSSAS\n",
       "9    SENADOR POMPEU    SÃO BENEDITO         TAMBORIL      URUOCA              "
      ]
     },
     "execution_count": 81,
     "metadata": {},
     "output_type": "execute_result"
    }
   ],
   "source": [
    "def cidades_emendas(df_ce):\n",
    "    locais = sorted(df_ce['local_gasto'].unique())\n",
    "    locais = pd.DataFrame({'cidade':locais})\n",
    "    return locais\n",
    "\n",
    "\n",
    "def espalhar_cidades(series):\n",
    "    # Create a pandas Series\n",
    "    # Number of columns\n",
    "    n = 5\n",
    "\n",
    "    # Calculate the number of rows needed\n",
    "    num_rows = int(np.ceil(len(series) / n))\n",
    "\n",
    "    # Pad the Series with NaN values if necessary\n",
    "    padded_series = np.pad(series, (0, num_rows * n - len(series)), constant_values='')\n",
    "\n",
    "    # Reshape the Series and convert it to a DataFrame\n",
    "    reshaped_array = padded_series.reshape(num_rows, n)\n",
    "    return pd.DataFrame(reshaped_array)\n",
    "\n",
    "\n",
    "locais = cidades_emendas(df_cidades)\n",
    "\n",
    "#limpando o nome das cidades\n",
    "# locais['cidade'] = locais[\"cidade\"].apply(lambda x: x.replace(\" - CE\", \"\"))\n",
    "locais\n",
    "\n",
    "\n",
    "# quero espalhar esta lista num dataframe para visualizar melhor\n",
    "df_locais = espalhar_cidades(locais['cidade'])\n",
    "df_locais\n"
   ]
  },
  {
   "cell_type": "markdown",
   "metadata": {},
   "source": [
    "### Cidade e valor recebido\n",
    "\n",
    "Quanto cada cidade recebeu e de quantos políticos diferentes."
   ]
  },
  {
   "cell_type": "code",
   "execution_count": 97,
   "metadata": {},
   "outputs": [
    {
     "data": {
      "text/html": [
       "<div>\n",
       "<style scoped>\n",
       "    .dataframe tbody tr th:only-of-type {\n",
       "        vertical-align: middle;\n",
       "    }\n",
       "\n",
       "    .dataframe tbody tr th {\n",
       "        vertical-align: top;\n",
       "    }\n",
       "\n",
       "    .dataframe thead th {\n",
       "        text-align: right;\n",
       "    }\n",
       "</style>\n",
       "<table border=\"1\" class=\"dataframe\">\n",
       "  <thead>\n",
       "    <tr style=\"text-align: right;\">\n",
       "      <th></th>\n",
       "      <th>Cidade</th>\n",
       "      <th>Políticos</th>\n",
       "      <th>vlr</th>\n",
       "      <th>Valor (R$)</th>\n",
       "      <th>vlr_prty</th>\n",
       "    </tr>\n",
       "  </thead>\n",
       "  <tbody>\n",
       "    <tr>\n",
       "      <th>0</th>\n",
       "      <td>ACARAÚ</td>\n",
       "      <td>1</td>\n",
       "      <td>2724347.87</td>\n",
       "      <td>R$ 2.724.347,87</td>\n",
       "      <td>2.72M</td>\n",
       "    </tr>\n",
       "    <tr>\n",
       "      <th>1</th>\n",
       "      <td>ALCÂNTARAS</td>\n",
       "      <td>1</td>\n",
       "      <td>250000.00</td>\n",
       "      <td>R$ 250.000,00</td>\n",
       "      <td>250.00K</td>\n",
       "    </tr>\n",
       "    <tr>\n",
       "      <th>2</th>\n",
       "      <td>ALTANEIRA</td>\n",
       "      <td>1</td>\n",
       "      <td>1000012.00</td>\n",
       "      <td>R$ 1.000.012,00</td>\n",
       "      <td>1.00M</td>\n",
       "    </tr>\n",
       "    <tr>\n",
       "      <th>3</th>\n",
       "      <td>AMONTADA</td>\n",
       "      <td>1</td>\n",
       "      <td>1000000.00</td>\n",
       "      <td>R$ 1.000.000,00</td>\n",
       "      <td>1.00M</td>\n",
       "    </tr>\n",
       "    <tr>\n",
       "      <th>4</th>\n",
       "      <td>AQUIRAZ</td>\n",
       "      <td>2</td>\n",
       "      <td>4672458.52</td>\n",
       "      <td>R$ 4.672.458,52</td>\n",
       "      <td>4.67M</td>\n",
       "    </tr>\n",
       "  </tbody>\n",
       "</table>\n",
       "</div>"
      ],
      "text/plain": [
       "       Cidade  Políticos         vlr       Valor (R$) vlr_prty\n",
       "0      ACARAÚ          1  2724347.87  R$ 2.724.347,87    2.72M\n",
       "1  ALCÂNTARAS          1   250000.00    R$ 250.000,00  250.00K\n",
       "2   ALTANEIRA          1  1000012.00  R$ 1.000.012,00    1.00M\n",
       "3    AMONTADA          1  1000000.00  R$ 1.000.000,00    1.00M\n",
       "4     AQUIRAZ          2  4672458.52  R$ 4.672.458,52    4.67M"
      ]
     },
     "execution_count": 97,
     "metadata": {},
     "output_type": "execute_result"
    }
   ],
   "source": [
    "def f(row):\n",
    "    if row['vlr'] >= 10**9:\n",
    "        val = row['vlr']/10**9\n",
    "        val = '{0:.2f}B'.format(val)\n",
    "    elif row['vlr'] >= 10**6 and row['vlr'] < 10**9:\n",
    "        val = row['vlr']/10**6\n",
    "        val = '{0:.2f}M'.format(val)\n",
    "    elif row['vlr'] >= 10**3 and row['vlr'] < 10**6:\n",
    "        val = row['vlr']/10**3\n",
    "        val = '{0:.2f}K'.format(val)\n",
    "    else:\n",
    "        val = '{0:.2f}'.format(row['vlr'])\n",
    "    return val\n",
    "\n",
    "\n",
    "cidades_emendas_df = (df_cidades.groupby('local_gasto', as_index=False).agg({'emenda_autor':pd.Series.nunique, 'vlr': 'sum'})\n",
    "                    .reset_index(drop=True))\n",
    "# )\n",
    "\n",
    "\n",
    "cidades_emendas_df.rename(columns={'local_gasto':'Cidade', 'emenda_autor':'Políticos'}, inplace=True)\n",
    "# cidades_emendas_df['local_gasto'] = cidades_emendas_df[\"local_gasto\"].apply(lambda x: x.replace(\" - CE\", \"\"))\n",
    "# cidades_emendas_df = cidades_emendas_df.sort_values(by='vlr', ascending=False)\n",
    "# cidades_emendas_df.info()\n",
    "# cidades_emendas_df\n",
    "\n",
    "\n",
    "cidades_emendas_df[\"Valor (R$)\"] = cidades_emendas_df[\"vlr\"].apply(lambda x: format_currency(x, currency=\"BRL\", locale=\"pt_BR\"))\n",
    "cidades_emendas_df['vlr_prty'] = cidades_emendas_df.apply(f, axis=1)\n",
    "# cidades_emendas_df#.head()#[['Cidade','Políticos','Valor']]\n",
    "cidades_emendas_df.head()\n",
    "\n"
   ]
  },
  {
   "cell_type": "markdown",
   "metadata": {},
   "source": [
    "Criando um treemap para ver melhor."
   ]
  },
  {
   "cell_type": "code",
   "execution_count": 100,
   "metadata": {},
   "outputs": [
    {
     "data": {
      "application/vnd.plotly.v1+json": {
       "config": {
        "plotlyServerURL": "https://plot.ly"
       },
       "data": [
        {
         "branchvalues": "total",
         "customdata": [
          [
           2724347.87
          ],
          [
           250000
          ],
          [
           1000012
          ],
          [
           1000000
          ],
          [
           4672458.52
          ],
          [
           500000
          ],
          [
           5000000
          ],
          [
           1400000
          ],
          [
           5887627
          ],
          [
           500012
          ],
          [
           1911857.04
          ],
          [
           800000
          ],
          [
           3629209
          ],
          [
           1868873.87
          ],
          [
           250000
          ],
          [
           10000000
          ],
          [
           1000000
          ],
          [
           2000000
          ],
          [
           14525651
          ],
          [
           500000
          ],
          [
           800012
          ],
          [
           1000000
          ],
          [
           9835337
          ],
          [
           500000
          ],
          [
           847138.5
          ],
          [
           7765720
          ],
          [
           500000
          ],
          [
           1000012
          ],
          [
           1000000
          ],
          [
           977525
          ],
          [
           1000012
          ],
          [
           1952448
          ],
          [
           1300000
          ],
          [
           977525
          ],
          [
           2000000
          ],
          [
           24177216.2
          ],
          [
           500000
          ],
          [
           2443813
          ],
          [
           5819682
          ],
          [
           900000
          ],
          [
           4073023
          ],
          [
           1625000
          ],
          [
           12258418
          ],
          [
           1089365
          ],
          [
           1714511
          ],
          [
           1000000
          ],
          [
           1294786
          ],
          [
           2769655
          ],
          [
           2500000
          ],
          [
           9282982.550428068
          ]
         ],
         "domain": {
          "x": [
           0,
           1
          ],
          "y": [
           0,
           1
          ]
         },
         "hovertemplate": "labels=%{label}<br>vlr_sum=%{value}<br>parent=%{parent}<br>id=%{id}<br>vlr=%{color}<extra></extra>",
         "ids": [
          "Cidades do Ceará/ACARAÚ",
          "Cidades do Ceará/ALCÂNTARAS",
          "Cidades do Ceará/ALTANEIRA",
          "Cidades do Ceará/AMONTADA",
          "Cidades do Ceará/AQUIRAZ",
          "Cidades do Ceará/ARATUBA",
          "Cidades do Ceará/ASSARÉ",
          "Cidades do Ceará/BELA CRUZ",
          "Cidades do Ceará/BOA VIAGEM",
          "Cidades do Ceará/CARIRIAÇU",
          "Cidades do Ceará/CARIRÉ",
          "Cidades do Ceará/CHAVAL",
          "Cidades do Ceará/CHOROZINHO",
          "Cidades do Ceará/CHORÓ",
          "Cidades do Ceará/COREAÚ",
          "Cidades do Ceará/CRUZ",
          "Cidades do Ceará/FORTIM",
          "Cidades do Ceará/FRECHEIRINHA",
          "Cidades do Ceará/GRANJA",
          "Cidades do Ceará/IBIAPINA",
          "Cidades do Ceará/IBICUITINGA",
          "Cidades do Ceará/ICÓ",
          "Cidades do Ceará/IPU",
          "Cidades do Ceará/IRACEMA",
          "Cidades do Ceará/ITAPIPOCA",
          "Cidades do Ceará/ITAREMA",
          "Cidades do Ceará/JAGUARIBARA",
          "Cidades do Ceará/JAGUARIBE",
          "Cidades do Ceará/MARANGUAPE",
          "Cidades do Ceará/MILHÃ",
          "Cidades do Ceará/MONSENHOR TABOSA",
          "Cidades do Ceará/MORADA NOVA",
          "Cidades do Ceará/MORAÚJO",
          "Cidades do Ceará/MUCAMBO",
          "Cidades do Ceará/NOVA RUSSAS",
          "Cidades do Ceará/NOVO ORIENTE",
          "Cidades do Ceará/PARACURU",
          "Cidades do Ceará/PARAIPABA",
          "Cidades do Ceará/PARAMBU",
          "Cidades do Ceará/PEDRA BRANCA",
          "Cidades do Ceará/PENTECOSTE",
          "Cidades do Ceará/PIRES FERREIRA",
          "Cidades do Ceará/QUITERIANÓPOLIS",
          "Cidades do Ceará/RERIUTABA",
          "Cidades do Ceará/RUSSAS",
          "Cidades do Ceará/SENADOR POMPEU",
          "Cidades do Ceará/SÃO BENEDITO",
          "Cidades do Ceará/TAMBORIL",
          "Cidades do Ceará/URUOCA",
          "Cidades do Ceará"
         ],
         "labels": [
          "ACARAÚ",
          "ALCÂNTARAS",
          "ALTANEIRA",
          "AMONTADA",
          "AQUIRAZ",
          "ARATUBA",
          "ASSARÉ",
          "BELA CRUZ",
          "BOA VIAGEM",
          "CARIRIAÇU",
          "CARIRÉ",
          "CHAVAL",
          "CHOROZINHO",
          "CHORÓ",
          "COREAÚ",
          "CRUZ",
          "FORTIM",
          "FRECHEIRINHA",
          "GRANJA",
          "IBIAPINA",
          "IBICUITINGA",
          "ICÓ",
          "IPU",
          "IRACEMA",
          "ITAPIPOCA",
          "ITAREMA",
          "JAGUARIBARA",
          "JAGUARIBE",
          "MARANGUAPE",
          "MILHÃ",
          "MONSENHOR TABOSA",
          "MORADA NOVA",
          "MORAÚJO",
          "MUCAMBO",
          "NOVA RUSSAS",
          "NOVO ORIENTE",
          "PARACURU",
          "PARAIPABA",
          "PARAMBU",
          "PEDRA BRANCA",
          "PENTECOSTE",
          "PIRES FERREIRA",
          "QUITERIANÓPOLIS",
          "RERIUTABA",
          "RUSSAS",
          "SENADOR POMPEU",
          "SÃO BENEDITO",
          "TAMBORIL",
          "URUOCA",
          "Cidades do Ceará"
         ],
         "marker": {
          "coloraxis": "coloraxis",
          "colors": [
           2724347.87,
           250000,
           1000012,
           1000000,
           4672458.52,
           500000,
           5000000,
           1400000,
           5887627,
           500012,
           1911857.04,
           800000,
           3629209,
           1868873.87,
           250000,
           10000000,
           1000000,
           2000000,
           14525651,
           500000,
           800012,
           1000000,
           9835337,
           500000,
           847138.5,
           7765720,
           500000,
           1000012,
           1000000,
           977525,
           1000012,
           1952448,
           1300000,
           977525,
           2000000,
           24177216.2,
           500000,
           2443813,
           5819682,
           900000,
           4073023,
           1625000,
           12258418,
           1089365,
           1714511,
           1000000,
           1294786,
           2769655,
           2500000,
           9282982.550428068
          ]
         },
         "name": "",
         "opacity": 0.75,
         "parents": [
          "Cidades do Ceará",
          "Cidades do Ceará",
          "Cidades do Ceará",
          "Cidades do Ceará",
          "Cidades do Ceará",
          "Cidades do Ceará",
          "Cidades do Ceará",
          "Cidades do Ceará",
          "Cidades do Ceará",
          "Cidades do Ceará",
          "Cidades do Ceará",
          "Cidades do Ceará",
          "Cidades do Ceará",
          "Cidades do Ceará",
          "Cidades do Ceará",
          "Cidades do Ceará",
          "Cidades do Ceará",
          "Cidades do Ceará",
          "Cidades do Ceará",
          "Cidades do Ceará",
          "Cidades do Ceará",
          "Cidades do Ceará",
          "Cidades do Ceará",
          "Cidades do Ceará",
          "Cidades do Ceará",
          "Cidades do Ceará",
          "Cidades do Ceará",
          "Cidades do Ceará",
          "Cidades do Ceará",
          "Cidades do Ceará",
          "Cidades do Ceará",
          "Cidades do Ceará",
          "Cidades do Ceará",
          "Cidades do Ceará",
          "Cidades do Ceará",
          "Cidades do Ceará",
          "Cidades do Ceará",
          "Cidades do Ceará",
          "Cidades do Ceará",
          "Cidades do Ceará",
          "Cidades do Ceará",
          "Cidades do Ceará",
          "Cidades do Ceará",
          "Cidades do Ceará",
          "Cidades do Ceará",
          "Cidades do Ceará",
          "Cidades do Ceará",
          "Cidades do Ceará",
          "Cidades do Ceará",
          ""
         ],
         "text": [
          "2.72M",
          "250.00K",
          "1.00M",
          "1.00M",
          "4.67M",
          "500.00K",
          "5.00M",
          "1.40M",
          "5.89M",
          "500.01K",
          "1.91M",
          "800.00K",
          "3.63M",
          "1.87M",
          "250.00K",
          "10.00M",
          "1.00M",
          "2.00M",
          "14.53M",
          "500.00K",
          "800.01K",
          "1.00M",
          "9.84M",
          "500.00K",
          "847.14K",
          "7.77M",
          "500.00K",
          "1.00M",
          "1.00M",
          "977.52K",
          "1.00M",
          "1.95M",
          "1.30M",
          "977.52K",
          "2.00M",
          "24.18M",
          "500.00K",
          "2.44M",
          "5.82M",
          "900.00K",
          "4.07M",
          "1.62M",
          "12.26M",
          "1.09M",
          "1.71M",
          "1.00M",
          "1.29M",
          "2.77M",
          "2.50M"
         ],
         "textinfo": "label+text",
         "type": "treemap",
         "values": [
          2724347.87,
          250000,
          1000012,
          1000000,
          4672458.52,
          500000,
          5000000,
          1400000,
          5887627,
          500012,
          1911857.04,
          800000,
          3629209,
          1868873.87,
          250000,
          10000000,
          1000000,
          2000000,
          14525651,
          500000,
          800012,
          1000000,
          9835337,
          500000,
          847138.5,
          7765720,
          500000,
          1000012,
          1000000,
          977525,
          1000012,
          1952448,
          1300000,
          977525,
          2000000,
          24177216.2,
          500000,
          2443813,
          5819682,
          900000,
          4073023,
          1625000,
          12258418,
          1089365,
          1714511,
          1000000,
          1294786,
          2769655,
          2500000,
          153041247
         ]
        }
       ],
       "layout": {
        "coloraxis": {
         "colorbar": {
          "title": {
           "text": "vlr"
          }
         },
         "colorscale": [
          [
           0,
           "#440154"
          ],
          [
           0.1111111111111111,
           "#482878"
          ],
          [
           0.2222222222222222,
           "#3e4989"
          ],
          [
           0.3333333333333333,
           "#31688e"
          ],
          [
           0.4444444444444444,
           "#26828e"
          ],
          [
           0.5555555555555556,
           "#1f9e89"
          ],
          [
           0.6666666666666666,
           "#35b779"
          ],
          [
           0.7777777777777778,
           "#6ece58"
          ],
          [
           0.8888888888888888,
           "#b5de2b"
          ],
          [
           1,
           "#fde725"
          ]
         ]
        },
        "legend": {
         "tracegroupgap": 0
        },
        "margin": {
         "t": 60
        },
        "template": {
         "data": {
          "bar": [
           {
            "error_x": {
             "color": "#2a3f5f"
            },
            "error_y": {
             "color": "#2a3f5f"
            },
            "marker": {
             "line": {
              "color": "#E5ECF6",
              "width": 0.5
             },
             "pattern": {
              "fillmode": "overlay",
              "size": 10,
              "solidity": 0.2
             }
            },
            "type": "bar"
           }
          ],
          "barpolar": [
           {
            "marker": {
             "line": {
              "color": "#E5ECF6",
              "width": 0.5
             },
             "pattern": {
              "fillmode": "overlay",
              "size": 10,
              "solidity": 0.2
             }
            },
            "type": "barpolar"
           }
          ],
          "carpet": [
           {
            "aaxis": {
             "endlinecolor": "#2a3f5f",
             "gridcolor": "white",
             "linecolor": "white",
             "minorgridcolor": "white",
             "startlinecolor": "#2a3f5f"
            },
            "baxis": {
             "endlinecolor": "#2a3f5f",
             "gridcolor": "white",
             "linecolor": "white",
             "minorgridcolor": "white",
             "startlinecolor": "#2a3f5f"
            },
            "type": "carpet"
           }
          ],
          "choropleth": [
           {
            "colorbar": {
             "outlinewidth": 0,
             "ticks": ""
            },
            "type": "choropleth"
           }
          ],
          "contour": [
           {
            "colorbar": {
             "outlinewidth": 0,
             "ticks": ""
            },
            "colorscale": [
             [
              0,
              "#0d0887"
             ],
             [
              0.1111111111111111,
              "#46039f"
             ],
             [
              0.2222222222222222,
              "#7201a8"
             ],
             [
              0.3333333333333333,
              "#9c179e"
             ],
             [
              0.4444444444444444,
              "#bd3786"
             ],
             [
              0.5555555555555556,
              "#d8576b"
             ],
             [
              0.6666666666666666,
              "#ed7953"
             ],
             [
              0.7777777777777778,
              "#fb9f3a"
             ],
             [
              0.8888888888888888,
              "#fdca26"
             ],
             [
              1,
              "#f0f921"
             ]
            ],
            "type": "contour"
           }
          ],
          "contourcarpet": [
           {
            "colorbar": {
             "outlinewidth": 0,
             "ticks": ""
            },
            "type": "contourcarpet"
           }
          ],
          "heatmap": [
           {
            "colorbar": {
             "outlinewidth": 0,
             "ticks": ""
            },
            "colorscale": [
             [
              0,
              "#0d0887"
             ],
             [
              0.1111111111111111,
              "#46039f"
             ],
             [
              0.2222222222222222,
              "#7201a8"
             ],
             [
              0.3333333333333333,
              "#9c179e"
             ],
             [
              0.4444444444444444,
              "#bd3786"
             ],
             [
              0.5555555555555556,
              "#d8576b"
             ],
             [
              0.6666666666666666,
              "#ed7953"
             ],
             [
              0.7777777777777778,
              "#fb9f3a"
             ],
             [
              0.8888888888888888,
              "#fdca26"
             ],
             [
              1,
              "#f0f921"
             ]
            ],
            "type": "heatmap"
           }
          ],
          "heatmapgl": [
           {
            "colorbar": {
             "outlinewidth": 0,
             "ticks": ""
            },
            "colorscale": [
             [
              0,
              "#0d0887"
             ],
             [
              0.1111111111111111,
              "#46039f"
             ],
             [
              0.2222222222222222,
              "#7201a8"
             ],
             [
              0.3333333333333333,
              "#9c179e"
             ],
             [
              0.4444444444444444,
              "#bd3786"
             ],
             [
              0.5555555555555556,
              "#d8576b"
             ],
             [
              0.6666666666666666,
              "#ed7953"
             ],
             [
              0.7777777777777778,
              "#fb9f3a"
             ],
             [
              0.8888888888888888,
              "#fdca26"
             ],
             [
              1,
              "#f0f921"
             ]
            ],
            "type": "heatmapgl"
           }
          ],
          "histogram": [
           {
            "marker": {
             "pattern": {
              "fillmode": "overlay",
              "size": 10,
              "solidity": 0.2
             }
            },
            "type": "histogram"
           }
          ],
          "histogram2d": [
           {
            "colorbar": {
             "outlinewidth": 0,
             "ticks": ""
            },
            "colorscale": [
             [
              0,
              "#0d0887"
             ],
             [
              0.1111111111111111,
              "#46039f"
             ],
             [
              0.2222222222222222,
              "#7201a8"
             ],
             [
              0.3333333333333333,
              "#9c179e"
             ],
             [
              0.4444444444444444,
              "#bd3786"
             ],
             [
              0.5555555555555556,
              "#d8576b"
             ],
             [
              0.6666666666666666,
              "#ed7953"
             ],
             [
              0.7777777777777778,
              "#fb9f3a"
             ],
             [
              0.8888888888888888,
              "#fdca26"
             ],
             [
              1,
              "#f0f921"
             ]
            ],
            "type": "histogram2d"
           }
          ],
          "histogram2dcontour": [
           {
            "colorbar": {
             "outlinewidth": 0,
             "ticks": ""
            },
            "colorscale": [
             [
              0,
              "#0d0887"
             ],
             [
              0.1111111111111111,
              "#46039f"
             ],
             [
              0.2222222222222222,
              "#7201a8"
             ],
             [
              0.3333333333333333,
              "#9c179e"
             ],
             [
              0.4444444444444444,
              "#bd3786"
             ],
             [
              0.5555555555555556,
              "#d8576b"
             ],
             [
              0.6666666666666666,
              "#ed7953"
             ],
             [
              0.7777777777777778,
              "#fb9f3a"
             ],
             [
              0.8888888888888888,
              "#fdca26"
             ],
             [
              1,
              "#f0f921"
             ]
            ],
            "type": "histogram2dcontour"
           }
          ],
          "mesh3d": [
           {
            "colorbar": {
             "outlinewidth": 0,
             "ticks": ""
            },
            "type": "mesh3d"
           }
          ],
          "parcoords": [
           {
            "line": {
             "colorbar": {
              "outlinewidth": 0,
              "ticks": ""
             }
            },
            "type": "parcoords"
           }
          ],
          "pie": [
           {
            "automargin": true,
            "type": "pie"
           }
          ],
          "scatter": [
           {
            "fillpattern": {
             "fillmode": "overlay",
             "size": 10,
             "solidity": 0.2
            },
            "type": "scatter"
           }
          ],
          "scatter3d": [
           {
            "line": {
             "colorbar": {
              "outlinewidth": 0,
              "ticks": ""
             }
            },
            "marker": {
             "colorbar": {
              "outlinewidth": 0,
              "ticks": ""
             }
            },
            "type": "scatter3d"
           }
          ],
          "scattercarpet": [
           {
            "marker": {
             "colorbar": {
              "outlinewidth": 0,
              "ticks": ""
             }
            },
            "type": "scattercarpet"
           }
          ],
          "scattergeo": [
           {
            "marker": {
             "colorbar": {
              "outlinewidth": 0,
              "ticks": ""
             }
            },
            "type": "scattergeo"
           }
          ],
          "scattergl": [
           {
            "marker": {
             "colorbar": {
              "outlinewidth": 0,
              "ticks": ""
             }
            },
            "type": "scattergl"
           }
          ],
          "scattermapbox": [
           {
            "marker": {
             "colorbar": {
              "outlinewidth": 0,
              "ticks": ""
             }
            },
            "type": "scattermapbox"
           }
          ],
          "scatterpolar": [
           {
            "marker": {
             "colorbar": {
              "outlinewidth": 0,
              "ticks": ""
             }
            },
            "type": "scatterpolar"
           }
          ],
          "scatterpolargl": [
           {
            "marker": {
             "colorbar": {
              "outlinewidth": 0,
              "ticks": ""
             }
            },
            "type": "scatterpolargl"
           }
          ],
          "scatterternary": [
           {
            "marker": {
             "colorbar": {
              "outlinewidth": 0,
              "ticks": ""
             }
            },
            "type": "scatterternary"
           }
          ],
          "surface": [
           {
            "colorbar": {
             "outlinewidth": 0,
             "ticks": ""
            },
            "colorscale": [
             [
              0,
              "#0d0887"
             ],
             [
              0.1111111111111111,
              "#46039f"
             ],
             [
              0.2222222222222222,
              "#7201a8"
             ],
             [
              0.3333333333333333,
              "#9c179e"
             ],
             [
              0.4444444444444444,
              "#bd3786"
             ],
             [
              0.5555555555555556,
              "#d8576b"
             ],
             [
              0.6666666666666666,
              "#ed7953"
             ],
             [
              0.7777777777777778,
              "#fb9f3a"
             ],
             [
              0.8888888888888888,
              "#fdca26"
             ],
             [
              1,
              "#f0f921"
             ]
            ],
            "type": "surface"
           }
          ],
          "table": [
           {
            "cells": {
             "fill": {
              "color": "#EBF0F8"
             },
             "line": {
              "color": "white"
             }
            },
            "header": {
             "fill": {
              "color": "#C8D4E3"
             },
             "line": {
              "color": "white"
             }
            },
            "type": "table"
           }
          ]
         },
         "layout": {
          "annotationdefaults": {
           "arrowcolor": "#2a3f5f",
           "arrowhead": 0,
           "arrowwidth": 1
          },
          "autotypenumbers": "strict",
          "coloraxis": {
           "colorbar": {
            "outlinewidth": 0,
            "ticks": ""
           }
          },
          "colorscale": {
           "diverging": [
            [
             0,
             "#8e0152"
            ],
            [
             0.1,
             "#c51b7d"
            ],
            [
             0.2,
             "#de77ae"
            ],
            [
             0.3,
             "#f1b6da"
            ],
            [
             0.4,
             "#fde0ef"
            ],
            [
             0.5,
             "#f7f7f7"
            ],
            [
             0.6,
             "#e6f5d0"
            ],
            [
             0.7,
             "#b8e186"
            ],
            [
             0.8,
             "#7fbc41"
            ],
            [
             0.9,
             "#4d9221"
            ],
            [
             1,
             "#276419"
            ]
           ],
           "sequential": [
            [
             0,
             "#0d0887"
            ],
            [
             0.1111111111111111,
             "#46039f"
            ],
            [
             0.2222222222222222,
             "#7201a8"
            ],
            [
             0.3333333333333333,
             "#9c179e"
            ],
            [
             0.4444444444444444,
             "#bd3786"
            ],
            [
             0.5555555555555556,
             "#d8576b"
            ],
            [
             0.6666666666666666,
             "#ed7953"
            ],
            [
             0.7777777777777778,
             "#fb9f3a"
            ],
            [
             0.8888888888888888,
             "#fdca26"
            ],
            [
             1,
             "#f0f921"
            ]
           ],
           "sequentialminus": [
            [
             0,
             "#0d0887"
            ],
            [
             0.1111111111111111,
             "#46039f"
            ],
            [
             0.2222222222222222,
             "#7201a8"
            ],
            [
             0.3333333333333333,
             "#9c179e"
            ],
            [
             0.4444444444444444,
             "#bd3786"
            ],
            [
             0.5555555555555556,
             "#d8576b"
            ],
            [
             0.6666666666666666,
             "#ed7953"
            ],
            [
             0.7777777777777778,
             "#fb9f3a"
            ],
            [
             0.8888888888888888,
             "#fdca26"
            ],
            [
             1,
             "#f0f921"
            ]
           ]
          },
          "colorway": [
           "#636efa",
           "#EF553B",
           "#00cc96",
           "#ab63fa",
           "#FFA15A",
           "#19d3f3",
           "#FF6692",
           "#B6E880",
           "#FF97FF",
           "#FECB52"
          ],
          "font": {
           "color": "#2a3f5f"
          },
          "geo": {
           "bgcolor": "white",
           "lakecolor": "white",
           "landcolor": "#E5ECF6",
           "showlakes": true,
           "showland": true,
           "subunitcolor": "white"
          },
          "hoverlabel": {
           "align": "left"
          },
          "hovermode": "closest",
          "mapbox": {
           "style": "light"
          },
          "paper_bgcolor": "white",
          "plot_bgcolor": "#E5ECF6",
          "polar": {
           "angularaxis": {
            "gridcolor": "white",
            "linecolor": "white",
            "ticks": ""
           },
           "bgcolor": "#E5ECF6",
           "radialaxis": {
            "gridcolor": "white",
            "linecolor": "white",
            "ticks": ""
           }
          },
          "scene": {
           "xaxis": {
            "backgroundcolor": "#E5ECF6",
            "gridcolor": "white",
            "gridwidth": 2,
            "linecolor": "white",
            "showbackground": true,
            "ticks": "",
            "zerolinecolor": "white"
           },
           "yaxis": {
            "backgroundcolor": "#E5ECF6",
            "gridcolor": "white",
            "gridwidth": 2,
            "linecolor": "white",
            "showbackground": true,
            "ticks": "",
            "zerolinecolor": "white"
           },
           "zaxis": {
            "backgroundcolor": "#E5ECF6",
            "gridcolor": "white",
            "gridwidth": 2,
            "linecolor": "white",
            "showbackground": true,
            "ticks": "",
            "zerolinecolor": "white"
           }
          },
          "shapedefaults": {
           "line": {
            "color": "#2a3f5f"
           }
          },
          "ternary": {
           "aaxis": {
            "gridcolor": "white",
            "linecolor": "white",
            "ticks": ""
           },
           "baxis": {
            "gridcolor": "white",
            "linecolor": "white",
            "ticks": ""
           },
           "bgcolor": "#E5ECF6",
           "caxis": {
            "gridcolor": "white",
            "linecolor": "white",
            "ticks": ""
           }
          },
          "title": {
           "x": 0.05
          },
          "xaxis": {
           "automargin": true,
           "gridcolor": "white",
           "linecolor": "white",
           "ticks": "",
           "title": {
            "standoff": 15
           },
           "zerolinecolor": "white",
           "zerolinewidth": 2
          },
          "yaxis": {
           "automargin": true,
           "gridcolor": "white",
           "linecolor": "white",
           "ticks": "",
           "title": {
            "standoff": 15
           },
           "zerolinecolor": "white",
           "zerolinewidth": 2
          }
         }
        }
       }
      }
     },
     "metadata": {},
     "output_type": "display_data"
    }
   ],
   "source": [
    "# fig1 = px.treemap(cidades_emendas_df, path=[\"Cidade\"], values=\"vlr\",color=\"vlr\",color_continuous_scale='viridis')\n",
    "# fig1.update_traces(\n",
    "#     #textinfo=\"label+value\"\n",
    "#     texttemplate='%{label} <br> %{value: text} <br> %{percentRoot}'\n",
    "#     ,selector=dict(type='treemap')\n",
    "# )\n",
    "# fig1.show()\n",
    "\n",
    "\n",
    "\n",
    "\n",
    "# emendas_estaduais[['Estado','Políticos','Emendas','vlr_prty', 'Valor']]\n",
    "# cidades_emendas_df.head()\n",
    "\n",
    "fig2 = px.treemap(cidades_emendas_df, path=[px.Constant(\"Cidades do Ceará\"),\"Cidade\"], values=\"vlr\", color=\"vlr\", color_continuous_scale='viridis')\n",
    "fig2.update_traces(\n",
    "    text=cidades_emendas_df['vlr_prty'],\n",
    "    textinfo=\"label+text\", \n",
    "    selector=dict(type='treemap'), \n",
    "    opacity=0.75\n",
    ")\n",
    "fig2.show()"
   ]
  },
  {
   "cell_type": "markdown",
   "metadata": {},
   "source": [
    "### Outliers\n",
    "\n",
    "Dados no formato de boxplot. Não agregado para poder verificar outliers."
   ]
  },
  {
   "cell_type": "code",
   "execution_count": null,
   "metadata": {},
   "outputs": [
    {
     "data": {
      "application/vnd.plotly.v1+json": {
       "config": {
        "plotlyServerURL": "https://plot.ly"
       },
       "data": [
        {
         "alignmentgroup": "True",
         "hovertemplate": "vlr=%{x}<extra></extra>",
         "legendgroup": "",
         "marker": {
          "color": "#636efa"
         },
         "name": "",
         "notched": false,
         "offsetgroup": "",
         "orientation": "h",
         "showlegend": false,
         "type": "box",
         "x": [
          100000,
          250000,
          250000,
          400000,
          500000,
          500000,
          500000,
          500000,
          500000,
          500000,
          500000,
          500000,
          500012,
          800000,
          800000,
          800012,
          900000,
          977525,
          977525,
          1000000,
          1000000,
          1000000,
          1000000,
          1000000,
          1000000,
          216566.2,
          1000000,
          1000000,
          1000000,
          1000000,
          1000000,
          847138.5,
          1000000,
          1000000,
          1000000,
          1000012,
          1000012,
          1000012,
          1089365,
          1125000,
          1294786,
          1450000,
          1500000,
          1500000,
          1629209,
          1714511,
          1852448,
          1935792,
          2000000,
          2000000,
          2000000,
          2000000,
          2443813,
          2600000,
          2719682,
          2769655,
          461857.04,
          3000000,
          3258418,
          3258418,
          3258418,
          3500000,
          3665720,
          2672458.52,
          4073023,
          4887627,
          4887627,
          4947710,
          5000000,
          4665.87,
          5702232,
          5819682,
          6000000,
          7000000,
          7331441,
          10000000,
          1868873.87
         ],
         "x0": " ",
         "xaxis": "x",
         "y0": " ",
         "yaxis": "y"
        }
       ],
       "layout": {
        "boxmode": "group",
        "legend": {
         "tracegroupgap": 0
        },
        "margin": {
         "t": 60
        },
        "template": {
         "data": {
          "bar": [
           {
            "error_x": {
             "color": "#2a3f5f"
            },
            "error_y": {
             "color": "#2a3f5f"
            },
            "marker": {
             "line": {
              "color": "#E5ECF6",
              "width": 0.5
             },
             "pattern": {
              "fillmode": "overlay",
              "size": 10,
              "solidity": 0.2
             }
            },
            "type": "bar"
           }
          ],
          "barpolar": [
           {
            "marker": {
             "line": {
              "color": "#E5ECF6",
              "width": 0.5
             },
             "pattern": {
              "fillmode": "overlay",
              "size": 10,
              "solidity": 0.2
             }
            },
            "type": "barpolar"
           }
          ],
          "carpet": [
           {
            "aaxis": {
             "endlinecolor": "#2a3f5f",
             "gridcolor": "white",
             "linecolor": "white",
             "minorgridcolor": "white",
             "startlinecolor": "#2a3f5f"
            },
            "baxis": {
             "endlinecolor": "#2a3f5f",
             "gridcolor": "white",
             "linecolor": "white",
             "minorgridcolor": "white",
             "startlinecolor": "#2a3f5f"
            },
            "type": "carpet"
           }
          ],
          "choropleth": [
           {
            "colorbar": {
             "outlinewidth": 0,
             "ticks": ""
            },
            "type": "choropleth"
           }
          ],
          "contour": [
           {
            "colorbar": {
             "outlinewidth": 0,
             "ticks": ""
            },
            "colorscale": [
             [
              0,
              "#0d0887"
             ],
             [
              0.1111111111111111,
              "#46039f"
             ],
             [
              0.2222222222222222,
              "#7201a8"
             ],
             [
              0.3333333333333333,
              "#9c179e"
             ],
             [
              0.4444444444444444,
              "#bd3786"
             ],
             [
              0.5555555555555556,
              "#d8576b"
             ],
             [
              0.6666666666666666,
              "#ed7953"
             ],
             [
              0.7777777777777778,
              "#fb9f3a"
             ],
             [
              0.8888888888888888,
              "#fdca26"
             ],
             [
              1,
              "#f0f921"
             ]
            ],
            "type": "contour"
           }
          ],
          "contourcarpet": [
           {
            "colorbar": {
             "outlinewidth": 0,
             "ticks": ""
            },
            "type": "contourcarpet"
           }
          ],
          "heatmap": [
           {
            "colorbar": {
             "outlinewidth": 0,
             "ticks": ""
            },
            "colorscale": [
             [
              0,
              "#0d0887"
             ],
             [
              0.1111111111111111,
              "#46039f"
             ],
             [
              0.2222222222222222,
              "#7201a8"
             ],
             [
              0.3333333333333333,
              "#9c179e"
             ],
             [
              0.4444444444444444,
              "#bd3786"
             ],
             [
              0.5555555555555556,
              "#d8576b"
             ],
             [
              0.6666666666666666,
              "#ed7953"
             ],
             [
              0.7777777777777778,
              "#fb9f3a"
             ],
             [
              0.8888888888888888,
              "#fdca26"
             ],
             [
              1,
              "#f0f921"
             ]
            ],
            "type": "heatmap"
           }
          ],
          "heatmapgl": [
           {
            "colorbar": {
             "outlinewidth": 0,
             "ticks": ""
            },
            "colorscale": [
             [
              0,
              "#0d0887"
             ],
             [
              0.1111111111111111,
              "#46039f"
             ],
             [
              0.2222222222222222,
              "#7201a8"
             ],
             [
              0.3333333333333333,
              "#9c179e"
             ],
             [
              0.4444444444444444,
              "#bd3786"
             ],
             [
              0.5555555555555556,
              "#d8576b"
             ],
             [
              0.6666666666666666,
              "#ed7953"
             ],
             [
              0.7777777777777778,
              "#fb9f3a"
             ],
             [
              0.8888888888888888,
              "#fdca26"
             ],
             [
              1,
              "#f0f921"
             ]
            ],
            "type": "heatmapgl"
           }
          ],
          "histogram": [
           {
            "marker": {
             "pattern": {
              "fillmode": "overlay",
              "size": 10,
              "solidity": 0.2
             }
            },
            "type": "histogram"
           }
          ],
          "histogram2d": [
           {
            "colorbar": {
             "outlinewidth": 0,
             "ticks": ""
            },
            "colorscale": [
             [
              0,
              "#0d0887"
             ],
             [
              0.1111111111111111,
              "#46039f"
             ],
             [
              0.2222222222222222,
              "#7201a8"
             ],
             [
              0.3333333333333333,
              "#9c179e"
             ],
             [
              0.4444444444444444,
              "#bd3786"
             ],
             [
              0.5555555555555556,
              "#d8576b"
             ],
             [
              0.6666666666666666,
              "#ed7953"
             ],
             [
              0.7777777777777778,
              "#fb9f3a"
             ],
             [
              0.8888888888888888,
              "#fdca26"
             ],
             [
              1,
              "#f0f921"
             ]
            ],
            "type": "histogram2d"
           }
          ],
          "histogram2dcontour": [
           {
            "colorbar": {
             "outlinewidth": 0,
             "ticks": ""
            },
            "colorscale": [
             [
              0,
              "#0d0887"
             ],
             [
              0.1111111111111111,
              "#46039f"
             ],
             [
              0.2222222222222222,
              "#7201a8"
             ],
             [
              0.3333333333333333,
              "#9c179e"
             ],
             [
              0.4444444444444444,
              "#bd3786"
             ],
             [
              0.5555555555555556,
              "#d8576b"
             ],
             [
              0.6666666666666666,
              "#ed7953"
             ],
             [
              0.7777777777777778,
              "#fb9f3a"
             ],
             [
              0.8888888888888888,
              "#fdca26"
             ],
             [
              1,
              "#f0f921"
             ]
            ],
            "type": "histogram2dcontour"
           }
          ],
          "mesh3d": [
           {
            "colorbar": {
             "outlinewidth": 0,
             "ticks": ""
            },
            "type": "mesh3d"
           }
          ],
          "parcoords": [
           {
            "line": {
             "colorbar": {
              "outlinewidth": 0,
              "ticks": ""
             }
            },
            "type": "parcoords"
           }
          ],
          "pie": [
           {
            "automargin": true,
            "type": "pie"
           }
          ],
          "scatter": [
           {
            "fillpattern": {
             "fillmode": "overlay",
             "size": 10,
             "solidity": 0.2
            },
            "type": "scatter"
           }
          ],
          "scatter3d": [
           {
            "line": {
             "colorbar": {
              "outlinewidth": 0,
              "ticks": ""
             }
            },
            "marker": {
             "colorbar": {
              "outlinewidth": 0,
              "ticks": ""
             }
            },
            "type": "scatter3d"
           }
          ],
          "scattercarpet": [
           {
            "marker": {
             "colorbar": {
              "outlinewidth": 0,
              "ticks": ""
             }
            },
            "type": "scattercarpet"
           }
          ],
          "scattergeo": [
           {
            "marker": {
             "colorbar": {
              "outlinewidth": 0,
              "ticks": ""
             }
            },
            "type": "scattergeo"
           }
          ],
          "scattergl": [
           {
            "marker": {
             "colorbar": {
              "outlinewidth": 0,
              "ticks": ""
             }
            },
            "type": "scattergl"
           }
          ],
          "scattermapbox": [
           {
            "marker": {
             "colorbar": {
              "outlinewidth": 0,
              "ticks": ""
             }
            },
            "type": "scattermapbox"
           }
          ],
          "scatterpolar": [
           {
            "marker": {
             "colorbar": {
              "outlinewidth": 0,
              "ticks": ""
             }
            },
            "type": "scatterpolar"
           }
          ],
          "scatterpolargl": [
           {
            "marker": {
             "colorbar": {
              "outlinewidth": 0,
              "ticks": ""
             }
            },
            "type": "scatterpolargl"
           }
          ],
          "scatterternary": [
           {
            "marker": {
             "colorbar": {
              "outlinewidth": 0,
              "ticks": ""
             }
            },
            "type": "scatterternary"
           }
          ],
          "surface": [
           {
            "colorbar": {
             "outlinewidth": 0,
             "ticks": ""
            },
            "colorscale": [
             [
              0,
              "#0d0887"
             ],
             [
              0.1111111111111111,
              "#46039f"
             ],
             [
              0.2222222222222222,
              "#7201a8"
             ],
             [
              0.3333333333333333,
              "#9c179e"
             ],
             [
              0.4444444444444444,
              "#bd3786"
             ],
             [
              0.5555555555555556,
              "#d8576b"
             ],
             [
              0.6666666666666666,
              "#ed7953"
             ],
             [
              0.7777777777777778,
              "#fb9f3a"
             ],
             [
              0.8888888888888888,
              "#fdca26"
             ],
             [
              1,
              "#f0f921"
             ]
            ],
            "type": "surface"
           }
          ],
          "table": [
           {
            "cells": {
             "fill": {
              "color": "#EBF0F8"
             },
             "line": {
              "color": "white"
             }
            },
            "header": {
             "fill": {
              "color": "#C8D4E3"
             },
             "line": {
              "color": "white"
             }
            },
            "type": "table"
           }
          ]
         },
         "layout": {
          "annotationdefaults": {
           "arrowcolor": "#2a3f5f",
           "arrowhead": 0,
           "arrowwidth": 1
          },
          "autotypenumbers": "strict",
          "coloraxis": {
           "colorbar": {
            "outlinewidth": 0,
            "ticks": ""
           }
          },
          "colorscale": {
           "diverging": [
            [
             0,
             "#8e0152"
            ],
            [
             0.1,
             "#c51b7d"
            ],
            [
             0.2,
             "#de77ae"
            ],
            [
             0.3,
             "#f1b6da"
            ],
            [
             0.4,
             "#fde0ef"
            ],
            [
             0.5,
             "#f7f7f7"
            ],
            [
             0.6,
             "#e6f5d0"
            ],
            [
             0.7,
             "#b8e186"
            ],
            [
             0.8,
             "#7fbc41"
            ],
            [
             0.9,
             "#4d9221"
            ],
            [
             1,
             "#276419"
            ]
           ],
           "sequential": [
            [
             0,
             "#0d0887"
            ],
            [
             0.1111111111111111,
             "#46039f"
            ],
            [
             0.2222222222222222,
             "#7201a8"
            ],
            [
             0.3333333333333333,
             "#9c179e"
            ],
            [
             0.4444444444444444,
             "#bd3786"
            ],
            [
             0.5555555555555556,
             "#d8576b"
            ],
            [
             0.6666666666666666,
             "#ed7953"
            ],
            [
             0.7777777777777778,
             "#fb9f3a"
            ],
            [
             0.8888888888888888,
             "#fdca26"
            ],
            [
             1,
             "#f0f921"
            ]
           ],
           "sequentialminus": [
            [
             0,
             "#0d0887"
            ],
            [
             0.1111111111111111,
             "#46039f"
            ],
            [
             0.2222222222222222,
             "#7201a8"
            ],
            [
             0.3333333333333333,
             "#9c179e"
            ],
            [
             0.4444444444444444,
             "#bd3786"
            ],
            [
             0.5555555555555556,
             "#d8576b"
            ],
            [
             0.6666666666666666,
             "#ed7953"
            ],
            [
             0.7777777777777778,
             "#fb9f3a"
            ],
            [
             0.8888888888888888,
             "#fdca26"
            ],
            [
             1,
             "#f0f921"
            ]
           ]
          },
          "colorway": [
           "#636efa",
           "#EF553B",
           "#00cc96",
           "#ab63fa",
           "#FFA15A",
           "#19d3f3",
           "#FF6692",
           "#B6E880",
           "#FF97FF",
           "#FECB52"
          ],
          "font": {
           "color": "#2a3f5f"
          },
          "geo": {
           "bgcolor": "white",
           "lakecolor": "white",
           "landcolor": "#E5ECF6",
           "showlakes": true,
           "showland": true,
           "subunitcolor": "white"
          },
          "hoverlabel": {
           "align": "left"
          },
          "hovermode": "closest",
          "mapbox": {
           "style": "light"
          },
          "paper_bgcolor": "white",
          "plot_bgcolor": "#E5ECF6",
          "polar": {
           "angularaxis": {
            "gridcolor": "white",
            "linecolor": "white",
            "ticks": ""
           },
           "bgcolor": "#E5ECF6",
           "radialaxis": {
            "gridcolor": "white",
            "linecolor": "white",
            "ticks": ""
           }
          },
          "scene": {
           "xaxis": {
            "backgroundcolor": "#E5ECF6",
            "gridcolor": "white",
            "gridwidth": 2,
            "linecolor": "white",
            "showbackground": true,
            "ticks": "",
            "zerolinecolor": "white"
           },
           "yaxis": {
            "backgroundcolor": "#E5ECF6",
            "gridcolor": "white",
            "gridwidth": 2,
            "linecolor": "white",
            "showbackground": true,
            "ticks": "",
            "zerolinecolor": "white"
           },
           "zaxis": {
            "backgroundcolor": "#E5ECF6",
            "gridcolor": "white",
            "gridwidth": 2,
            "linecolor": "white",
            "showbackground": true,
            "ticks": "",
            "zerolinecolor": "white"
           }
          },
          "shapedefaults": {
           "line": {
            "color": "#2a3f5f"
           }
          },
          "ternary": {
           "aaxis": {
            "gridcolor": "white",
            "linecolor": "white",
            "ticks": ""
           },
           "baxis": {
            "gridcolor": "white",
            "linecolor": "white",
            "ticks": ""
           },
           "bgcolor": "#E5ECF6",
           "caxis": {
            "gridcolor": "white",
            "linecolor": "white",
            "ticks": ""
           }
          },
          "title": {
           "x": 0.05
          },
          "xaxis": {
           "automargin": true,
           "gridcolor": "white",
           "linecolor": "white",
           "ticks": "",
           "title": {
            "standoff": 15
           },
           "zerolinecolor": "white",
           "zerolinewidth": 2
          },
          "yaxis": {
           "automargin": true,
           "gridcolor": "white",
           "linecolor": "white",
           "ticks": "",
           "title": {
            "standoff": 15
           },
           "zerolinecolor": "white",
           "zerolinewidth": 2
          }
         }
        },
        "xaxis": {
         "anchor": "y",
         "domain": [
          0,
          1
         ],
         "title": {
          "text": "vlr"
         }
        },
        "yaxis": {
         "anchor": "x",
         "domain": [
          0,
          1
         ]
        }
       }
      }
     },
     "metadata": {},
     "output_type": "display_data"
    }
   ],
   "source": [
    "fig = px.box(df_cidades, x=\"vlr\")\n",
    "fig.show()"
   ]
  },
  {
   "cell_type": "markdown",
   "metadata": {},
   "source": [
    "Verificando os outliers. Identificando os outliers."
   ]
  },
  {
   "cell_type": "code",
   "execution_count": 101,
   "metadata": {},
   "outputs": [
    {
     "data": {
      "text/html": [
       "<div>\n",
       "<style scoped>\n",
       "    .dataframe tbody tr th:only-of-type {\n",
       "        vertical-align: middle;\n",
       "    }\n",
       "\n",
       "    .dataframe tbody tr th {\n",
       "        vertical-align: top;\n",
       "    }\n",
       "\n",
       "    .dataframe thead th {\n",
       "        text-align: right;\n",
       "    }\n",
       "</style>\n",
       "<table border=\"1\" class=\"dataframe\">\n",
       "  <thead>\n",
       "    <tr style=\"text-align: right;\">\n",
       "      <th></th>\n",
       "      <th>Político</th>\n",
       "      <th>Cidade</th>\n",
       "      <th>Valor</th>\n",
       "    </tr>\n",
       "  </thead>\n",
       "  <tbody>\n",
       "    <tr>\n",
       "      <th>75</th>\n",
       "      <td>MOSES RODRIGUES</td>\n",
       "      <td>CRUZ</td>\n",
       "      <td>R$ 10.000.000,00</td>\n",
       "    </tr>\n",
       "    <tr>\n",
       "      <th>74</th>\n",
       "      <td>HEITOR FREIRE</td>\n",
       "      <td>GRANJA</td>\n",
       "      <td>R$ 7.331.441,00</td>\n",
       "    </tr>\n",
       "    <tr>\n",
       "      <th>73</th>\n",
       "      <td>YURY DO PAREDAO</td>\n",
       "      <td>QUITERIANÓPOLIS</td>\n",
       "      <td>R$ 7.000.000,00</td>\n",
       "    </tr>\n",
       "    <tr>\n",
       "      <th>72</th>\n",
       "      <td>PEDRO AUGUSTO BEZERRA</td>\n",
       "      <td>NOVO ORIENTE</td>\n",
       "      <td>R$ 6.000.000,00</td>\n",
       "    </tr>\n",
       "    <tr>\n",
       "      <th>71</th>\n",
       "      <td>GENECIAS NORONHA</td>\n",
       "      <td>PARAMBU</td>\n",
       "      <td>R$ 5.819.682,00</td>\n",
       "    </tr>\n",
       "    <tr>\n",
       "      <th>70</th>\n",
       "      <td>DR. JAZIEL</td>\n",
       "      <td>NOVO ORIENTE</td>\n",
       "      <td>R$ 5.702.232,00</td>\n",
       "    </tr>\n",
       "  </tbody>\n",
       "</table>\n",
       "</div>"
      ],
      "text/plain": [
       "                 Político           Cidade             Valor\n",
       "75        MOSES RODRIGUES             CRUZ  R$ 10.000.000,00\n",
       "74          HEITOR FREIRE           GRANJA   R$ 7.331.441,00\n",
       "73        YURY DO PAREDAO  QUITERIANÓPOLIS   R$ 7.000.000,00\n",
       "72  PEDRO AUGUSTO BEZERRA     NOVO ORIENTE   R$ 6.000.000,00\n",
       "71       GENECIAS NORONHA          PARAMBU   R$ 5.819.682,00\n",
       "70             DR. JAZIEL     NOVO ORIENTE   R$ 5.702.232,00"
      ]
     },
     "execution_count": 101,
     "metadata": {},
     "output_type": "execute_result"
    }
   ],
   "source": [
    "def identificar_limites(serie_coluna):\n",
    "    # Calcular os quartis Q1 e Q3\n",
    "    Q1 = serie_coluna.quantile(0.25)\n",
    "    Q3 = serie_coluna.quantile(0.75)\n",
    "\n",
    "    # Calcular o IQR\n",
    "    IQR = Q3 - Q1\n",
    "\n",
    "    # Definir os limites inferior e superior\n",
    "    limite_inferior = Q1 - 1.5 * IQR\n",
    "    limite_superior = Q3 + 1.5 * IQR\n",
    "    return limite_inferior, limite_superior\n",
    "\n",
    "def get_outliers(df,coluna):\n",
    "    limite_inferior,limite_superior = identificar_limites(df[coluna])\n",
    "    outliers = df[(df[coluna] < limite_inferior) | (df[coluna] > limite_superior)]\n",
    "    return outliers.sort_values(by='vlr', ascending=False)\n",
    "    # return outliers\n",
    "\n",
    "\n",
    "def get_noutliers(df,coluna):\n",
    "    limite_inferior,limite_superior = identificar_limites(df[coluna])\n",
    "    outliers = df[~((df[coluna] < limite_inferior) | (df[coluna] > limite_superior))]\n",
    "    return outliers.sort_values(by='vlr', ascending=False)\n",
    "    # return outliers\n",
    "\n",
    "\n",
    "# Identificar outliers\n",
    "outliers = get_outliers(df_cidades,'vlr')\n",
    "\n",
    "outliers = outliers[['emenda_autor','local_gasto','vlr']]\n",
    "outliers = outliers.rename(columns={'emenda_autor':'Político','local_gasto':'Cidade'})\n",
    "\n",
    "outliers[\"Valor\"] = outliers[\"vlr\"].apply(lambda x: format_currency(x, currency=\"BRL\", locale=\"pt_BR\"))\n",
    "outliers[['Político','Cidade','Valor']]\n"
   ]
  },
  {
   "cell_type": "code",
   "execution_count": 102,
   "metadata": {},
   "outputs": [
    {
     "data": {
      "text/html": [
       "<div>\n",
       "<style scoped>\n",
       "    .dataframe tbody tr th:only-of-type {\n",
       "        vertical-align: middle;\n",
       "    }\n",
       "\n",
       "    .dataframe tbody tr th {\n",
       "        vertical-align: top;\n",
       "    }\n",
       "\n",
       "    .dataframe thead th {\n",
       "        text-align: right;\n",
       "    }\n",
       "</style>\n",
       "<table border=\"1\" class=\"dataframe\">\n",
       "  <thead>\n",
       "    <tr style=\"text-align: right;\">\n",
       "      <th></th>\n",
       "      <th>emenda_autor</th>\n",
       "      <th>local_gasto</th>\n",
       "      <th>vlr</th>\n",
       "    </tr>\n",
       "  </thead>\n",
       "  <tbody>\n",
       "    <tr>\n",
       "      <th>68</th>\n",
       "      <td>JOSE AIRTON FELIX CIRILO</td>\n",
       "      <td>NOVO ORIENTE</td>\n",
       "      <td>5000000.0</td>\n",
       "    </tr>\n",
       "    <tr>\n",
       "      <th>67</th>\n",
       "      <td>DENIS BEZERRA</td>\n",
       "      <td>IPU</td>\n",
       "      <td>4947710.0</td>\n",
       "    </tr>\n",
       "    <tr>\n",
       "      <th>66</th>\n",
       "      <td>VAIDON OLIVEIRA</td>\n",
       "      <td>IPU</td>\n",
       "      <td>4887627.0</td>\n",
       "    </tr>\n",
       "    <tr>\n",
       "      <th>65</th>\n",
       "      <td>DR. JAZIEL</td>\n",
       "      <td>BOA VIAGEM</td>\n",
       "      <td>4887627.0</td>\n",
       "    </tr>\n",
       "    <tr>\n",
       "      <th>64</th>\n",
       "      <td>VAIDON OLIVEIRA</td>\n",
       "      <td>PENTECOSTE</td>\n",
       "      <td>4073023.0</td>\n",
       "    </tr>\n",
       "  </tbody>\n",
       "</table>\n",
       "</div>"
      ],
      "text/plain": [
       "                emenda_autor   local_gasto        vlr\n",
       "68  JOSE AIRTON FELIX CIRILO  NOVO ORIENTE  5000000.0\n",
       "67             DENIS BEZERRA           IPU  4947710.0\n",
       "66           VAIDON OLIVEIRA           IPU  4887627.0\n",
       "65                DR. JAZIEL    BOA VIAGEM  4887627.0\n",
       "64           VAIDON OLIVEIRA    PENTECOSTE  4073023.0"
      ]
     },
     "execution_count": 102,
     "metadata": {},
     "output_type": "execute_result"
    }
   ],
   "source": [
    "# nao outliers\n",
    "noutliers = get_noutliers(df_cidades,'vlr')\n",
    "noutliers.head()"
   ]
  },
  {
   "cell_type": "markdown",
   "metadata": {},
   "source": [
    "### Políticos\n",
    "\n",
    "- politicos que enviaram\n",
    "- políticos enviaram para quantas cidades diferentes\n",
    "- valor enviado por cada político"
   ]
  },
  {
   "cell_type": "code",
   "execution_count": 123,
   "metadata": {},
   "outputs": [
    {
     "data": {
      "text/html": [
       "<style type=\"text/css\">\n",
       "#T_8cc19_row0_col2 {\n",
       "  background-color: #31668e;\n",
       "  color: #f1f1f1;\n",
       "}\n",
       "#T_8cc19_row1_col2 {\n",
       "  background-color: #471063;\n",
       "  color: #f1f1f1;\n",
       "}\n",
       "#T_8cc19_row2_col2 {\n",
       "  background-color: #46337f;\n",
       "  color: #f1f1f1;\n",
       "}\n",
       "#T_8cc19_row3_col2 {\n",
       "  background-color: #287c8e;\n",
       "  color: #f1f1f1;\n",
       "}\n",
       "#T_8cc19_row4_col2 {\n",
       "  background-color: #c0df25;\n",
       "  color: #000000;\n",
       "}\n",
       "#T_8cc19_row5_col2 {\n",
       "  background-color: #26818e;\n",
       "  color: #f1f1f1;\n",
       "}\n",
       "#T_8cc19_row6_col2 {\n",
       "  background-color: #1f9e89;\n",
       "  color: #f1f1f1;\n",
       "}\n",
       "#T_8cc19_row7_col2 {\n",
       "  background-color: #1fa187;\n",
       "  color: #f1f1f1;\n",
       "}\n",
       "#T_8cc19_row8_col2 {\n",
       "  background-color: #3b528b;\n",
       "  color: #f1f1f1;\n",
       "}\n",
       "#T_8cc19_row9_col2 {\n",
       "  background-color: #423f85;\n",
       "  color: #f1f1f1;\n",
       "}\n",
       "#T_8cc19_row10_col2 {\n",
       "  background-color: #1f978b;\n",
       "  color: #f1f1f1;\n",
       "}\n",
       "#T_8cc19_row11_col2 {\n",
       "  background-color: #6ccd5a;\n",
       "  color: #000000;\n",
       "}\n",
       "#T_8cc19_row12_col1 {\n",
       "  background-color: yellow;\n",
       "}\n",
       "#T_8cc19_row12_col2 {\n",
       "  background-color: #fde725;\n",
       "  color: #000000;\n",
       "}\n",
       "#T_8cc19_row13_col2 {\n",
       "  background-color: #440154;\n",
       "  color: #f1f1f1;\n",
       "}\n",
       "#T_8cc19_row14_col2 {\n",
       "  background-color: #86d549;\n",
       "  color: #000000;\n",
       "}\n",
       "#T_8cc19_row15_col2 {\n",
       "  background-color: #482374;\n",
       "  color: #f1f1f1;\n",
       "}\n",
       "#T_8cc19_row16_col2 {\n",
       "  background-color: #1e9c89;\n",
       "  color: #f1f1f1;\n",
       "}\n",
       "</style>\n",
       "<table id=\"T_8cc19\">\n",
       "  <caption>Emendas por Político</caption>\n",
       "  <thead>\n",
       "    <tr>\n",
       "      <th class=\"blank level0\" >&nbsp;</th>\n",
       "      <th id=\"T_8cc19_level0_col0\" class=\"col_heading level0 col0\" >Autor</th>\n",
       "      <th id=\"T_8cc19_level0_col1\" class=\"col_heading level0 col1\" >Cidades Recebedoras</th>\n",
       "      <th id=\"T_8cc19_level0_col2\" class=\"col_heading level0 col2\" >Valor</th>\n",
       "    </tr>\n",
       "  </thead>\n",
       "  <tbody>\n",
       "    <tr>\n",
       "      <th id=\"T_8cc19_level0_row0\" class=\"row_heading level0 row0\" >0</th>\n",
       "      <td id=\"T_8cc19_row0_col0\" class=\"data row0 col0\" >ANDRE FERNANDES</td>\n",
       "      <td id=\"T_8cc19_row0_col1\" class=\"data row0 col1\" >4</td>\n",
       "      <td id=\"T_8cc19_row0_col2\" class=\"data row0 col2\" >6.847.138,50</td>\n",
       "    </tr>\n",
       "    <tr>\n",
       "      <th id=\"T_8cc19_level0_row1\" class=\"row_heading level0 row1\" >1</th>\n",
       "      <td id=\"T_8cc19_row1_col0\" class=\"data row1 col0\" >CAPITAO WAGNER</td>\n",
       "      <td id=\"T_8cc19_row1_col1\" class=\"data row1 col1\" >1</td>\n",
       "      <td id=\"T_8cc19_row1_col2\" class=\"data row1 col2\" >1.714.511,00</td>\n",
       "    </tr>\n",
       "    <tr>\n",
       "      <th id=\"T_8cc19_level0_row2\" class=\"row_heading level0 row2\" >2</th>\n",
       "      <td id=\"T_8cc19_row2_col0\" class=\"data row2 col0\" >CID GOMES</td>\n",
       "      <td id=\"T_8cc19_row2_col1\" class=\"data row2 col1\" >5</td>\n",
       "      <td id=\"T_8cc19_row2_col2\" class=\"data row2 col2\" >3.589.365,00</td>\n",
       "    </tr>\n",
       "    <tr>\n",
       "      <th id=\"T_8cc19_level0_row3\" class=\"row_heading level0 row3\" >3</th>\n",
       "      <td id=\"T_8cc19_row3_col0\" class=\"data row3 col0\" >DENIS BEZERRA</td>\n",
       "      <td id=\"T_8cc19_row3_col1\" class=\"data row3 col1\" >2</td>\n",
       "      <td id=\"T_8cc19_row3_col2\" class=\"data row3 col2\" >8.447.710,00</td>\n",
       "    </tr>\n",
       "    <tr>\n",
       "      <th id=\"T_8cc19_level0_row4\" class=\"row_heading level0 row4\" >4</th>\n",
       "      <td id=\"T_8cc19_row4_col0\" class=\"data row4 col0\" >DR. JAZIEL</td>\n",
       "      <td id=\"T_8cc19_row4_col1\" class=\"data row4 col1\" >6</td>\n",
       "      <td id=\"T_8cc19_row4_col2\" class=\"data row4 col2\" >17.205.289,20</td>\n",
       "    </tr>\n",
       "    <tr>\n",
       "      <th id=\"T_8cc19_level0_row5\" class=\"row_heading level0 row5\" >5</th>\n",
       "      <td id=\"T_8cc19_row5_col0\" class=\"data row5 col0\" >GENECIAS NORONHA</td>\n",
       "      <td id=\"T_8cc19_row5_col1\" class=\"data row5 col1\" >4</td>\n",
       "      <td id=\"T_8cc19_row5_col2\" class=\"data row5 col2\" >8.819.682,00</td>\n",
       "    </tr>\n",
       "    <tr>\n",
       "      <th id=\"T_8cc19_level0_row6\" class=\"row_heading level0 row6\" >6</th>\n",
       "      <td id=\"T_8cc19_row6_col0\" class=\"data row6 col0\" >HEITOR FREIRE</td>\n",
       "      <td id=\"T_8cc19_row6_col1\" class=\"data row6 col1\" >2</td>\n",
       "      <td id=\"T_8cc19_row6_col2\" class=\"data row6 col2\" >10.997.161,00</td>\n",
       "    </tr>\n",
       "    <tr>\n",
       "      <th id=\"T_8cc19_level0_row7\" class=\"row_heading level0 row7\" >7</th>\n",
       "      <td id=\"T_8cc19_row7_col0\" class=\"data row7 col0\" >JOSE AIRTON FELIX CIRILO</td>\n",
       "      <td id=\"T_8cc19_row7_col1\" class=\"data row7 col1\" >1</td>\n",
       "      <td id=\"T_8cc19_row7_col2\" class=\"data row7 col2\" >11.258.418,00</td>\n",
       "    </tr>\n",
       "    <tr>\n",
       "      <th id=\"T_8cc19_level0_row8\" class=\"row_heading level0 row8\" >8</th>\n",
       "      <td id=\"T_8cc19_row8_col0\" class=\"data row8 col0\" >JULIO VENTURA</td>\n",
       "      <td id=\"T_8cc19_row8_col1\" class=\"data row8 col1\" >4</td>\n",
       "      <td id=\"T_8cc19_row8_col2\" class=\"data row8 col2\" >5.475.000,00</td>\n",
       "    </tr>\n",
       "    <tr>\n",
       "      <th id=\"T_8cc19_level0_row9\" class=\"row_heading level0 row9\" >9</th>\n",
       "      <td id=\"T_8cc19_row9_col0\" class=\"data row9 col0\" >MAURO BENEVIDES FILHO</td>\n",
       "      <td id=\"T_8cc19_row9_col1\" class=\"data row9 col1\" >5</td>\n",
       "      <td id=\"T_8cc19_row9_col2\" class=\"data row9 col2\" >4.300.060,00</td>\n",
       "    </tr>\n",
       "    <tr>\n",
       "      <th id=\"T_8cc19_level0_row10\" class=\"row_heading level0 row10\" >10</th>\n",
       "      <td id=\"T_8cc19_row10_col0\" class=\"data row10 col0\" >MOSES RODRIGUES</td>\n",
       "      <td id=\"T_8cc19_row10_col1\" class=\"data row10 col1\" >2</td>\n",
       "      <td id=\"T_8cc19_row10_col2\" class=\"data row10 col2\" >10.461.857,04</td>\n",
       "    </tr>\n",
       "    <tr>\n",
       "      <th id=\"T_8cc19_level0_row11\" class=\"row_heading level0 row11\" >11</th>\n",
       "      <td id=\"T_8cc19_row11_col0\" class=\"data row11 col0\" >PEDRO AUGUSTO BEZERRA</td>\n",
       "      <td id=\"T_8cc19_row11_col1\" class=\"data row11 col1\" >8</td>\n",
       "      <td id=\"T_8cc19_row11_col2\" class=\"data row11 col2\" >14.905.652,00</td>\n",
       "    </tr>\n",
       "    <tr>\n",
       "      <th id=\"T_8cc19_level0_row12\" class=\"row_heading level0 row12\" >12</th>\n",
       "      <td id=\"T_8cc19_row12_col0\" class=\"data row12 col0\" >ROBERIO MONTEIRO</td>\n",
       "      <td id=\"T_8cc19_row12_col1\" class=\"data row12 col1\" >13</td>\n",
       "      <td id=\"T_8cc19_row12_col2\" class=\"data row12 col2\" >18.924.347,87</td>\n",
       "    </tr>\n",
       "    <tr>\n",
       "      <th id=\"T_8cc19_level0_row13\" class=\"row_heading level0 row13\" >13</th>\n",
       "      <td id=\"T_8cc19_row13_col0\" class=\"data row13 col0\" >RONALDO MARTINS</td>\n",
       "      <td id=\"T_8cc19_row13_col1\" class=\"data row13 col1\" >1</td>\n",
       "      <td id=\"T_8cc19_row13_col2\" class=\"data row13 col2\" >977.525,00</td>\n",
       "    </tr>\n",
       "    <tr>\n",
       "      <th id=\"T_8cc19_level0_row14\" class=\"row_heading level0 row14\" >14</th>\n",
       "      <td id=\"T_8cc19_row14_col0\" class=\"data row14 col0\" >VAIDON OLIVEIRA</td>\n",
       "      <td id=\"T_8cc19_row14_col1\" class=\"data row14 col1\" >5</td>\n",
       "      <td id=\"T_8cc19_row14_col2\" class=\"data row14 col2\" >15.640.406,00</td>\n",
       "    </tr>\n",
       "    <tr>\n",
       "      <th id=\"T_8cc19_level0_row15\" class=\"row_heading level0 row15\" >15</th>\n",
       "      <td id=\"T_8cc19_row15_col0\" class=\"data row15 col0\" >VINICIUS GURGEL</td>\n",
       "      <td id=\"T_8cc19_row15_col1\" class=\"data row15 col1\" >1</td>\n",
       "      <td id=\"T_8cc19_row15_col2\" class=\"data row15 col2\" >2.672.458,52</td>\n",
       "    </tr>\n",
       "    <tr>\n",
       "      <th id=\"T_8cc19_level0_row16\" class=\"row_heading level0 row16\" >16</th>\n",
       "      <td id=\"T_8cc19_row16_col0\" class=\"data row16 col0\" >YURY DO PAREDAO</td>\n",
       "      <td id=\"T_8cc19_row16_col1\" class=\"data row16 col1\" >3</td>\n",
       "      <td id=\"T_8cc19_row16_col2\" class=\"data row16 col2\" >10.804.665,87</td>\n",
       "    </tr>\n",
       "  </tbody>\n",
       "</table>\n"
      ],
      "text/plain": [
       "<pandas.io.formats.style.Styler at 0x1a0bf5915d0>"
      ]
     },
     "execution_count": 123,
     "metadata": {},
     "output_type": "execute_result"
    }
   ],
   "source": [
    "politicos_df = (\n",
    "    df_cidades\n",
    "    .groupby(['emenda_autor'], as_index=False)\n",
    "    .agg({'local_gasto':pd.Series.nunique, 'vlr': 'sum'})\n",
    ")\n",
    "\n",
    "\n",
    "# politicos_df = politicos_df.sort_values(by='vlr', ascending=False)\n",
    "politicos_df.rename(columns={'emenda_autor':'Autor', 'local_gasto':'Cidades Recebedoras','vlr':'Valor'}, inplace=True)\n",
    "\n",
    "\n",
    "\n",
    "politicos_df.style \\\n",
    ".set_caption(\"Emendas por Político\") \\\n",
    ".format(precision=2, thousands=\".\", decimal=\",\") \\\n",
    ".background_gradient(subset=[\"Valor\"],cmap=\"viridis\") \\\n",
    ".highlight_max(subset=[\"Cidades Recebedoras\"], color='yellow', axis=0, props=None)\n"
   ]
  },
  {
   "cell_type": "code",
   "execution_count": null,
   "metadata": {},
   "outputs": [],
   "source": [
    "variaval1 = 10\n",
    "variavel2 = 20"
   ]
  },
  {
   "cell_type": "markdown",
   "metadata": {},
   "source": [
    "Primeiro valor {{variavel1}} e segundo valor {{variavel2}}"
   ]
  }
 ],
 "metadata": {
  "kernelspec": {
   "display_name": "Python 3",
   "language": "python",
   "name": "python3"
  },
  "language_info": {
   "codemirror_mode": {
    "name": "ipython",
    "version": 3
   },
   "file_extension": ".py",
   "mimetype": "text/x-python",
   "name": "python",
   "nbconvert_exporter": "python",
   "pygments_lexer": "ipython3",
   "version": "3.11.3"
  }
 },
 "nbformat": 4,
 "nbformat_minor": 2
}

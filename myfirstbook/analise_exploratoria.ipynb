{
 "cells": [
  {
   "cell_type": "markdown",
   "metadata": {},
   "source": [
    "# Analise Exploratória de Dados com Python\n",
    "\n",
    "## Emendas Paralamentares\n",
    "\n",
    "Iremos analisar os dados de Emendas Parlamentares distribuídas nos anos de 2023 e 2024. NOsso foco será são nos dados do estado do Ceará e seus municípios. Estes dados estão disponíveis no [Painel de Emendas Paralamentares](https://portaldatransparencia.gov.br/emendas) do Portal da Transparência."
   ]
  },
  {
   "cell_type": "markdown",
   "metadata": {},
   "source": [
    "Importando as bibliotecas necessárias:\n",
    "- numpy: coleção de funções matemáticas\n",
    "- pandas: biblioteca para manipulação e análise de dados\n",
    "- matplotlib: criação de gráficos e visualização de dados\n",
    "- plotly: gráficos interativos\n",
    "- babel: deixar valores monetário em moeda nacional"
   ]
  },
  {
   "cell_type": "code",
   "execution_count": null,
   "metadata": {},
   "outputs": [],
   "source": [
    "import numpy as np\n",
    "import pandas as pd\n",
    "import matplotlib.pylab as plt\n",
    "import plotly.io as pio\n",
    "import plotly.express as px\n",
    "import plotly.offline as py\n",
    "from babel.numbers import format_currency\n",
    "\n",
    "# retirar notação científica do pandas\n",
    "# pd.set_option('display.float_format', '{:.2f}'.format)"
   ]
  },
  {
   "cell_type": "markdown",
   "metadata": {},
   "source": [
    "Os dados foram baixados em formato csv e estão na raiz do projeto. "
   ]
  },
  {
   "cell_type": "code",
   "execution_count": null,
   "metadata": {},
   "outputs": [
    {
     "data": {
      "text/html": [
       "<div>\n",
       "<style scoped>\n",
       "    .dataframe tbody tr th:only-of-type {\n",
       "        vertical-align: middle;\n",
       "    }\n",
       "\n",
       "    .dataframe tbody tr th {\n",
       "        vertical-align: top;\n",
       "    }\n",
       "\n",
       "    .dataframe thead th {\n",
       "        text-align: right;\n",
       "    }\n",
       "</style>\n",
       "<table border=\"1\" class=\"dataframe\">\n",
       "  <thead>\n",
       "    <tr style=\"text-align: right;\">\n",
       "      <th></th>\n",
       "      <th>Ano</th>\n",
       "      <th>Tipo de Emenda</th>\n",
       "      <th>Autor da emenda</th>\n",
       "      <th>Número da emenda</th>\n",
       "      <th>Localidade do gasto (Regionalização)</th>\n",
       "      <th>Função</th>\n",
       "      <th>Subfunção</th>\n",
       "      <th>Programa Orçamentário</th>\n",
       "      <th>Ação Orçamentária</th>\n",
       "      <th>Plano Orçamentário</th>\n",
       "      <th>Código da emenda</th>\n",
       "      <th>Valor empenhado</th>\n",
       "      <th>Valor liquidado</th>\n",
       "      <th>Valor pago</th>\n",
       "      <th>Valor Restos a Pagar Inscritos</th>\n",
       "      <th>Valor Restos a Pagar Cancelados</th>\n",
       "      <th>Valor Restos a Pagar Pagos</th>\n",
       "      <th>Unnamed: 17</th>\n",
       "    </tr>\n",
       "  </thead>\n",
       "  <tbody>\n",
       "    <tr>\n",
       "      <th>0</th>\n",
       "      <td>2022</td>\n",
       "      <td>Emenda Individual - Transferências Especiais</td>\n",
       "      <td>MARCIO ALVINO</td>\n",
       "      <td>6</td>\n",
       "      <td>SÃO PAULO (UF)</td>\n",
       "      <td>Encargos especiais</td>\n",
       "      <td>Outras transferências</td>\n",
       "      <td>0903 - OPERACOES ESPECIAIS: TRANSFERENCIAS CON...</td>\n",
       "      <td>0EC2 - TRANSFERENCIAS ESPECIAIS</td>\n",
       "      <td>TRANSFERENCIAS ESPECIAIS</td>\n",
       "      <td>202237170006</td>\n",
       "      <td>100.000,00</td>\n",
       "      <td>0,00</td>\n",
       "      <td>0,00</td>\n",
       "      <td>100.000,00</td>\n",
       "      <td>0,00</td>\n",
       "      <td>100.000,00</td>\n",
       "      <td>NaN</td>\n",
       "    </tr>\n",
       "    <tr>\n",
       "      <th>1</th>\n",
       "      <td>2024</td>\n",
       "      <td>Emenda Individual - Transferências Especiais</td>\n",
       "      <td>JUNIO AMARAL</td>\n",
       "      <td>16</td>\n",
       "      <td>MINAS GERAIS (UF)</td>\n",
       "      <td>Encargos especiais</td>\n",
       "      <td>Outras transferências</td>\n",
       "      <td>0903 - OPERACOES ESPECIAIS: TRANSFERENCIAS CON...</td>\n",
       "      <td>0EC2 - TRANSFERENCIAS ESPECIAIS</td>\n",
       "      <td>TRANSFERENCIAS ESPECIAIS</td>\n",
       "      <td>202439240016</td>\n",
       "      <td>100.000,00</td>\n",
       "      <td>0,00</td>\n",
       "      <td>0,00</td>\n",
       "      <td>0,00</td>\n",
       "      <td>0,00</td>\n",
       "      <td>0,00</td>\n",
       "      <td>NaN</td>\n",
       "    </tr>\n",
       "    <tr>\n",
       "      <th>2</th>\n",
       "      <td>2024</td>\n",
       "      <td>Emenda Individual - Transferências Especiais</td>\n",
       "      <td>JOAQUIM PASSARINHO</td>\n",
       "      <td>14</td>\n",
       "      <td>PARÁ (UF)</td>\n",
       "      <td>Encargos especiais</td>\n",
       "      <td>Outras transferências</td>\n",
       "      <td>0903 - OPERACOES ESPECIAIS: TRANSFERENCIAS CON...</td>\n",
       "      <td>0EC2 - TRANSFERENCIAS ESPECIAIS</td>\n",
       "      <td>TRANSFERENCIAS ESPECIAIS</td>\n",
       "      <td>202436920014</td>\n",
       "      <td>100.000,00</td>\n",
       "      <td>100.000,00</td>\n",
       "      <td>100.000,00</td>\n",
       "      <td>0,00</td>\n",
       "      <td>0,00</td>\n",
       "      <td>0,00</td>\n",
       "      <td>NaN</td>\n",
       "    </tr>\n",
       "  </tbody>\n",
       "</table>\n",
       "</div>"
      ],
      "text/plain": [
       "    Ano                                Tipo de Emenda     Autor da emenda  \\\n",
       "0  2022  Emenda Individual - Transferências Especiais       MARCIO ALVINO   \n",
       "1  2024  Emenda Individual - Transferências Especiais        JUNIO AMARAL   \n",
       "2  2024  Emenda Individual - Transferências Especiais  JOAQUIM PASSARINHO   \n",
       "\n",
       "   Número da emenda Localidade do gasto (Regionalização)              Função  \\\n",
       "0                 6                       SÃO PAULO (UF)  Encargos especiais   \n",
       "1                16                    MINAS GERAIS (UF)  Encargos especiais   \n",
       "2                14                            PARÁ (UF)  Encargos especiais   \n",
       "\n",
       "               Subfunção                              Programa Orçamentário  \\\n",
       "0  Outras transferências  0903 - OPERACOES ESPECIAIS: TRANSFERENCIAS CON...   \n",
       "1  Outras transferências  0903 - OPERACOES ESPECIAIS: TRANSFERENCIAS CON...   \n",
       "2  Outras transferências  0903 - OPERACOES ESPECIAIS: TRANSFERENCIAS CON...   \n",
       "\n",
       "                 Ação Orçamentária        Plano Orçamentário  \\\n",
       "0  0EC2 - TRANSFERENCIAS ESPECIAIS  TRANSFERENCIAS ESPECIAIS   \n",
       "1  0EC2 - TRANSFERENCIAS ESPECIAIS  TRANSFERENCIAS ESPECIAIS   \n",
       "2  0EC2 - TRANSFERENCIAS ESPECIAIS  TRANSFERENCIAS ESPECIAIS   \n",
       "\n",
       "   Código da emenda Valor empenhado Valor liquidado  Valor pago  \\\n",
       "0      202237170006      100.000,00            0,00        0,00   \n",
       "1      202439240016      100.000,00            0,00        0,00   \n",
       "2      202436920014      100.000,00      100.000,00  100.000,00   \n",
       "\n",
       "  Valor Restos a Pagar Inscritos Valor Restos a Pagar Cancelados  \\\n",
       "0                     100.000,00                            0,00   \n",
       "1                           0,00                            0,00   \n",
       "2                           0,00                            0,00   \n",
       "\n",
       "  Valor Restos a Pagar Pagos  Unnamed: 17  \n",
       "0                 100.000,00          NaN  \n",
       "1                       0,00          NaN  \n",
       "2                       0,00          NaN  "
      ]
     },
     "execution_count": 3,
     "metadata": {},
     "output_type": "execute_result"
    }
   ],
   "source": [
    "# carregando os dados \n",
    "df = pd.read_csv('../emendas.csv', sep=';')\n",
    "\n",
    "# exibindo as primeiras 3 linhas\n",
    "df.head(3)"
   ]
  },
  {
   "cell_type": "markdown",
   "metadata": {},
   "source": [
    "## Estrutura\n",
    "\n",
    "É importante sabermos a estrutura do nosso Dataframe (quantidade de linhas e colunas, quais os tipos de dados) para posteriormente selecionarmos as colunas de nosso interesse e realizamos alguma conversão de tipo de dado. Essa estrutura pode ser exibida da seguinte forma:"
   ]
  },
  {
   "cell_type": "code",
   "execution_count": 4,
   "metadata": {},
   "outputs": [
    {
     "name": "stdout",
     "output_type": "stream",
     "text": [
      "<class 'pandas.core.frame.DataFrame'>\n",
      "RangeIndex: 2849 entries, 0 to 2848\n",
      "Data columns (total 18 columns):\n",
      " #   Column                                Non-Null Count  Dtype  \n",
      "---  ------                                --------------  -----  \n",
      " 0   Ano                                   2849 non-null   int64  \n",
      " 1   Tipo de Emenda                        2849 non-null   object \n",
      " 2   Autor da emenda                       2849 non-null   object \n",
      " 3   Número da emenda                      2849 non-null   int64  \n",
      " 4   Localidade do gasto (Regionalização)  2849 non-null   object \n",
      " 5   Função                                2849 non-null   object \n",
      " 6   Subfunção                             2849 non-null   object \n",
      " 7   Programa Orçamentário                 2849 non-null   object \n",
      " 8   Ação Orçamentária                     2849 non-null   object \n",
      " 9   Plano Orçamentário                    2849 non-null   object \n",
      " 10  Código da emenda                      2849 non-null   int64  \n",
      " 11  Valor empenhado                       2849 non-null   object \n",
      " 12  Valor liquidado                       2849 non-null   object \n",
      " 13  Valor pago                            2849 non-null   object \n",
      " 14  Valor Restos a Pagar Inscritos        2849 non-null   object \n",
      " 15  Valor Restos a Pagar Cancelados       2849 non-null   object \n",
      " 16  Valor Restos a Pagar Pagos            2849 non-null   object \n",
      " 17  Unnamed: 17                           0 non-null      float64\n",
      "dtypes: float64(1), int64(3), object(14)\n",
      "memory usage: 400.8+ KB\n"
     ]
    }
   ],
   "source": [
    "# informações sobre a base\n",
    "df.info()"
   ]
  },
  {
   "cell_type": "markdown",
   "metadata": {},
   "source": [
    "### Selecionando colunas\n",
    "\n",
    "As colunas de nosso intersse são: autor da emenda, localidade do gasto e todas as colunas iniciadas por valor. Vamos fazer a seleção através do índice das colunas."
   ]
  },
  {
   "cell_type": "code",
   "execution_count": 5,
   "metadata": {},
   "outputs": [
    {
     "name": "stdout",
     "output_type": "stream",
     "text": [
      "<class 'pandas.core.frame.DataFrame'>\n",
      "RangeIndex: 2849 entries, 0 to 2848\n",
      "Data columns (total 8 columns):\n",
      " #   Column                                Non-Null Count  Dtype \n",
      "---  ------                                --------------  ----- \n",
      " 0   Autor da emenda                       2849 non-null   object\n",
      " 1   Localidade do gasto (Regionalização)  2849 non-null   object\n",
      " 2   Valor empenhado                       2849 non-null   object\n",
      " 3   Valor liquidado                       2849 non-null   object\n",
      " 4   Valor pago                            2849 non-null   object\n",
      " 5   Valor Restos a Pagar Inscritos        2849 non-null   object\n",
      " 6   Valor Restos a Pagar Cancelados       2849 non-null   object\n",
      " 7   Valor Restos a Pagar Pagos            2849 non-null   object\n",
      "dtypes: object(8)\n",
      "memory usage: 178.2+ KB\n"
     ]
    }
   ],
   "source": [
    "# todas as linhas e as desejadas\n",
    "df = df.iloc[:, [2,4,11,12,13,14,15,16]]\n",
    "df.info()"
   ]
  },
  {
   "cell_type": "markdown",
   "metadata": {},
   "source": [
    "### Renomeando colunas\n",
    "\n",
    "Renomeando as colunas para trabalhar mais facilmente."
   ]
  },
  {
   "cell_type": "code",
   "execution_count": 6,
   "metadata": {},
   "outputs": [
    {
     "data": {
      "text/html": [
       "<div>\n",
       "<style scoped>\n",
       "    .dataframe tbody tr th:only-of-type {\n",
       "        vertical-align: middle;\n",
       "    }\n",
       "\n",
       "    .dataframe tbody tr th {\n",
       "        vertical-align: top;\n",
       "    }\n",
       "\n",
       "    .dataframe thead th {\n",
       "        text-align: right;\n",
       "    }\n",
       "</style>\n",
       "<table border=\"1\" class=\"dataframe\">\n",
       "  <thead>\n",
       "    <tr style=\"text-align: right;\">\n",
       "      <th></th>\n",
       "      <th>emenda_autor</th>\n",
       "      <th>local_gasto</th>\n",
       "      <th>vlr_empenhado</th>\n",
       "      <th>vlr_liquido</th>\n",
       "      <th>vlr_pago</th>\n",
       "      <th>vlr_restos_pagar_inscrito</th>\n",
       "      <th>vlr_restos_pagar_cancelados</th>\n",
       "      <th>vlr_restos_pagar_pagos</th>\n",
       "    </tr>\n",
       "  </thead>\n",
       "  <tbody>\n",
       "    <tr>\n",
       "      <th>0</th>\n",
       "      <td>MARCIO ALVINO</td>\n",
       "      <td>SÃO PAULO (UF)</td>\n",
       "      <td>100.000,00</td>\n",
       "      <td>0,00</td>\n",
       "      <td>0,00</td>\n",
       "      <td>100.000,00</td>\n",
       "      <td>0,00</td>\n",
       "      <td>100.000,00</td>\n",
       "    </tr>\n",
       "    <tr>\n",
       "      <th>1</th>\n",
       "      <td>JUNIO AMARAL</td>\n",
       "      <td>MINAS GERAIS (UF)</td>\n",
       "      <td>100.000,00</td>\n",
       "      <td>0,00</td>\n",
       "      <td>0,00</td>\n",
       "      <td>0,00</td>\n",
       "      <td>0,00</td>\n",
       "      <td>0,00</td>\n",
       "    </tr>\n",
       "    <tr>\n",
       "      <th>2</th>\n",
       "      <td>JOAQUIM PASSARINHO</td>\n",
       "      <td>PARÁ (UF)</td>\n",
       "      <td>100.000,00</td>\n",
       "      <td>100.000,00</td>\n",
       "      <td>100.000,00</td>\n",
       "      <td>0,00</td>\n",
       "      <td>0,00</td>\n",
       "      <td>0,00</td>\n",
       "    </tr>\n",
       "    <tr>\n",
       "      <th>3</th>\n",
       "      <td>VINICIUS FARAH</td>\n",
       "      <td>PATY DO ALFERES - RJ</td>\n",
       "      <td>100.000,00</td>\n",
       "      <td>0,00</td>\n",
       "      <td>0,00</td>\n",
       "      <td>100.000,00</td>\n",
       "      <td>0,00</td>\n",
       "      <td>100.000,00</td>\n",
       "    </tr>\n",
       "    <tr>\n",
       "      <th>4</th>\n",
       "      <td>SERGIO PETECAO</td>\n",
       "      <td>Nacional</td>\n",
       "      <td>100.000,00</td>\n",
       "      <td>100.000,00</td>\n",
       "      <td>100.000,00</td>\n",
       "      <td>0,00</td>\n",
       "      <td>0,00</td>\n",
       "      <td>0,00</td>\n",
       "    </tr>\n",
       "  </tbody>\n",
       "</table>\n",
       "</div>"
      ],
      "text/plain": [
       "         emenda_autor           local_gasto vlr_empenhado vlr_liquido  \\\n",
       "0       MARCIO ALVINO        SÃO PAULO (UF)    100.000,00        0,00   \n",
       "1        JUNIO AMARAL     MINAS GERAIS (UF)    100.000,00        0,00   \n",
       "2  JOAQUIM PASSARINHO             PARÁ (UF)    100.000,00  100.000,00   \n",
       "3      VINICIUS FARAH  PATY DO ALFERES - RJ    100.000,00        0,00   \n",
       "4      SERGIO PETECAO              Nacional    100.000,00  100.000,00   \n",
       "\n",
       "     vlr_pago vlr_restos_pagar_inscrito vlr_restos_pagar_cancelados  \\\n",
       "0        0,00                100.000,00                        0,00   \n",
       "1        0,00                      0,00                        0,00   \n",
       "2  100.000,00                      0,00                        0,00   \n",
       "3        0,00                100.000,00                        0,00   \n",
       "4  100.000,00                      0,00                        0,00   \n",
       "\n",
       "  vlr_restos_pagar_pagos  \n",
       "0             100.000,00  \n",
       "1                   0,00  \n",
       "2                   0,00  \n",
       "3             100.000,00  \n",
       "4                   0,00  "
      ]
     },
     "execution_count": 6,
     "metadata": {},
     "output_type": "execute_result"
    }
   ],
   "source": [
    "# lista com nome das colunas seguindo a ordem do dataframe original\n",
    "df.columns = ['emenda_autor','local_gasto','vlr_empenhado','vlr_liquido','vlr_pago','vlr_restos_pagar_inscrito'\n",
    "              ,'vlr_restos_pagar_cancelados','vlr_restos_pagar_pagos']\n",
    "df.head()"
   ]
  },
  {
   "cell_type": "markdown",
   "metadata": {},
   "source": [
    "### Convertendo valores\n",
    "\n",
    "As colunas de valores hoje estão como texto e precisam ser convertidas para float para que possamos realizar operações matemáticas com elas. O padrão demimal aqui será apenas com ponto como separador pros decimais. Para isto, em cada linha destas serão realizadas duas operações, retirar o ponto como separador de milhar, e substituir a vírgula pelo ponto."
   ]
  },
  {
   "cell_type": "code",
   "execution_count": 7,
   "metadata": {},
   "outputs": [
    {
     "name": "stdout",
     "output_type": "stream",
     "text": [
      "<class 'pandas.core.frame.DataFrame'>\n",
      "RangeIndex: 2849 entries, 0 to 2848\n",
      "Data columns (total 8 columns):\n",
      " #   Column                       Non-Null Count  Dtype  \n",
      "---  ------                       --------------  -----  \n",
      " 0   emenda_autor                 2849 non-null   object \n",
      " 1   local_gasto                  2849 non-null   object \n",
      " 2   vlr_empenhado                2849 non-null   float64\n",
      " 3   vlr_liquido                  2849 non-null   float64\n",
      " 4   vlr_pago                     2849 non-null   float64\n",
      " 5   vlr_restos_pagar_inscrito    2849 non-null   float64\n",
      " 6   vlr_restos_pagar_cancelados  2849 non-null   float64\n",
      " 7   vlr_restos_pagar_pagos       2849 non-null   float64\n",
      "dtypes: float64(6), object(2)\n",
      "memory usage: 178.2+ KB\n"
     ]
    }
   ],
   "source": [
    "# retira o ponto e depois troca vírgula por ponto\n",
    "def convert_to_float(x):\n",
    "    return float(x.replace(\".\",\"\").replace(\",\",\".\"))\n",
    "\n",
    "# quero aplicar em todas as colunas que comecem com esse prefixo\n",
    "prefix = 'vlr_'\n",
    "\n",
    "# lista das colunas\n",
    "colunas = [col for col in df if col.startswith(prefix)]\n",
    "\n",
    "# aplicando a função\n",
    "for coluna in colunas:\n",
    "    df[coluna] = df[coluna].map(lambda x: convert_to_float(x))\n",
    "\n",
    "df.info()"
   ]
  },
  {
   "cell_type": "markdown",
   "metadata": {},
   "source": [
    "### Ajustando valor pago\n",
    "\n",
    "Ajustado o valor numérico, precisamos ajustar o valor pago nas emendas.\n",
    "\n",
    "O pagamento da emeda pode se apresentar nas seguintes formas:\n",
    "\n",
    "- pode ter sido paga, então `vlr_pago > 0` e `vlr_restos_pagar_pagos == 0`; \n",
    "- pode ter ido para restos a pagar pagos, então `vlr_restos_pagar_pagos > 0` e `vlr_pago == 0`;\n",
    "- não ter sido paga, `vlr_pago == 0` e `vlr_restos_pagar_pagos == 0`.\n",
    " \n",
    "Estamos interessados nas que *foram pagas*, ou seja, (`vlr_pago > 0 ou vlr_restos_pagar_pagos > 0`)."
   ]
  },
  {
   "cell_type": "code",
   "execution_count": 8,
   "metadata": {},
   "outputs": [
    {
     "data": {
      "text/html": [
       "<div>\n",
       "<style scoped>\n",
       "    .dataframe tbody tr th:only-of-type {\n",
       "        vertical-align: middle;\n",
       "    }\n",
       "\n",
       "    .dataframe tbody tr th {\n",
       "        vertical-align: top;\n",
       "    }\n",
       "\n",
       "    .dataframe thead th {\n",
       "        text-align: right;\n",
       "    }\n",
       "</style>\n",
       "<table border=\"1\" class=\"dataframe\">\n",
       "  <thead>\n",
       "    <tr style=\"text-align: right;\">\n",
       "      <th></th>\n",
       "      <th>emenda_autor</th>\n",
       "      <th>local_gasto</th>\n",
       "      <th>vlr</th>\n",
       "    </tr>\n",
       "  </thead>\n",
       "  <tbody>\n",
       "    <tr>\n",
       "      <th>0</th>\n",
       "      <td>MARCIO ALVINO</td>\n",
       "      <td>SÃO PAULO (UF)</td>\n",
       "      <td>100000.0</td>\n",
       "    </tr>\n",
       "    <tr>\n",
       "      <th>2</th>\n",
       "      <td>JOAQUIM PASSARINHO</td>\n",
       "      <td>PARÁ (UF)</td>\n",
       "      <td>100000.0</td>\n",
       "    </tr>\n",
       "    <tr>\n",
       "      <th>3</th>\n",
       "      <td>VINICIUS FARAH</td>\n",
       "      <td>PATY DO ALFERES - RJ</td>\n",
       "      <td>100000.0</td>\n",
       "    </tr>\n",
       "    <tr>\n",
       "      <th>4</th>\n",
       "      <td>SERGIO PETECAO</td>\n",
       "      <td>Nacional</td>\n",
       "      <td>100000.0</td>\n",
       "    </tr>\n",
       "    <tr>\n",
       "      <th>6</th>\n",
       "      <td>EDILAZIO JUNIOR</td>\n",
       "      <td>CODÓ - MA</td>\n",
       "      <td>100000.0</td>\n",
       "    </tr>\n",
       "  </tbody>\n",
       "</table>\n",
       "</div>"
      ],
      "text/plain": [
       "         emenda_autor           local_gasto       vlr\n",
       "0       MARCIO ALVINO        SÃO PAULO (UF)  100000.0\n",
       "2  JOAQUIM PASSARINHO             PARÁ (UF)  100000.0\n",
       "3      VINICIUS FARAH  PATY DO ALFERES - RJ  100000.0\n",
       "4      SERGIO PETECAO              Nacional  100000.0\n",
       "6     EDILAZIO JUNIOR             CODÓ - MA  100000.0"
      ]
     },
     "execution_count": 8,
     "metadata": {},
     "output_type": "execute_result"
    }
   ],
   "source": [
    "# Criar nova coluna com a soma das colunas \n",
    "df['vlr'] = df['vlr_pago']+df['vlr_restos_pagar_pagos']\n",
    "\n",
    "# caso a soma nova coluna for maior que zero\n",
    "# significa que aquela emenda foi paga\n",
    "# filtrar apenas estas\n",
    "df = df[df['vlr']>0]\n",
    "\n",
    "# selecionar apenas colunas de interesse\n",
    "df = df[['emenda_autor','local_gasto','vlr']]\n",
    "df.head()"
   ]
  },
  {
   "cell_type": "markdown",
   "metadata": {},
   "source": [
    "## Emendas"
   ]
  },
  {
   "cell_type": "markdown",
   "metadata": {},
   "source": [
    "### Emendas Estaduais\n",
    "\n",
    "Analisando apenas as emendas enviadas apenas para estados, quero saber quantos estados e quantas emendas foram contemplados."
   ]
  },
  {
   "cell_type": "code",
   "execution_count": 9,
   "metadata": {},
   "outputs": [
    {
     "name": "stdout",
     "output_type": "stream",
     "text": [
      "Quantidade de emendas enviadas para os estados: 1772. \n",
      "Quantidade de estados recebedores de emendas: 27 \n"
     ]
    }
   ],
   "source": [
    "# Separando as emendas estaduais\n",
    "# Emendas enviadas para estados terminam com (UF)\n",
    "emendas_estaduais = df.loc[df['local_gasto'].str.contains('(UF)',regex=False), ['local_gasto', 'vlr','emenda_autor']]\n",
    "\n",
    "# retirando a marcação (UF) do nome do estado.\n",
    "emendas_estaduais[\"local_gasto\"] = emendas_estaduais[\"local_gasto\"].apply(lambda x: x.replace(\" (UF)\", \"\"))\n",
    "\n",
    "# shape exibe quantidade de linhas e colunas\n",
    "# quantidade de emendas será a quantidade de linnhas\n",
    "# para este caso!\n",
    "emendas_est_qtd = emendas_estaduais.shape[0]\n",
    "\n",
    "# quantidade de estados que receberam\n",
    "# assim teremos um array\n",
    "estados_recebedores = emendas_estaduais['local_gasto'].unique()\n",
    "estados_emendas_qtd = len(estados_recebedores)\n",
    "\n",
    "print(f\"Quantidade de emendas enviadas para os estados: {emendas_est_qtd}. \\\n",
    "\\nQuantidade de estados recebedores de emendas: {estados_emendas_qtd} \")"
   ]
  },
  {
   "cell_type": "markdown",
   "metadata": {},
   "source": [
    "Quero saber também as informações do volume financeiro enviado e quantos políticos enviaram para cada estado. Precisamos realizar agregação por estado para somar os valores e contar os autores.\n",
    "\n",
    "Vou formatar o valor pra ser aprensentado na nossa moeda. Isso tem a desvantagem de transformar a coluna novamente em texto, impedindo operações metemáticas com a coluna. Posteriormente veremos outras formas que preservam o tipo de dado. "
   ]
  },
  {
   "cell_type": "code",
   "execution_count": 10,
   "metadata": {},
   "outputs": [
    {
     "data": {
      "text/html": [
       "<div>\n",
       "<style scoped>\n",
       "    .dataframe tbody tr th:only-of-type {\n",
       "        vertical-align: middle;\n",
       "    }\n",
       "\n",
       "    .dataframe tbody tr th {\n",
       "        vertical-align: top;\n",
       "    }\n",
       "\n",
       "    .dataframe thead th {\n",
       "        text-align: right;\n",
       "    }\n",
       "</style>\n",
       "<table border=\"1\" class=\"dataframe\">\n",
       "  <thead>\n",
       "    <tr style=\"text-align: right;\">\n",
       "      <th></th>\n",
       "      <th>Estado</th>\n",
       "      <th>Emendas</th>\n",
       "      <th>Valor</th>\n",
       "      <th>Políticos</th>\n",
       "      <th>Valor (R$)</th>\n",
       "    </tr>\n",
       "  </thead>\n",
       "  <tbody>\n",
       "    <tr>\n",
       "      <th>0</th>\n",
       "      <td>ACRE</td>\n",
       "      <td>59</td>\n",
       "      <td>2.706689e+08</td>\n",
       "      <td>19</td>\n",
       "      <td>R$ 270.668.887,72</td>\n",
       "    </tr>\n",
       "    <tr>\n",
       "      <th>1</th>\n",
       "      <td>ALAGOAS</td>\n",
       "      <td>27</td>\n",
       "      <td>2.885476e+08</td>\n",
       "      <td>16</td>\n",
       "      <td>R$ 288.547.617,91</td>\n",
       "    </tr>\n",
       "    <tr>\n",
       "      <th>2</th>\n",
       "      <td>AMAPÁ</td>\n",
       "      <td>45</td>\n",
       "      <td>3.507016e+08</td>\n",
       "      <td>18</td>\n",
       "      <td>R$ 350.701.642,85</td>\n",
       "    </tr>\n",
       "    <tr>\n",
       "      <th>3</th>\n",
       "      <td>AMAZONAS</td>\n",
       "      <td>34</td>\n",
       "      <td>2.428814e+08</td>\n",
       "      <td>12</td>\n",
       "      <td>R$ 242.881.420,64</td>\n",
       "    </tr>\n",
       "    <tr>\n",
       "      <th>4</th>\n",
       "      <td>BAHIA</td>\n",
       "      <td>148</td>\n",
       "      <td>1.075305e+09</td>\n",
       "      <td>52</td>\n",
       "      <td>R$ 1.075.305.291,73</td>\n",
       "    </tr>\n",
       "  </tbody>\n",
       "</table>\n",
       "</div>"
      ],
      "text/plain": [
       "     Estado  Emendas         Valor  Políticos           Valor (R$)\n",
       "0      ACRE       59  2.706689e+08         19    R$ 270.668.887,72\n",
       "1   ALAGOAS       27  2.885476e+08         16    R$ 288.547.617,91\n",
       "2     AMAPÁ       45  3.507016e+08         18    R$ 350.701.642,85\n",
       "3  AMAZONAS       34  2.428814e+08         12    R$ 242.881.420,64\n",
       "4     BAHIA      148  1.075305e+09         52  R$ 1.075.305.291,73"
      ]
     },
     "execution_count": 10,
     "metadata": {},
     "output_type": "execute_result"
    }
   ],
   "source": [
    "# Agrupando os dados para saber quanto foi enviado\n",
    "emendas_estaduais_agg = (emendas_estaduais.copy().groupby('local_gasto').agg({'local_gasto':'count', 'vlr': 'sum', 'emenda_autor':pd.Series.nunique})\n",
    "                    .rename(columns={'local_gasto':'Emendas', 'emenda_autor':'Políticos', 'vlr':'Valor'})\n",
    "                    .reset_index())\n",
    "\n",
    "# renomeando a coluna local_gasto\n",
    "emendas_estaduais_agg.rename(columns={'local_gasto':'Estado'}, inplace=True)\n",
    "\n",
    "# formatando o valor\n",
    "emendas_estaduais_agg[\"Valor (R$)\"] = emendas_estaduais_agg[\"Valor\"].apply(lambda x: format_currency(x, currency=\"BRL\", locale=\"pt_BR\"))\n",
    "\n",
    "# emendas_estaduais_agg[['Estado','Políticos','Emendas','Valor (R$)']].head()\n",
    "emendas_estaduais_agg.head()"
   ]
  },
  {
   "cell_type": "markdown",
   "metadata": {},
   "source": [
    "Como são muitas linhas, seria melhor ver num gráfico. Vamos criar um treemap para isso. \n",
    "\n",
    "No gráfico eu gostaria de ver os valores fossem apresentados de forma diferente afim de não coupar muito espaço no gráfico. Por exemplo:\n",
    "\n",
    "- milhares: 1000 = 1K\n",
    "- milhões: 1000000 = 1M\n",
    "- bilhões: 1000000000 = 1B"
   ]
  },
  {
   "cell_type": "code",
   "execution_count": 11,
   "metadata": {},
   "outputs": [
    {
     "data": {
      "application/vnd.plotly.v1+json": {
       "config": {
        "plotlyServerURL": "https://plot.ly"
       },
       "data": [
        {
         "branchvalues": "total",
         "customdata": [
          [
           270668887.72
          ],
          [
           288547617.91
          ],
          [
           350701642.85
          ],
          [
           242881420.64
          ],
          [
           1075305291.73
          ],
          [
           476996674.15
          ],
          [
           28724356.38
          ],
          [
           208546895.41999996
          ],
          [
           449253444.39
          ],
          [
           642742781.03
          ],
          [
           250405540.72
          ],
          [
           274989432.62
          ],
          [
           1280384685.02
          ],
          [
           765282505.91
          ],
          [
           441416282.1700001
          ],
          [
           529455591.48
          ],
          [
           621529087.67
          ],
          [
           460788039.12
          ],
          [
           274456608.74
          ],
          [
           325306366.19
          ],
          [
           864090040.1900002
          ],
          [
           378531271.65999997
          ],
          [
           299764800.42
          ],
          [
           443845664.1999999
          ],
          [
           356215023.04
          ],
          [
           1120947911.35
          ],
          [
           321699311.86
          ],
          [
           664208269.0815128
          ]
         ],
         "domain": {
          "x": [
           0,
           1
          ],
          "y": [
           0,
           1
          ]
         },
         "hovertemplate": "labels=%{label}<br>Valor_sum=%{value}<br>parent=%{parent}<br>id=%{id}<br>Valor=%{color}<extra></extra>",
         "ids": [
          "Brasil/ACRE",
          "Brasil/ALAGOAS",
          "Brasil/AMAPÁ",
          "Brasil/AMAZONAS",
          "Brasil/BAHIA",
          "Brasil/CEARÁ",
          "Brasil/DISTRITO FEDERAL",
          "Brasil/ESPÍRITO SANTO",
          "Brasil/GOIÁS",
          "Brasil/MARANHÃO",
          "Brasil/MATO GROSSO",
          "Brasil/MATO GROSSO DO SUL",
          "Brasil/MINAS GERAIS",
          "Brasil/PARANÁ",
          "Brasil/PARAÍBA",
          "Brasil/PARÁ",
          "Brasil/PERNAMBUCO",
          "Brasil/PIAUÍ",
          "Brasil/RIO DE JANEIRO",
          "Brasil/RIO GRANDE DO NORTE",
          "Brasil/RIO GRANDE DO SUL",
          "Brasil/RONDÔNIA",
          "Brasil/RORAIMA",
          "Brasil/SANTA CATARINA",
          "Brasil/SERGIPE",
          "Brasil/SÃO PAULO",
          "Brasil/TOCANTINS",
          "Brasil"
         ],
         "labels": [
          "ACRE",
          "ALAGOAS",
          "AMAPÁ",
          "AMAZONAS",
          "BAHIA",
          "CEARÁ",
          "DISTRITO FEDERAL",
          "ESPÍRITO SANTO",
          "GOIÁS",
          "MARANHÃO",
          "MATO GROSSO",
          "MATO GROSSO DO SUL",
          "MINAS GERAIS",
          "PARANÁ",
          "PARAÍBA",
          "PARÁ",
          "PERNAMBUCO",
          "PIAUÍ",
          "RIO DE JANEIRO",
          "RIO GRANDE DO NORTE",
          "RIO GRANDE DO SUL",
          "RONDÔNIA",
          "RORAIMA",
          "SANTA CATARINA",
          "SERGIPE",
          "SÃO PAULO",
          "TOCANTINS",
          "Brasil"
         ],
         "marker": {
          "coloraxis": "coloraxis",
          "colors": [
           270668887.72,
           288547617.91,
           350701642.85,
           242881420.64,
           1075305291.73,
           476996674.15,
           28724356.38,
           208546895.41999996,
           449253444.39,
           642742781.03,
           250405540.72,
           274989432.62,
           1280384685.02,
           765282505.91,
           441416282.1700001,
           529455591.48,
           621529087.67,
           460788039.12,
           274456608.74,
           325306366.19,
           864090040.1900002,
           378531271.65999997,
           299764800.42,
           443845664.1999999,
           356215023.04,
           1120947911.35,
           321699311.86,
           664208269.0815128
          ]
         },
         "name": "",
         "opacity": 0.75,
         "parents": [
          "Brasil",
          "Brasil",
          "Brasil",
          "Brasil",
          "Brasil",
          "Brasil",
          "Brasil",
          "Brasil",
          "Brasil",
          "Brasil",
          "Brasil",
          "Brasil",
          "Brasil",
          "Brasil",
          "Brasil",
          "Brasil",
          "Brasil",
          "Brasil",
          "Brasil",
          "Brasil",
          "Brasil",
          "Brasil",
          "Brasil",
          "Brasil",
          "Brasil",
          "Brasil",
          "Brasil",
          ""
         ],
         "root": {
          "color": "lightgrey"
         },
         "text": [
          "270.67M",
          "288.55M",
          "350.70M",
          "242.88M",
          "1.08B",
          "477.00M",
          "28.72M",
          "208.55M",
          "449.25M",
          "642.74M",
          "250.41M",
          "274.99M",
          "1.28B",
          "765.28M",
          "441.42M",
          "529.46M",
          "621.53M",
          "460.79M",
          "274.46M",
          "325.31M",
          "864.09M",
          "378.53M",
          "299.76M",
          "443.85M",
          "356.22M",
          "1.12B",
          "321.70M"
         ],
         "textinfo": "label+text+percent root",
         "type": "treemap",
         "values": [
          270668887.72,
          288547617.91,
          350701642.85,
          242881420.64,
          1075305291.73,
          476996674.15,
          28724356.38,
          208546895.42,
          449253444.39,
          642742781.03,
          250405540.72,
          274989432.62,
          1280384685.02,
          765282505.91,
          441416282.17,
          529455591.48,
          621529087.67,
          460788039.12,
          274456608.74,
          325306366.19,
          864090040.19,
          378531271.65999997,
          299764800.42,
          443845664.2,
          356215023.04,
          1120947911.35,
          321699311.86,
          13043477174.58
         ]
        }
       ],
       "layout": {
        "coloraxis": {
         "colorbar": {
          "title": {
           "text": "Valor"
          }
         },
         "colorscale": [
          [
           0,
           "#440154"
          ],
          [
           0.1111111111111111,
           "#482878"
          ],
          [
           0.2222222222222222,
           "#3e4989"
          ],
          [
           0.3333333333333333,
           "#31688e"
          ],
          [
           0.4444444444444444,
           "#26828e"
          ],
          [
           0.5555555555555556,
           "#1f9e89"
          ],
          [
           0.6666666666666666,
           "#35b779"
          ],
          [
           0.7777777777777778,
           "#6ece58"
          ],
          [
           0.8888888888888888,
           "#b5de2b"
          ],
          [
           1,
           "#fde725"
          ]
         ]
        },
        "legend": {
         "tracegroupgap": 0
        },
        "margin": {
         "t": 60
        },
        "template": {
         "data": {
          "bar": [
           {
            "error_x": {
             "color": "#2a3f5f"
            },
            "error_y": {
             "color": "#2a3f5f"
            },
            "marker": {
             "line": {
              "color": "#E5ECF6",
              "width": 0.5
             },
             "pattern": {
              "fillmode": "overlay",
              "size": 10,
              "solidity": 0.2
             }
            },
            "type": "bar"
           }
          ],
          "barpolar": [
           {
            "marker": {
             "line": {
              "color": "#E5ECF6",
              "width": 0.5
             },
             "pattern": {
              "fillmode": "overlay",
              "size": 10,
              "solidity": 0.2
             }
            },
            "type": "barpolar"
           }
          ],
          "carpet": [
           {
            "aaxis": {
             "endlinecolor": "#2a3f5f",
             "gridcolor": "white",
             "linecolor": "white",
             "minorgridcolor": "white",
             "startlinecolor": "#2a3f5f"
            },
            "baxis": {
             "endlinecolor": "#2a3f5f",
             "gridcolor": "white",
             "linecolor": "white",
             "minorgridcolor": "white",
             "startlinecolor": "#2a3f5f"
            },
            "type": "carpet"
           }
          ],
          "choropleth": [
           {
            "colorbar": {
             "outlinewidth": 0,
             "ticks": ""
            },
            "type": "choropleth"
           }
          ],
          "contour": [
           {
            "colorbar": {
             "outlinewidth": 0,
             "ticks": ""
            },
            "colorscale": [
             [
              0,
              "#0d0887"
             ],
             [
              0.1111111111111111,
              "#46039f"
             ],
             [
              0.2222222222222222,
              "#7201a8"
             ],
             [
              0.3333333333333333,
              "#9c179e"
             ],
             [
              0.4444444444444444,
              "#bd3786"
             ],
             [
              0.5555555555555556,
              "#d8576b"
             ],
             [
              0.6666666666666666,
              "#ed7953"
             ],
             [
              0.7777777777777778,
              "#fb9f3a"
             ],
             [
              0.8888888888888888,
              "#fdca26"
             ],
             [
              1,
              "#f0f921"
             ]
            ],
            "type": "contour"
           }
          ],
          "contourcarpet": [
           {
            "colorbar": {
             "outlinewidth": 0,
             "ticks": ""
            },
            "type": "contourcarpet"
           }
          ],
          "heatmap": [
           {
            "colorbar": {
             "outlinewidth": 0,
             "ticks": ""
            },
            "colorscale": [
             [
              0,
              "#0d0887"
             ],
             [
              0.1111111111111111,
              "#46039f"
             ],
             [
              0.2222222222222222,
              "#7201a8"
             ],
             [
              0.3333333333333333,
              "#9c179e"
             ],
             [
              0.4444444444444444,
              "#bd3786"
             ],
             [
              0.5555555555555556,
              "#d8576b"
             ],
             [
              0.6666666666666666,
              "#ed7953"
             ],
             [
              0.7777777777777778,
              "#fb9f3a"
             ],
             [
              0.8888888888888888,
              "#fdca26"
             ],
             [
              1,
              "#f0f921"
             ]
            ],
            "type": "heatmap"
           }
          ],
          "heatmapgl": [
           {
            "colorbar": {
             "outlinewidth": 0,
             "ticks": ""
            },
            "colorscale": [
             [
              0,
              "#0d0887"
             ],
             [
              0.1111111111111111,
              "#46039f"
             ],
             [
              0.2222222222222222,
              "#7201a8"
             ],
             [
              0.3333333333333333,
              "#9c179e"
             ],
             [
              0.4444444444444444,
              "#bd3786"
             ],
             [
              0.5555555555555556,
              "#d8576b"
             ],
             [
              0.6666666666666666,
              "#ed7953"
             ],
             [
              0.7777777777777778,
              "#fb9f3a"
             ],
             [
              0.8888888888888888,
              "#fdca26"
             ],
             [
              1,
              "#f0f921"
             ]
            ],
            "type": "heatmapgl"
           }
          ],
          "histogram": [
           {
            "marker": {
             "pattern": {
              "fillmode": "overlay",
              "size": 10,
              "solidity": 0.2
             }
            },
            "type": "histogram"
           }
          ],
          "histogram2d": [
           {
            "colorbar": {
             "outlinewidth": 0,
             "ticks": ""
            },
            "colorscale": [
             [
              0,
              "#0d0887"
             ],
             [
              0.1111111111111111,
              "#46039f"
             ],
             [
              0.2222222222222222,
              "#7201a8"
             ],
             [
              0.3333333333333333,
              "#9c179e"
             ],
             [
              0.4444444444444444,
              "#bd3786"
             ],
             [
              0.5555555555555556,
              "#d8576b"
             ],
             [
              0.6666666666666666,
              "#ed7953"
             ],
             [
              0.7777777777777778,
              "#fb9f3a"
             ],
             [
              0.8888888888888888,
              "#fdca26"
             ],
             [
              1,
              "#f0f921"
             ]
            ],
            "type": "histogram2d"
           }
          ],
          "histogram2dcontour": [
           {
            "colorbar": {
             "outlinewidth": 0,
             "ticks": ""
            },
            "colorscale": [
             [
              0,
              "#0d0887"
             ],
             [
              0.1111111111111111,
              "#46039f"
             ],
             [
              0.2222222222222222,
              "#7201a8"
             ],
             [
              0.3333333333333333,
              "#9c179e"
             ],
             [
              0.4444444444444444,
              "#bd3786"
             ],
             [
              0.5555555555555556,
              "#d8576b"
             ],
             [
              0.6666666666666666,
              "#ed7953"
             ],
             [
              0.7777777777777778,
              "#fb9f3a"
             ],
             [
              0.8888888888888888,
              "#fdca26"
             ],
             [
              1,
              "#f0f921"
             ]
            ],
            "type": "histogram2dcontour"
           }
          ],
          "mesh3d": [
           {
            "colorbar": {
             "outlinewidth": 0,
             "ticks": ""
            },
            "type": "mesh3d"
           }
          ],
          "parcoords": [
           {
            "line": {
             "colorbar": {
              "outlinewidth": 0,
              "ticks": ""
             }
            },
            "type": "parcoords"
           }
          ],
          "pie": [
           {
            "automargin": true,
            "type": "pie"
           }
          ],
          "scatter": [
           {
            "fillpattern": {
             "fillmode": "overlay",
             "size": 10,
             "solidity": 0.2
            },
            "type": "scatter"
           }
          ],
          "scatter3d": [
           {
            "line": {
             "colorbar": {
              "outlinewidth": 0,
              "ticks": ""
             }
            },
            "marker": {
             "colorbar": {
              "outlinewidth": 0,
              "ticks": ""
             }
            },
            "type": "scatter3d"
           }
          ],
          "scattercarpet": [
           {
            "marker": {
             "colorbar": {
              "outlinewidth": 0,
              "ticks": ""
             }
            },
            "type": "scattercarpet"
           }
          ],
          "scattergeo": [
           {
            "marker": {
             "colorbar": {
              "outlinewidth": 0,
              "ticks": ""
             }
            },
            "type": "scattergeo"
           }
          ],
          "scattergl": [
           {
            "marker": {
             "colorbar": {
              "outlinewidth": 0,
              "ticks": ""
             }
            },
            "type": "scattergl"
           }
          ],
          "scattermapbox": [
           {
            "marker": {
             "colorbar": {
              "outlinewidth": 0,
              "ticks": ""
             }
            },
            "type": "scattermapbox"
           }
          ],
          "scatterpolar": [
           {
            "marker": {
             "colorbar": {
              "outlinewidth": 0,
              "ticks": ""
             }
            },
            "type": "scatterpolar"
           }
          ],
          "scatterpolargl": [
           {
            "marker": {
             "colorbar": {
              "outlinewidth": 0,
              "ticks": ""
             }
            },
            "type": "scatterpolargl"
           }
          ],
          "scatterternary": [
           {
            "marker": {
             "colorbar": {
              "outlinewidth": 0,
              "ticks": ""
             }
            },
            "type": "scatterternary"
           }
          ],
          "surface": [
           {
            "colorbar": {
             "outlinewidth": 0,
             "ticks": ""
            },
            "colorscale": [
             [
              0,
              "#0d0887"
             ],
             [
              0.1111111111111111,
              "#46039f"
             ],
             [
              0.2222222222222222,
              "#7201a8"
             ],
             [
              0.3333333333333333,
              "#9c179e"
             ],
             [
              0.4444444444444444,
              "#bd3786"
             ],
             [
              0.5555555555555556,
              "#d8576b"
             ],
             [
              0.6666666666666666,
              "#ed7953"
             ],
             [
              0.7777777777777778,
              "#fb9f3a"
             ],
             [
              0.8888888888888888,
              "#fdca26"
             ],
             [
              1,
              "#f0f921"
             ]
            ],
            "type": "surface"
           }
          ],
          "table": [
           {
            "cells": {
             "fill": {
              "color": "#EBF0F8"
             },
             "line": {
              "color": "white"
             }
            },
            "header": {
             "fill": {
              "color": "#C8D4E3"
             },
             "line": {
              "color": "white"
             }
            },
            "type": "table"
           }
          ]
         },
         "layout": {
          "annotationdefaults": {
           "arrowcolor": "#2a3f5f",
           "arrowhead": 0,
           "arrowwidth": 1
          },
          "autotypenumbers": "strict",
          "coloraxis": {
           "colorbar": {
            "outlinewidth": 0,
            "ticks": ""
           }
          },
          "colorscale": {
           "diverging": [
            [
             0,
             "#8e0152"
            ],
            [
             0.1,
             "#c51b7d"
            ],
            [
             0.2,
             "#de77ae"
            ],
            [
             0.3,
             "#f1b6da"
            ],
            [
             0.4,
             "#fde0ef"
            ],
            [
             0.5,
             "#f7f7f7"
            ],
            [
             0.6,
             "#e6f5d0"
            ],
            [
             0.7,
             "#b8e186"
            ],
            [
             0.8,
             "#7fbc41"
            ],
            [
             0.9,
             "#4d9221"
            ],
            [
             1,
             "#276419"
            ]
           ],
           "sequential": [
            [
             0,
             "#0d0887"
            ],
            [
             0.1111111111111111,
             "#46039f"
            ],
            [
             0.2222222222222222,
             "#7201a8"
            ],
            [
             0.3333333333333333,
             "#9c179e"
            ],
            [
             0.4444444444444444,
             "#bd3786"
            ],
            [
             0.5555555555555556,
             "#d8576b"
            ],
            [
             0.6666666666666666,
             "#ed7953"
            ],
            [
             0.7777777777777778,
             "#fb9f3a"
            ],
            [
             0.8888888888888888,
             "#fdca26"
            ],
            [
             1,
             "#f0f921"
            ]
           ],
           "sequentialminus": [
            [
             0,
             "#0d0887"
            ],
            [
             0.1111111111111111,
             "#46039f"
            ],
            [
             0.2222222222222222,
             "#7201a8"
            ],
            [
             0.3333333333333333,
             "#9c179e"
            ],
            [
             0.4444444444444444,
             "#bd3786"
            ],
            [
             0.5555555555555556,
             "#d8576b"
            ],
            [
             0.6666666666666666,
             "#ed7953"
            ],
            [
             0.7777777777777778,
             "#fb9f3a"
            ],
            [
             0.8888888888888888,
             "#fdca26"
            ],
            [
             1,
             "#f0f921"
            ]
           ]
          },
          "colorway": [
           "#636efa",
           "#EF553B",
           "#00cc96",
           "#ab63fa",
           "#FFA15A",
           "#19d3f3",
           "#FF6692",
           "#B6E880",
           "#FF97FF",
           "#FECB52"
          ],
          "font": {
           "color": "#2a3f5f"
          },
          "geo": {
           "bgcolor": "white",
           "lakecolor": "white",
           "landcolor": "#E5ECF6",
           "showlakes": true,
           "showland": true,
           "subunitcolor": "white"
          },
          "hoverlabel": {
           "align": "left"
          },
          "hovermode": "closest",
          "mapbox": {
           "style": "light"
          },
          "paper_bgcolor": "white",
          "plot_bgcolor": "#E5ECF6",
          "polar": {
           "angularaxis": {
            "gridcolor": "white",
            "linecolor": "white",
            "ticks": ""
           },
           "bgcolor": "#E5ECF6",
           "radialaxis": {
            "gridcolor": "white",
            "linecolor": "white",
            "ticks": ""
           }
          },
          "scene": {
           "xaxis": {
            "backgroundcolor": "#E5ECF6",
            "gridcolor": "white",
            "gridwidth": 2,
            "linecolor": "white",
            "showbackground": true,
            "ticks": "",
            "zerolinecolor": "white"
           },
           "yaxis": {
            "backgroundcolor": "#E5ECF6",
            "gridcolor": "white",
            "gridwidth": 2,
            "linecolor": "white",
            "showbackground": true,
            "ticks": "",
            "zerolinecolor": "white"
           },
           "zaxis": {
            "backgroundcolor": "#E5ECF6",
            "gridcolor": "white",
            "gridwidth": 2,
            "linecolor": "white",
            "showbackground": true,
            "ticks": "",
            "zerolinecolor": "white"
           }
          },
          "shapedefaults": {
           "line": {
            "color": "#2a3f5f"
           }
          },
          "ternary": {
           "aaxis": {
            "gridcolor": "white",
            "linecolor": "white",
            "ticks": ""
           },
           "baxis": {
            "gridcolor": "white",
            "linecolor": "white",
            "ticks": ""
           },
           "bgcolor": "#E5ECF6",
           "caxis": {
            "gridcolor": "white",
            "linecolor": "white",
            "ticks": ""
           }
          },
          "title": {
           "x": 0.05
          },
          "xaxis": {
           "automargin": true,
           "gridcolor": "white",
           "linecolor": "white",
           "ticks": "",
           "title": {
            "standoff": 15
           },
           "zerolinecolor": "white",
           "zerolinewidth": 2
          },
          "yaxis": {
           "automargin": true,
           "gridcolor": "white",
           "linecolor": "white",
           "ticks": "",
           "title": {
            "standoff": 15
           },
           "zerolinecolor": "white",
           "zerolinewidth": 2
          }
         }
        }
       }
      }
     },
     "metadata": {},
     "output_type": "display_data"
    }
   ],
   "source": [
    "# apresentar os valores no formato 1K, 1M, 1B\n",
    "def f(row):\n",
    "    if row['Valor'] >= 10**9:\n",
    "        val = row['Valor']/10**9\n",
    "        val = '{0:.2f}B'.format(val)\n",
    "    elif row['Valor'] >= 10**6 and row['Valor'] < 10**9:\n",
    "        val = row['Valor']/10**6\n",
    "        val = '{0:.2f}M'.format(val)\n",
    "    elif row['Valor'] >= 10**3 and row['Valor'] < 10**6:\n",
    "        val = row['Valor']/10**3\n",
    "        val = '{0:.2f}K'.format(val)\n",
    "    else:\n",
    "        val = '{0:.2f}'.format(row['Valor'])\n",
    "    return val\n",
    "\n",
    "\n",
    "\n",
    "emendas_estaduais_agg['vlr_prty'] = emendas_estaduais_agg.apply(f, axis=1)\n",
    "# emendas_estaduais_agg.head()\n",
    "\n",
    "# treemap com os valores por estado\n",
    "fig1 = px.treemap(emendas_estaduais_agg, path=[px.Constant(\"Brasil\"), \"Estado\"], values=\"Valor\", color=\"Valor\", color_continuous_scale='viridis')\n",
    "fig1.update_traces(\n",
    "    text=emendas_estaduais_agg['vlr_prty'],\n",
    "    textinfo=\"label+text+percent root\", root_color=\"lightgrey\", selector=dict(type='treemap')\n",
    "    ,opacity=0.75\n",
    ")\n",
    "fig1.show()"
   ]
  },
  {
   "cell_type": "markdown",
   "metadata": {},
   "source": [
    "## Emendas Ceará\n",
    "\n",
    "Separando os dados das emendas enviadas para o estado do Ceará e suas cidades. \n",
    "\n",
    "Neste caso, ao exibir os primeiros valores, gostaria que estivessem formatados, mas sem perder o tipo de dado."
   ]
  },
  {
   "cell_type": "code",
   "execution_count": 12,
   "metadata": {},
   "outputs": [
    {
     "data": {
      "text/html": [
       "<style type=\"text/css\">\n",
       "</style>\n",
       "<table id=\"T_c48c1\">\n",
       "  <caption>Emendas enviadas para o Estado do Ceará</caption>\n",
       "  <thead>\n",
       "    <tr>\n",
       "      <th class=\"blank level0\" >&nbsp;</th>\n",
       "      <th id=\"T_c48c1_level0_col0\" class=\"col_heading level0 col0\" >emenda_autor</th>\n",
       "      <th id=\"T_c48c1_level0_col1\" class=\"col_heading level0 col1\" >local_gasto</th>\n",
       "      <th id=\"T_c48c1_level0_col2\" class=\"col_heading level0 col2\" >vlr</th>\n",
       "    </tr>\n",
       "  </thead>\n",
       "  <tbody>\n",
       "    <tr>\n",
       "      <th id=\"T_c48c1_level0_row0\" class=\"row_heading level0 row0\" >0</th>\n",
       "      <td id=\"T_c48c1_row0_col0\" class=\"data row0 col0\" >IDILVAN ALENCAR</td>\n",
       "      <td id=\"T_c48c1_row0_col1\" class=\"data row0 col1\" >CEARÁ (UF)</td>\n",
       "      <td id=\"T_c48c1_row0_col2\" class=\"data row0 col2\" >16.051.700,00</td>\n",
       "    </tr>\n",
       "    <tr>\n",
       "      <th id=\"T_c48c1_level0_row1\" class=\"row_heading level0 row1\" >1</th>\n",
       "      <td id=\"T_c48c1_row1_col0\" class=\"data row1 col0\" >ROBERIO MONTEIRO</td>\n",
       "      <td id=\"T_c48c1_row1_col1\" class=\"data row1 col1\" >CEARÁ (UF)</td>\n",
       "      <td id=\"T_c48c1_row1_col2\" class=\"data row1 col2\" >16.051.699,00</td>\n",
       "    </tr>\n",
       "    <tr>\n",
       "      <th id=\"T_c48c1_level0_row2\" class=\"row_heading level0 row2\" >2</th>\n",
       "      <td id=\"T_c48c1_row2_col0\" class=\"data row2 col0\" >AJ ALBUQUERQUE</td>\n",
       "      <td id=\"T_c48c1_row2_col1\" class=\"data row2 col1\" >CEARÁ (UF)</td>\n",
       "      <td id=\"T_c48c1_row2_col2\" class=\"data row2 col2\" >16.051.698,00</td>\n",
       "    </tr>\n",
       "    <tr>\n",
       "      <th id=\"T_c48c1_level0_row3\" class=\"row_heading level0 row3\" >3</th>\n",
       "      <td id=\"T_c48c1_row3_col0\" class=\"data row3 col0\" >EDUARDO BISMARCK</td>\n",
       "      <td id=\"T_c48c1_row3_col1\" class=\"data row3 col1\" >CEARÁ (UF)</td>\n",
       "      <td id=\"T_c48c1_row3_col2\" class=\"data row3 col2\" >15.888.779,00</td>\n",
       "    </tr>\n",
       "    <tr>\n",
       "      <th id=\"T_c48c1_level0_row4\" class=\"row_heading level0 row4\" >4</th>\n",
       "      <td id=\"T_c48c1_row4_col0\" class=\"data row4 col0\" >JUNIOR MANO</td>\n",
       "      <td id=\"T_c48c1_row4_col1\" class=\"data row4 col1\" >CEARÁ (UF)</td>\n",
       "      <td id=\"T_c48c1_row4_col2\" class=\"data row4 col2\" >15.551.253,00</td>\n",
       "    </tr>\n",
       "  </tbody>\n",
       "</table>\n"
      ],
      "text/plain": [
       "<pandas.io.formats.style.Styler at 0x24853a81210>"
      ]
     },
     "execution_count": 12,
     "metadata": {},
     "output_type": "execute_result"
    }
   ],
   "source": [
    "# Dados do estado do ceará e das cidades do ceará\n",
    "def separar_dados_ce(df):\n",
    "    # emenda direto pro estado do Ceará\n",
    "    df_estado = df.loc[df['local_gasto']=='CEARÁ (UF)']\n",
    "\n",
    "    # emendas para as cidade tem a marcação \"- CE\"\n",
    "    df_cidades = df.loc[df['local_gasto'].str.contains('- CE')]\n",
    "\n",
    "    # limpando o nome das cidades, retirando a marcação \"- CE\"\n",
    "    # df_cidades['local_gasto'] = df_cidades[\"local_gasto\"].apply(lambda x: x.replace(\" - CE\", \"\"))\n",
    "    \n",
    "    # df_ce = pd.concat([df_estados, df_cidades], axis=0)\n",
    "    # df_ce = df_ce[['emenda_autor', 'local_gasto','vlr','vlr_empenhado','vlr_liquido','vlr_pago','vlr_restos_pagar_inscrito','vlr_restos_pagar_cancelados','vlr_restos_pagar_pagos']]\n",
    "    # df_ce = pd.DataFrame(df_ce).sort_values(by=['vlr'], ascending=False)\n",
    "    # return df_ce\n",
    "    return df_estado.reset_index(drop=True), df_cidades.reset_index(drop=True)\n",
    "\n",
    "df_ce, df_cidades = separar_dados_ce(df)\n",
    "\n",
    "df_ce = df_ce.sort_values(by='vlr',ascending=False).reset_index(drop=True)\n",
    "\n",
    "# formatar o valor como moeda, mas presenvando o tipo de dados para que possa fazer cálculos\n",
    "# adicionar um título na tabela\n",
    "# df_ce.style \\\n",
    "# .set_caption(\"Emendas enviadas para o Estado do Ceará\") \\\n",
    "# .format(precision=2, thousands=\".\", decimal=\",\") \\\n",
    "\n",
    "df_ce.head().style \\\n",
    ".set_caption(\"Emendas enviadas para o Estado do Ceará\") \\\n",
    ".format(precision=2, thousands=\".\", decimal=\",\") \n"
   ]
  },
  {
   "cell_type": "markdown",
   "metadata": {},
   "source": [
    "Analisando apenas os dados do estado, vou agrupar os dados por político para ver quantos emendas foram enviadas e o volume por político."
   ]
  },
  {
   "cell_type": "code",
   "execution_count": 13,
   "metadata": {},
   "outputs": [
    {
     "data": {
      "text/html": [
       "<div>\n",
       "<style scoped>\n",
       "    .dataframe tbody tr th:only-of-type {\n",
       "        vertical-align: middle;\n",
       "    }\n",
       "\n",
       "    .dataframe tbody tr th {\n",
       "        vertical-align: top;\n",
       "    }\n",
       "\n",
       "    .dataframe thead th {\n",
       "        text-align: right;\n",
       "    }\n",
       "</style>\n",
       "<table border=\"1\" class=\"dataframe\">\n",
       "  <thead>\n",
       "    <tr style=\"text-align: right;\">\n",
       "      <th></th>\n",
       "      <th>Autor</th>\n",
       "      <th>Emendas</th>\n",
       "      <th>Valor</th>\n",
       "    </tr>\n",
       "  </thead>\n",
       "  <tbody>\n",
       "    <tr>\n",
       "      <th>0</th>\n",
       "      <td>AJ ALBUQUERQUE</td>\n",
       "      <td>3</td>\n",
       "      <td>35676045.87</td>\n",
       "    </tr>\n",
       "    <tr>\n",
       "      <th>1</th>\n",
       "      <td>ANDRE FIGUEIREDO</td>\n",
       "      <td>3</td>\n",
       "      <td>24557957.36</td>\n",
       "    </tr>\n",
       "    <tr>\n",
       "      <th>2</th>\n",
       "      <td>CAPITAO WAGNER</td>\n",
       "      <td>1</td>\n",
       "      <td>7299682.00</td>\n",
       "    </tr>\n",
       "    <tr>\n",
       "      <th>3</th>\n",
       "      <td>CELIO STUDART</td>\n",
       "      <td>3</td>\n",
       "      <td>34153685.95</td>\n",
       "    </tr>\n",
       "    <tr>\n",
       "      <th>4</th>\n",
       "      <td>CID GOMES</td>\n",
       "      <td>1</td>\n",
       "      <td>14644231.88</td>\n",
       "    </tr>\n",
       "  </tbody>\n",
       "</table>\n",
       "</div>"
      ],
      "text/plain": [
       "              Autor  Emendas        Valor\n",
       "0    AJ ALBUQUERQUE        3  35676045.87\n",
       "1  ANDRE FIGUEIREDO        3  24557957.36\n",
       "2    CAPITAO WAGNER        1   7299682.00\n",
       "3     CELIO STUDART        3  34153685.95\n",
       "4         CID GOMES        1  14644231.88"
      ]
     },
     "execution_count": 13,
     "metadata": {},
     "output_type": "execute_result"
    }
   ],
   "source": [
    "df_ce_agg = (df_ce.copy().groupby('emenda_autor').agg({'emenda_autor':'count', 'vlr': 'sum'})\n",
    "                    .rename(columns={'emenda_autor':'Emendas', 'vlr':'Valor'})\n",
    "                    .reset_index()\n",
    "                    )\n",
    "df_ce_agg.rename(columns={'emenda_autor':'Autor'}, inplace=True)\n",
    "df_ce_agg.head()\n",
    "# print(f\"Quantidade de políticos: {df_ce_agg.shape[0]}\")"
   ]
  },
  {
   "cell_type": "markdown",
   "metadata": {},
   "source": [
    "Visualizando estas informações numa gráfico de pizza."
   ]
  },
  {
   "cell_type": "code",
   "execution_count": 14,
   "metadata": {},
   "outputs": [
    {
     "data": {
      "application/vnd.plotly.v1+json": {
       "config": {
        "plotlyServerURL": "https://plot.ly"
       },
       "data": [
        {
         "domain": {
          "x": [
           0,
           1
          ],
          "y": [
           0,
           1
          ]
         },
         "hovertemplate": "Autor=%{label}<br>Valor=%{value}<extra></extra>",
         "labels": [
          "AJ ALBUQUERQUE",
          "ANDRE FIGUEIREDO",
          "CAPITAO WAGNER",
          "CELIO STUDART",
          "CID GOMES",
          "DANILO FORTE",
          "DAYANY BITTENCOURT",
          "DENIS BEZERRA",
          "DOMINGOS NETO",
          "DR. JAZIEL",
          "EDUARDO BISMARCK",
          "EUNICIO OLIVEIRA",
          "FERNANDA PESSOA",
          "GENECIAS NORONHA",
          "HEITOR FREIRE",
          "IDILVAN ALENCAR",
          "JOSE AIRTON FELIX CIRILO",
          "JOSE GUIMARAES",
          "JUNIOR MANO",
          "LEONIDAS CRISTINO",
          "LUIZ GASTAO",
          "LUIZIANNE LINS",
          "MATHEUS NORONHA",
          "MAURO BENEVIDES FILHO",
          "MOSES RODRIGUES",
          "ROBERIO MONTEIRO",
          "RONALDO MARTINS",
          "VAIDON OLIVEIRA"
         ],
         "legendgroup": "",
         "name": "",
         "showlegend": true,
         "type": "pie",
         "values": [
          35676045.87,
          24557957.36,
          7299682,
          34153685.95,
          14644231.88,
          9321119.2,
          9414815.44,
          16169682,
          34607585.92,
          14814604,
          33643235.81,
          8485650.19,
          7417733.38,
          16047710,
          7225891,
          31745730.869999997,
          9105869.7,
          24347093.68,
          33641642.75,
          20967241,
          6904197.99,
          10063026,
          10719076.64,
          24728741.52,
          4639365,
          16551699,
          1303360,
          8800000
         ]
        }
       ],
       "layout": {
        "legend": {
         "tracegroupgap": 0
        },
        "template": {
         "data": {
          "bar": [
           {
            "error_x": {
             "color": "#2a3f5f"
            },
            "error_y": {
             "color": "#2a3f5f"
            },
            "marker": {
             "line": {
              "color": "#E5ECF6",
              "width": 0.5
             },
             "pattern": {
              "fillmode": "overlay",
              "size": 10,
              "solidity": 0.2
             }
            },
            "type": "bar"
           }
          ],
          "barpolar": [
           {
            "marker": {
             "line": {
              "color": "#E5ECF6",
              "width": 0.5
             },
             "pattern": {
              "fillmode": "overlay",
              "size": 10,
              "solidity": 0.2
             }
            },
            "type": "barpolar"
           }
          ],
          "carpet": [
           {
            "aaxis": {
             "endlinecolor": "#2a3f5f",
             "gridcolor": "white",
             "linecolor": "white",
             "minorgridcolor": "white",
             "startlinecolor": "#2a3f5f"
            },
            "baxis": {
             "endlinecolor": "#2a3f5f",
             "gridcolor": "white",
             "linecolor": "white",
             "minorgridcolor": "white",
             "startlinecolor": "#2a3f5f"
            },
            "type": "carpet"
           }
          ],
          "choropleth": [
           {
            "colorbar": {
             "outlinewidth": 0,
             "ticks": ""
            },
            "type": "choropleth"
           }
          ],
          "contour": [
           {
            "colorbar": {
             "outlinewidth": 0,
             "ticks": ""
            },
            "colorscale": [
             [
              0,
              "#0d0887"
             ],
             [
              0.1111111111111111,
              "#46039f"
             ],
             [
              0.2222222222222222,
              "#7201a8"
             ],
             [
              0.3333333333333333,
              "#9c179e"
             ],
             [
              0.4444444444444444,
              "#bd3786"
             ],
             [
              0.5555555555555556,
              "#d8576b"
             ],
             [
              0.6666666666666666,
              "#ed7953"
             ],
             [
              0.7777777777777778,
              "#fb9f3a"
             ],
             [
              0.8888888888888888,
              "#fdca26"
             ],
             [
              1,
              "#f0f921"
             ]
            ],
            "type": "contour"
           }
          ],
          "contourcarpet": [
           {
            "colorbar": {
             "outlinewidth": 0,
             "ticks": ""
            },
            "type": "contourcarpet"
           }
          ],
          "heatmap": [
           {
            "colorbar": {
             "outlinewidth": 0,
             "ticks": ""
            },
            "colorscale": [
             [
              0,
              "#0d0887"
             ],
             [
              0.1111111111111111,
              "#46039f"
             ],
             [
              0.2222222222222222,
              "#7201a8"
             ],
             [
              0.3333333333333333,
              "#9c179e"
             ],
             [
              0.4444444444444444,
              "#bd3786"
             ],
             [
              0.5555555555555556,
              "#d8576b"
             ],
             [
              0.6666666666666666,
              "#ed7953"
             ],
             [
              0.7777777777777778,
              "#fb9f3a"
             ],
             [
              0.8888888888888888,
              "#fdca26"
             ],
             [
              1,
              "#f0f921"
             ]
            ],
            "type": "heatmap"
           }
          ],
          "heatmapgl": [
           {
            "colorbar": {
             "outlinewidth": 0,
             "ticks": ""
            },
            "colorscale": [
             [
              0,
              "#0d0887"
             ],
             [
              0.1111111111111111,
              "#46039f"
             ],
             [
              0.2222222222222222,
              "#7201a8"
             ],
             [
              0.3333333333333333,
              "#9c179e"
             ],
             [
              0.4444444444444444,
              "#bd3786"
             ],
             [
              0.5555555555555556,
              "#d8576b"
             ],
             [
              0.6666666666666666,
              "#ed7953"
             ],
             [
              0.7777777777777778,
              "#fb9f3a"
             ],
             [
              0.8888888888888888,
              "#fdca26"
             ],
             [
              1,
              "#f0f921"
             ]
            ],
            "type": "heatmapgl"
           }
          ],
          "histogram": [
           {
            "marker": {
             "pattern": {
              "fillmode": "overlay",
              "size": 10,
              "solidity": 0.2
             }
            },
            "type": "histogram"
           }
          ],
          "histogram2d": [
           {
            "colorbar": {
             "outlinewidth": 0,
             "ticks": ""
            },
            "colorscale": [
             [
              0,
              "#0d0887"
             ],
             [
              0.1111111111111111,
              "#46039f"
             ],
             [
              0.2222222222222222,
              "#7201a8"
             ],
             [
              0.3333333333333333,
              "#9c179e"
             ],
             [
              0.4444444444444444,
              "#bd3786"
             ],
             [
              0.5555555555555556,
              "#d8576b"
             ],
             [
              0.6666666666666666,
              "#ed7953"
             ],
             [
              0.7777777777777778,
              "#fb9f3a"
             ],
             [
              0.8888888888888888,
              "#fdca26"
             ],
             [
              1,
              "#f0f921"
             ]
            ],
            "type": "histogram2d"
           }
          ],
          "histogram2dcontour": [
           {
            "colorbar": {
             "outlinewidth": 0,
             "ticks": ""
            },
            "colorscale": [
             [
              0,
              "#0d0887"
             ],
             [
              0.1111111111111111,
              "#46039f"
             ],
             [
              0.2222222222222222,
              "#7201a8"
             ],
             [
              0.3333333333333333,
              "#9c179e"
             ],
             [
              0.4444444444444444,
              "#bd3786"
             ],
             [
              0.5555555555555556,
              "#d8576b"
             ],
             [
              0.6666666666666666,
              "#ed7953"
             ],
             [
              0.7777777777777778,
              "#fb9f3a"
             ],
             [
              0.8888888888888888,
              "#fdca26"
             ],
             [
              1,
              "#f0f921"
             ]
            ],
            "type": "histogram2dcontour"
           }
          ],
          "mesh3d": [
           {
            "colorbar": {
             "outlinewidth": 0,
             "ticks": ""
            },
            "type": "mesh3d"
           }
          ],
          "parcoords": [
           {
            "line": {
             "colorbar": {
              "outlinewidth": 0,
              "ticks": ""
             }
            },
            "type": "parcoords"
           }
          ],
          "pie": [
           {
            "automargin": true,
            "type": "pie"
           }
          ],
          "scatter": [
           {
            "fillpattern": {
             "fillmode": "overlay",
             "size": 10,
             "solidity": 0.2
            },
            "type": "scatter"
           }
          ],
          "scatter3d": [
           {
            "line": {
             "colorbar": {
              "outlinewidth": 0,
              "ticks": ""
             }
            },
            "marker": {
             "colorbar": {
              "outlinewidth": 0,
              "ticks": ""
             }
            },
            "type": "scatter3d"
           }
          ],
          "scattercarpet": [
           {
            "marker": {
             "colorbar": {
              "outlinewidth": 0,
              "ticks": ""
             }
            },
            "type": "scattercarpet"
           }
          ],
          "scattergeo": [
           {
            "marker": {
             "colorbar": {
              "outlinewidth": 0,
              "ticks": ""
             }
            },
            "type": "scattergeo"
           }
          ],
          "scattergl": [
           {
            "marker": {
             "colorbar": {
              "outlinewidth": 0,
              "ticks": ""
             }
            },
            "type": "scattergl"
           }
          ],
          "scattermapbox": [
           {
            "marker": {
             "colorbar": {
              "outlinewidth": 0,
              "ticks": ""
             }
            },
            "type": "scattermapbox"
           }
          ],
          "scatterpolar": [
           {
            "marker": {
             "colorbar": {
              "outlinewidth": 0,
              "ticks": ""
             }
            },
            "type": "scatterpolar"
           }
          ],
          "scatterpolargl": [
           {
            "marker": {
             "colorbar": {
              "outlinewidth": 0,
              "ticks": ""
             }
            },
            "type": "scatterpolargl"
           }
          ],
          "scatterternary": [
           {
            "marker": {
             "colorbar": {
              "outlinewidth": 0,
              "ticks": ""
             }
            },
            "type": "scatterternary"
           }
          ],
          "surface": [
           {
            "colorbar": {
             "outlinewidth": 0,
             "ticks": ""
            },
            "colorscale": [
             [
              0,
              "#0d0887"
             ],
             [
              0.1111111111111111,
              "#46039f"
             ],
             [
              0.2222222222222222,
              "#7201a8"
             ],
             [
              0.3333333333333333,
              "#9c179e"
             ],
             [
              0.4444444444444444,
              "#bd3786"
             ],
             [
              0.5555555555555556,
              "#d8576b"
             ],
             [
              0.6666666666666666,
              "#ed7953"
             ],
             [
              0.7777777777777778,
              "#fb9f3a"
             ],
             [
              0.8888888888888888,
              "#fdca26"
             ],
             [
              1,
              "#f0f921"
             ]
            ],
            "type": "surface"
           }
          ],
          "table": [
           {
            "cells": {
             "fill": {
              "color": "#EBF0F8"
             },
             "line": {
              "color": "white"
             }
            },
            "header": {
             "fill": {
              "color": "#C8D4E3"
             },
             "line": {
              "color": "white"
             }
            },
            "type": "table"
           }
          ]
         },
         "layout": {
          "annotationdefaults": {
           "arrowcolor": "#2a3f5f",
           "arrowhead": 0,
           "arrowwidth": 1
          },
          "autotypenumbers": "strict",
          "coloraxis": {
           "colorbar": {
            "outlinewidth": 0,
            "ticks": ""
           }
          },
          "colorscale": {
           "diverging": [
            [
             0,
             "#8e0152"
            ],
            [
             0.1,
             "#c51b7d"
            ],
            [
             0.2,
             "#de77ae"
            ],
            [
             0.3,
             "#f1b6da"
            ],
            [
             0.4,
             "#fde0ef"
            ],
            [
             0.5,
             "#f7f7f7"
            ],
            [
             0.6,
             "#e6f5d0"
            ],
            [
             0.7,
             "#b8e186"
            ],
            [
             0.8,
             "#7fbc41"
            ],
            [
             0.9,
             "#4d9221"
            ],
            [
             1,
             "#276419"
            ]
           ],
           "sequential": [
            [
             0,
             "#0d0887"
            ],
            [
             0.1111111111111111,
             "#46039f"
            ],
            [
             0.2222222222222222,
             "#7201a8"
            ],
            [
             0.3333333333333333,
             "#9c179e"
            ],
            [
             0.4444444444444444,
             "#bd3786"
            ],
            [
             0.5555555555555556,
             "#d8576b"
            ],
            [
             0.6666666666666666,
             "#ed7953"
            ],
            [
             0.7777777777777778,
             "#fb9f3a"
            ],
            [
             0.8888888888888888,
             "#fdca26"
            ],
            [
             1,
             "#f0f921"
            ]
           ],
           "sequentialminus": [
            [
             0,
             "#0d0887"
            ],
            [
             0.1111111111111111,
             "#46039f"
            ],
            [
             0.2222222222222222,
             "#7201a8"
            ],
            [
             0.3333333333333333,
             "#9c179e"
            ],
            [
             0.4444444444444444,
             "#bd3786"
            ],
            [
             0.5555555555555556,
             "#d8576b"
            ],
            [
             0.6666666666666666,
             "#ed7953"
            ],
            [
             0.7777777777777778,
             "#fb9f3a"
            ],
            [
             0.8888888888888888,
             "#fdca26"
            ],
            [
             1,
             "#f0f921"
            ]
           ]
          },
          "colorway": [
           "#636efa",
           "#EF553B",
           "#00cc96",
           "#ab63fa",
           "#FFA15A",
           "#19d3f3",
           "#FF6692",
           "#B6E880",
           "#FF97FF",
           "#FECB52"
          ],
          "font": {
           "color": "#2a3f5f"
          },
          "geo": {
           "bgcolor": "white",
           "lakecolor": "white",
           "landcolor": "#E5ECF6",
           "showlakes": true,
           "showland": true,
           "subunitcolor": "white"
          },
          "hoverlabel": {
           "align": "left"
          },
          "hovermode": "closest",
          "mapbox": {
           "style": "light"
          },
          "paper_bgcolor": "white",
          "plot_bgcolor": "#E5ECF6",
          "polar": {
           "angularaxis": {
            "gridcolor": "white",
            "linecolor": "white",
            "ticks": ""
           },
           "bgcolor": "#E5ECF6",
           "radialaxis": {
            "gridcolor": "white",
            "linecolor": "white",
            "ticks": ""
           }
          },
          "scene": {
           "xaxis": {
            "backgroundcolor": "#E5ECF6",
            "gridcolor": "white",
            "gridwidth": 2,
            "linecolor": "white",
            "showbackground": true,
            "ticks": "",
            "zerolinecolor": "white"
           },
           "yaxis": {
            "backgroundcolor": "#E5ECF6",
            "gridcolor": "white",
            "gridwidth": 2,
            "linecolor": "white",
            "showbackground": true,
            "ticks": "",
            "zerolinecolor": "white"
           },
           "zaxis": {
            "backgroundcolor": "#E5ECF6",
            "gridcolor": "white",
            "gridwidth": 2,
            "linecolor": "white",
            "showbackground": true,
            "ticks": "",
            "zerolinecolor": "white"
           }
          },
          "shapedefaults": {
           "line": {
            "color": "#2a3f5f"
           }
          },
          "ternary": {
           "aaxis": {
            "gridcolor": "white",
            "linecolor": "white",
            "ticks": ""
           },
           "baxis": {
            "gridcolor": "white",
            "linecolor": "white",
            "ticks": ""
           },
           "bgcolor": "#E5ECF6",
           "caxis": {
            "gridcolor": "white",
            "linecolor": "white",
            "ticks": ""
           }
          },
          "title": {
           "x": 0.05
          },
          "xaxis": {
           "automargin": true,
           "gridcolor": "white",
           "linecolor": "white",
           "ticks": "",
           "title": {
            "standoff": 15
           },
           "zerolinecolor": "white",
           "zerolinewidth": 2
          },
          "yaxis": {
           "automargin": true,
           "gridcolor": "white",
           "linecolor": "white",
           "ticks": "",
           "title": {
            "standoff": 15
           },
           "zerolinecolor": "white",
           "zerolinewidth": 2
          }
         }
        },
        "title": {
         "text": "Políticos que enviaram emendas"
        }
       }
      }
     },
     "metadata": {},
     "output_type": "display_data"
    }
   ],
   "source": [
    "fig_autor = px.pie(df_ce_agg, values='Valor', names='Autor', title='Políticos que enviaram emendas')\n",
    "fig_autor.show()"
   ]
  },
  {
   "cell_type": "markdown",
   "metadata": {},
   "source": [
    "### Cidades Recebedoras\n",
    "\n",
    "Para as cidades que receberam emendas, vou retirar a marcação do estado do nome da cidade. Quero ver o nome destas cidades, mas como são muitas, vou distribuí-las em várias colunas de um DataFrame."
   ]
  },
  {
   "cell_type": "code",
   "execution_count": 15,
   "metadata": {},
   "outputs": [
    {
     "name": "stdout",
     "output_type": "stream",
     "text": [
      "Quantidade de cidades que receberam emendas 49\n"
     ]
    },
    {
     "data": {
      "text/html": [
       "<div>\n",
       "<style scoped>\n",
       "    .dataframe tbody tr th:only-of-type {\n",
       "        vertical-align: middle;\n",
       "    }\n",
       "\n",
       "    .dataframe tbody tr th {\n",
       "        vertical-align: top;\n",
       "    }\n",
       "\n",
       "    .dataframe thead th {\n",
       "        text-align: right;\n",
       "    }\n",
       "</style>\n",
       "<table border=\"1\" class=\"dataframe\">\n",
       "  <thead>\n",
       "    <tr style=\"text-align: right;\">\n",
       "      <th></th>\n",
       "      <th>0</th>\n",
       "      <th>1</th>\n",
       "      <th>2</th>\n",
       "      <th>3</th>\n",
       "      <th>4</th>\n",
       "    </tr>\n",
       "  </thead>\n",
       "  <tbody>\n",
       "    <tr>\n",
       "      <th>0</th>\n",
       "      <td>ACARAÚ</td>\n",
       "      <td>ALCÂNTARAS</td>\n",
       "      <td>ALTANEIRA</td>\n",
       "      <td>AMONTADA</td>\n",
       "      <td>AQUIRAZ</td>\n",
       "    </tr>\n",
       "    <tr>\n",
       "      <th>1</th>\n",
       "      <td>ARATUBA</td>\n",
       "      <td>ASSARÉ</td>\n",
       "      <td>BELA CRUZ</td>\n",
       "      <td>BOA VIAGEM</td>\n",
       "      <td>CARIRIAÇU</td>\n",
       "    </tr>\n",
       "    <tr>\n",
       "      <th>2</th>\n",
       "      <td>CARIRÉ</td>\n",
       "      <td>CHAVAL</td>\n",
       "      <td>CHOROZINHO</td>\n",
       "      <td>CHORÓ</td>\n",
       "      <td>COREAÚ</td>\n",
       "    </tr>\n",
       "    <tr>\n",
       "      <th>3</th>\n",
       "      <td>CRUZ</td>\n",
       "      <td>FORTIM</td>\n",
       "      <td>FRECHEIRINHA</td>\n",
       "      <td>GRANJA</td>\n",
       "      <td>IBIAPINA</td>\n",
       "    </tr>\n",
       "    <tr>\n",
       "      <th>4</th>\n",
       "      <td>IBICUITINGA</td>\n",
       "      <td>ICÓ</td>\n",
       "      <td>IPU</td>\n",
       "      <td>IRACEMA</td>\n",
       "      <td>ITAPIPOCA</td>\n",
       "    </tr>\n",
       "    <tr>\n",
       "      <th>5</th>\n",
       "      <td>ITAREMA</td>\n",
       "      <td>JAGUARIBARA</td>\n",
       "      <td>JAGUARIBE</td>\n",
       "      <td>MARANGUAPE</td>\n",
       "      <td>MILHÃ</td>\n",
       "    </tr>\n",
       "    <tr>\n",
       "      <th>6</th>\n",
       "      <td>MONSENHOR TABOSA</td>\n",
       "      <td>MORADA NOVA</td>\n",
       "      <td>MORAÚJO</td>\n",
       "      <td>MUCAMBO</td>\n",
       "      <td>NOVA RUSSAS</td>\n",
       "    </tr>\n",
       "    <tr>\n",
       "      <th>7</th>\n",
       "      <td>NOVO ORIENTE</td>\n",
       "      <td>PARACURU</td>\n",
       "      <td>PARAIPABA</td>\n",
       "      <td>PARAMBU</td>\n",
       "      <td>PEDRA BRANCA</td>\n",
       "    </tr>\n",
       "    <tr>\n",
       "      <th>8</th>\n",
       "      <td>PENTECOSTE</td>\n",
       "      <td>PIRES FERREIRA</td>\n",
       "      <td>QUITERIANÓPOLIS</td>\n",
       "      <td>RERIUTABA</td>\n",
       "      <td>RUSSAS</td>\n",
       "    </tr>\n",
       "    <tr>\n",
       "      <th>9</th>\n",
       "      <td>SENADOR POMPEU</td>\n",
       "      <td>SÃO BENEDITO</td>\n",
       "      <td>TAMBORIL</td>\n",
       "      <td>URUOCA</td>\n",
       "      <td></td>\n",
       "    </tr>\n",
       "  </tbody>\n",
       "</table>\n",
       "</div>"
      ],
      "text/plain": [
       "                  0               1                2           3             4\n",
       "0            ACARAÚ      ALCÂNTARAS        ALTANEIRA    AMONTADA       AQUIRAZ\n",
       "1           ARATUBA          ASSARÉ        BELA CRUZ  BOA VIAGEM     CARIRIAÇU\n",
       "2            CARIRÉ          CHAVAL       CHOROZINHO       CHORÓ        COREAÚ\n",
       "3              CRUZ          FORTIM     FRECHEIRINHA      GRANJA      IBIAPINA\n",
       "4       IBICUITINGA             ICÓ              IPU     IRACEMA     ITAPIPOCA\n",
       "5           ITAREMA     JAGUARIBARA        JAGUARIBE  MARANGUAPE         MILHÃ\n",
       "6  MONSENHOR TABOSA     MORADA NOVA          MORAÚJO     MUCAMBO   NOVA RUSSAS\n",
       "7      NOVO ORIENTE        PARACURU        PARAIPABA     PARAMBU  PEDRA BRANCA\n",
       "8        PENTECOSTE  PIRES FERREIRA  QUITERIANÓPOLIS   RERIUTABA        RUSSAS\n",
       "9    SENADOR POMPEU    SÃO BENEDITO         TAMBORIL      URUOCA              "
      ]
     },
     "execution_count": 15,
     "metadata": {},
     "output_type": "execute_result"
    }
   ],
   "source": [
    "# limpando o nome das cidades\n",
    "df_cidades['local_gasto'] = df_cidades[\"local_gasto\"].apply(lambda x: x.replace(\" - CE\", \"\"))\n",
    "\n",
    "# pegando a lista de cidade sem repetição\n",
    "def cidades_emendas(df_ce):\n",
    "    locais = sorted(df_ce['local_gasto'].unique())\n",
    "    locais = pd.DataFrame({'cidade':locais})\n",
    "    return locais\n",
    "\n",
    "# espalhar a lista de cidades num dataframe\n",
    "def espalhar_cidades(series):\n",
    "    # Create a pandas Series\n",
    "    # Number of columns\n",
    "    n = 5\n",
    "\n",
    "    # Calculate the number of rows needed\n",
    "    num_rows = int(np.ceil(len(series) / n))\n",
    "\n",
    "    # Pad the Series with NaN values if necessary\n",
    "    padded_series = np.pad(series, (0, num_rows * n - len(series)), constant_values='')\n",
    "\n",
    "    # Reshape the Series and convert it to a DataFrame\n",
    "    reshaped_array = padded_series.reshape(num_rows, n)\n",
    "    return pd.DataFrame(reshaped_array)\n",
    "\n",
    "\n",
    "locais = cidades_emendas(df_cidades)\n",
    "cidades_qtd = locais.shape[0]\n",
    "print(f\"Quantidade de cidades que receberam emendas {cidades_qtd}\")\n",
    "\n",
    "locais\n",
    "\n",
    "# quero espalhar esta lista num dataframe para visualizar melhor\n",
    "df_locais = espalhar_cidades(locais['cidade'])\n",
    "df_locais\n"
   ]
  },
  {
   "cell_type": "markdown",
   "metadata": {},
   "source": [
    "### Cidade e valor recebido\n",
    "\n",
    "Sobre os valores enviado para cidade, quanto cada cidade recebeu e de quantos políticos diferentes?"
   ]
  },
  {
   "cell_type": "code",
   "execution_count": 16,
   "metadata": {},
   "outputs": [
    {
     "data": {
      "text/html": [
       "<div>\n",
       "<style scoped>\n",
       "    .dataframe tbody tr th:only-of-type {\n",
       "        vertical-align: middle;\n",
       "    }\n",
       "\n",
       "    .dataframe tbody tr th {\n",
       "        vertical-align: top;\n",
       "    }\n",
       "\n",
       "    .dataframe thead th {\n",
       "        text-align: right;\n",
       "    }\n",
       "</style>\n",
       "<table border=\"1\" class=\"dataframe\">\n",
       "  <thead>\n",
       "    <tr style=\"text-align: right;\">\n",
       "      <th></th>\n",
       "      <th>Cidade</th>\n",
       "      <th>Políticos</th>\n",
       "      <th>Valor</th>\n",
       "      <th>Valor (R$)</th>\n",
       "      <th>vlr_prty</th>\n",
       "    </tr>\n",
       "  </thead>\n",
       "  <tbody>\n",
       "    <tr>\n",
       "      <th>0</th>\n",
       "      <td>ACARAÚ</td>\n",
       "      <td>1</td>\n",
       "      <td>2724347.87</td>\n",
       "      <td>R$ 2.724.347,87</td>\n",
       "      <td>2.72M</td>\n",
       "    </tr>\n",
       "    <tr>\n",
       "      <th>1</th>\n",
       "      <td>ALCÂNTARAS</td>\n",
       "      <td>1</td>\n",
       "      <td>250000.00</td>\n",
       "      <td>R$ 250.000,00</td>\n",
       "      <td>250.00K</td>\n",
       "    </tr>\n",
       "    <tr>\n",
       "      <th>2</th>\n",
       "      <td>ALTANEIRA</td>\n",
       "      <td>1</td>\n",
       "      <td>1000012.00</td>\n",
       "      <td>R$ 1.000.012,00</td>\n",
       "      <td>1.00M</td>\n",
       "    </tr>\n",
       "    <tr>\n",
       "      <th>3</th>\n",
       "      <td>AMONTADA</td>\n",
       "      <td>1</td>\n",
       "      <td>1000000.00</td>\n",
       "      <td>R$ 1.000.000,00</td>\n",
       "      <td>1.00M</td>\n",
       "    </tr>\n",
       "    <tr>\n",
       "      <th>4</th>\n",
       "      <td>AQUIRAZ</td>\n",
       "      <td>2</td>\n",
       "      <td>4672458.52</td>\n",
       "      <td>R$ 4.672.458,52</td>\n",
       "      <td>4.67M</td>\n",
       "    </tr>\n",
       "  </tbody>\n",
       "</table>\n",
       "</div>"
      ],
      "text/plain": [
       "       Cidade  Políticos       Valor       Valor (R$) vlr_prty\n",
       "0      ACARAÚ          1  2724347.87  R$ 2.724.347,87    2.72M\n",
       "1  ALCÂNTARAS          1   250000.00    R$ 250.000,00  250.00K\n",
       "2   ALTANEIRA          1  1000012.00  R$ 1.000.012,00    1.00M\n",
       "3    AMONTADA          1  1000000.00  R$ 1.000.000,00    1.00M\n",
       "4     AQUIRAZ          2  4672458.52  R$ 4.672.458,52    4.67M"
      ]
     },
     "execution_count": 16,
     "metadata": {},
     "output_type": "execute_result"
    }
   ],
   "source": [
    "cidades_emendas_df = (\n",
    "    df_cidades\n",
    "    .groupby('local_gasto', as_index=False)\n",
    "    .agg({'emenda_autor':pd.Series.nunique, 'vlr': 'sum'})\n",
    "    .reset_index(drop=True)\n",
    ")\n",
    "\n",
    "cidades_emendas_df.rename(columns={'local_gasto':'Cidade', 'emenda_autor':'Políticos', 'vlr':'Valor'}, inplace=True)\n",
    "\n",
    "cidades_emendas_df[\"Valor (R$)\"] = cidades_emendas_df[\"Valor\"].apply(lambda x: format_currency(x, currency=\"BRL\", locale=\"pt_BR\"))\n",
    "cidades_emendas_df['vlr_prty'] = cidades_emendas_df.apply(f, axis=1)\n",
    "cidades_emendas_df.head()\n",
    "\n"
   ]
  },
  {
   "cell_type": "markdown",
   "metadata": {},
   "source": [
    "Criando um treemap para ver melhor."
   ]
  },
  {
   "cell_type": "code",
   "execution_count": 17,
   "metadata": {},
   "outputs": [
    {
     "data": {
      "application/vnd.plotly.v1+json": {
       "config": {
        "plotlyServerURL": "https://plot.ly"
       },
       "data": [
        {
         "branchvalues": "total",
         "customdata": [
          [
           2724347.87
          ],
          [
           250000
          ],
          [
           1000012
          ],
          [
           1000000
          ],
          [
           4672458.52
          ],
          [
           500000
          ],
          [
           5000000
          ],
          [
           1400000
          ],
          [
           5887627
          ],
          [
           500012
          ],
          [
           1911857.04
          ],
          [
           800000
          ],
          [
           3629209
          ],
          [
           1868873.87
          ],
          [
           250000
          ],
          [
           10000000
          ],
          [
           1000000
          ],
          [
           2000000
          ],
          [
           14525651
          ],
          [
           500000
          ],
          [
           800012
          ],
          [
           1000000
          ],
          [
           9835337
          ],
          [
           500000
          ],
          [
           847138.5
          ],
          [
           7765720
          ],
          [
           500000
          ],
          [
           1000012
          ],
          [
           1000000
          ],
          [
           977525
          ],
          [
           1000012
          ],
          [
           1952448
          ],
          [
           1300000
          ],
          [
           977525
          ],
          [
           2000000
          ],
          [
           24177216.2
          ],
          [
           500000
          ],
          [
           2443813
          ],
          [
           5819682
          ],
          [
           900000
          ],
          [
           4073023
          ],
          [
           1625000
          ],
          [
           12258418
          ],
          [
           1089365
          ],
          [
           1714511
          ],
          [
           1000000
          ],
          [
           1294786
          ],
          [
           2769655
          ],
          [
           2500000
          ],
          [
           9282982.550428068
          ]
         ],
         "domain": {
          "x": [
           0,
           1
          ],
          "y": [
           0,
           1
          ]
         },
         "hovertemplate": "labels=%{label}<br>Valor_sum=%{value}<br>parent=%{parent}<br>id=%{id}<br>Valor=%{color}<extra></extra>",
         "ids": [
          "Cidades do Ceará/ACARAÚ",
          "Cidades do Ceará/ALCÂNTARAS",
          "Cidades do Ceará/ALTANEIRA",
          "Cidades do Ceará/AMONTADA",
          "Cidades do Ceará/AQUIRAZ",
          "Cidades do Ceará/ARATUBA",
          "Cidades do Ceará/ASSARÉ",
          "Cidades do Ceará/BELA CRUZ",
          "Cidades do Ceará/BOA VIAGEM",
          "Cidades do Ceará/CARIRIAÇU",
          "Cidades do Ceará/CARIRÉ",
          "Cidades do Ceará/CHAVAL",
          "Cidades do Ceará/CHOROZINHO",
          "Cidades do Ceará/CHORÓ",
          "Cidades do Ceará/COREAÚ",
          "Cidades do Ceará/CRUZ",
          "Cidades do Ceará/FORTIM",
          "Cidades do Ceará/FRECHEIRINHA",
          "Cidades do Ceará/GRANJA",
          "Cidades do Ceará/IBIAPINA",
          "Cidades do Ceará/IBICUITINGA",
          "Cidades do Ceará/ICÓ",
          "Cidades do Ceará/IPU",
          "Cidades do Ceará/IRACEMA",
          "Cidades do Ceará/ITAPIPOCA",
          "Cidades do Ceará/ITAREMA",
          "Cidades do Ceará/JAGUARIBARA",
          "Cidades do Ceará/JAGUARIBE",
          "Cidades do Ceará/MARANGUAPE",
          "Cidades do Ceará/MILHÃ",
          "Cidades do Ceará/MONSENHOR TABOSA",
          "Cidades do Ceará/MORADA NOVA",
          "Cidades do Ceará/MORAÚJO",
          "Cidades do Ceará/MUCAMBO",
          "Cidades do Ceará/NOVA RUSSAS",
          "Cidades do Ceará/NOVO ORIENTE",
          "Cidades do Ceará/PARACURU",
          "Cidades do Ceará/PARAIPABA",
          "Cidades do Ceará/PARAMBU",
          "Cidades do Ceará/PEDRA BRANCA",
          "Cidades do Ceará/PENTECOSTE",
          "Cidades do Ceará/PIRES FERREIRA",
          "Cidades do Ceará/QUITERIANÓPOLIS",
          "Cidades do Ceará/RERIUTABA",
          "Cidades do Ceará/RUSSAS",
          "Cidades do Ceará/SENADOR POMPEU",
          "Cidades do Ceará/SÃO BENEDITO",
          "Cidades do Ceará/TAMBORIL",
          "Cidades do Ceará/URUOCA",
          "Cidades do Ceará"
         ],
         "labels": [
          "ACARAÚ",
          "ALCÂNTARAS",
          "ALTANEIRA",
          "AMONTADA",
          "AQUIRAZ",
          "ARATUBA",
          "ASSARÉ",
          "BELA CRUZ",
          "BOA VIAGEM",
          "CARIRIAÇU",
          "CARIRÉ",
          "CHAVAL",
          "CHOROZINHO",
          "CHORÓ",
          "COREAÚ",
          "CRUZ",
          "FORTIM",
          "FRECHEIRINHA",
          "GRANJA",
          "IBIAPINA",
          "IBICUITINGA",
          "ICÓ",
          "IPU",
          "IRACEMA",
          "ITAPIPOCA",
          "ITAREMA",
          "JAGUARIBARA",
          "JAGUARIBE",
          "MARANGUAPE",
          "MILHÃ",
          "MONSENHOR TABOSA",
          "MORADA NOVA",
          "MORAÚJO",
          "MUCAMBO",
          "NOVA RUSSAS",
          "NOVO ORIENTE",
          "PARACURU",
          "PARAIPABA",
          "PARAMBU",
          "PEDRA BRANCA",
          "PENTECOSTE",
          "PIRES FERREIRA",
          "QUITERIANÓPOLIS",
          "RERIUTABA",
          "RUSSAS",
          "SENADOR POMPEU",
          "SÃO BENEDITO",
          "TAMBORIL",
          "URUOCA",
          "Cidades do Ceará"
         ],
         "marker": {
          "coloraxis": "coloraxis",
          "colors": [
           2724347.87,
           250000,
           1000012,
           1000000,
           4672458.52,
           500000,
           5000000,
           1400000,
           5887627,
           500012,
           1911857.04,
           800000,
           3629209,
           1868873.87,
           250000,
           10000000,
           1000000,
           2000000,
           14525651,
           500000,
           800012,
           1000000,
           9835337,
           500000,
           847138.5,
           7765720,
           500000,
           1000012,
           1000000,
           977525,
           1000012,
           1952448,
           1300000,
           977525,
           2000000,
           24177216.2,
           500000,
           2443813,
           5819682,
           900000,
           4073023,
           1625000,
           12258418,
           1089365,
           1714511,
           1000000,
           1294786,
           2769655,
           2500000,
           9282982.550428068
          ]
         },
         "name": "",
         "opacity": 0.75,
         "parents": [
          "Cidades do Ceará",
          "Cidades do Ceará",
          "Cidades do Ceará",
          "Cidades do Ceará",
          "Cidades do Ceará",
          "Cidades do Ceará",
          "Cidades do Ceará",
          "Cidades do Ceará",
          "Cidades do Ceará",
          "Cidades do Ceará",
          "Cidades do Ceará",
          "Cidades do Ceará",
          "Cidades do Ceará",
          "Cidades do Ceará",
          "Cidades do Ceará",
          "Cidades do Ceará",
          "Cidades do Ceará",
          "Cidades do Ceará",
          "Cidades do Ceará",
          "Cidades do Ceará",
          "Cidades do Ceará",
          "Cidades do Ceará",
          "Cidades do Ceará",
          "Cidades do Ceará",
          "Cidades do Ceará",
          "Cidades do Ceará",
          "Cidades do Ceará",
          "Cidades do Ceará",
          "Cidades do Ceará",
          "Cidades do Ceará",
          "Cidades do Ceará",
          "Cidades do Ceará",
          "Cidades do Ceará",
          "Cidades do Ceará",
          "Cidades do Ceará",
          "Cidades do Ceará",
          "Cidades do Ceará",
          "Cidades do Ceará",
          "Cidades do Ceará",
          "Cidades do Ceará",
          "Cidades do Ceará",
          "Cidades do Ceará",
          "Cidades do Ceará",
          "Cidades do Ceará",
          "Cidades do Ceará",
          "Cidades do Ceará",
          "Cidades do Ceará",
          "Cidades do Ceará",
          "Cidades do Ceará",
          ""
         ],
         "text": [
          "2.72M",
          "250.00K",
          "1.00M",
          "1.00M",
          "4.67M",
          "500.00K",
          "5.00M",
          "1.40M",
          "5.89M",
          "500.01K",
          "1.91M",
          "800.00K",
          "3.63M",
          "1.87M",
          "250.00K",
          "10.00M",
          "1.00M",
          "2.00M",
          "14.53M",
          "500.00K",
          "800.01K",
          "1.00M",
          "9.84M",
          "500.00K",
          "847.14K",
          "7.77M",
          "500.00K",
          "1.00M",
          "1.00M",
          "977.52K",
          "1.00M",
          "1.95M",
          "1.30M",
          "977.52K",
          "2.00M",
          "24.18M",
          "500.00K",
          "2.44M",
          "5.82M",
          "900.00K",
          "4.07M",
          "1.62M",
          "12.26M",
          "1.09M",
          "1.71M",
          "1.00M",
          "1.29M",
          "2.77M",
          "2.50M"
         ],
         "textinfo": "label+text",
         "type": "treemap",
         "values": [
          2724347.87,
          250000,
          1000012,
          1000000,
          4672458.52,
          500000,
          5000000,
          1400000,
          5887627,
          500012,
          1911857.04,
          800000,
          3629209,
          1868873.87,
          250000,
          10000000,
          1000000,
          2000000,
          14525651,
          500000,
          800012,
          1000000,
          9835337,
          500000,
          847138.5,
          7765720,
          500000,
          1000012,
          1000000,
          977525,
          1000012,
          1952448,
          1300000,
          977525,
          2000000,
          24177216.2,
          500000,
          2443813,
          5819682,
          900000,
          4073023,
          1625000,
          12258418,
          1089365,
          1714511,
          1000000,
          1294786,
          2769655,
          2500000,
          153041247
         ]
        }
       ],
       "layout": {
        "coloraxis": {
         "colorbar": {
          "title": {
           "text": "Valor"
          }
         },
         "colorscale": [
          [
           0,
           "#440154"
          ],
          [
           0.1111111111111111,
           "#482878"
          ],
          [
           0.2222222222222222,
           "#3e4989"
          ],
          [
           0.3333333333333333,
           "#31688e"
          ],
          [
           0.4444444444444444,
           "#26828e"
          ],
          [
           0.5555555555555556,
           "#1f9e89"
          ],
          [
           0.6666666666666666,
           "#35b779"
          ],
          [
           0.7777777777777778,
           "#6ece58"
          ],
          [
           0.8888888888888888,
           "#b5de2b"
          ],
          [
           1,
           "#fde725"
          ]
         ]
        },
        "legend": {
         "tracegroupgap": 0
        },
        "margin": {
         "t": 60
        },
        "template": {
         "data": {
          "bar": [
           {
            "error_x": {
             "color": "#2a3f5f"
            },
            "error_y": {
             "color": "#2a3f5f"
            },
            "marker": {
             "line": {
              "color": "#E5ECF6",
              "width": 0.5
             },
             "pattern": {
              "fillmode": "overlay",
              "size": 10,
              "solidity": 0.2
             }
            },
            "type": "bar"
           }
          ],
          "barpolar": [
           {
            "marker": {
             "line": {
              "color": "#E5ECF6",
              "width": 0.5
             },
             "pattern": {
              "fillmode": "overlay",
              "size": 10,
              "solidity": 0.2
             }
            },
            "type": "barpolar"
           }
          ],
          "carpet": [
           {
            "aaxis": {
             "endlinecolor": "#2a3f5f",
             "gridcolor": "white",
             "linecolor": "white",
             "minorgridcolor": "white",
             "startlinecolor": "#2a3f5f"
            },
            "baxis": {
             "endlinecolor": "#2a3f5f",
             "gridcolor": "white",
             "linecolor": "white",
             "minorgridcolor": "white",
             "startlinecolor": "#2a3f5f"
            },
            "type": "carpet"
           }
          ],
          "choropleth": [
           {
            "colorbar": {
             "outlinewidth": 0,
             "ticks": ""
            },
            "type": "choropleth"
           }
          ],
          "contour": [
           {
            "colorbar": {
             "outlinewidth": 0,
             "ticks": ""
            },
            "colorscale": [
             [
              0,
              "#0d0887"
             ],
             [
              0.1111111111111111,
              "#46039f"
             ],
             [
              0.2222222222222222,
              "#7201a8"
             ],
             [
              0.3333333333333333,
              "#9c179e"
             ],
             [
              0.4444444444444444,
              "#bd3786"
             ],
             [
              0.5555555555555556,
              "#d8576b"
             ],
             [
              0.6666666666666666,
              "#ed7953"
             ],
             [
              0.7777777777777778,
              "#fb9f3a"
             ],
             [
              0.8888888888888888,
              "#fdca26"
             ],
             [
              1,
              "#f0f921"
             ]
            ],
            "type": "contour"
           }
          ],
          "contourcarpet": [
           {
            "colorbar": {
             "outlinewidth": 0,
             "ticks": ""
            },
            "type": "contourcarpet"
           }
          ],
          "heatmap": [
           {
            "colorbar": {
             "outlinewidth": 0,
             "ticks": ""
            },
            "colorscale": [
             [
              0,
              "#0d0887"
             ],
             [
              0.1111111111111111,
              "#46039f"
             ],
             [
              0.2222222222222222,
              "#7201a8"
             ],
             [
              0.3333333333333333,
              "#9c179e"
             ],
             [
              0.4444444444444444,
              "#bd3786"
             ],
             [
              0.5555555555555556,
              "#d8576b"
             ],
             [
              0.6666666666666666,
              "#ed7953"
             ],
             [
              0.7777777777777778,
              "#fb9f3a"
             ],
             [
              0.8888888888888888,
              "#fdca26"
             ],
             [
              1,
              "#f0f921"
             ]
            ],
            "type": "heatmap"
           }
          ],
          "heatmapgl": [
           {
            "colorbar": {
             "outlinewidth": 0,
             "ticks": ""
            },
            "colorscale": [
             [
              0,
              "#0d0887"
             ],
             [
              0.1111111111111111,
              "#46039f"
             ],
             [
              0.2222222222222222,
              "#7201a8"
             ],
             [
              0.3333333333333333,
              "#9c179e"
             ],
             [
              0.4444444444444444,
              "#bd3786"
             ],
             [
              0.5555555555555556,
              "#d8576b"
             ],
             [
              0.6666666666666666,
              "#ed7953"
             ],
             [
              0.7777777777777778,
              "#fb9f3a"
             ],
             [
              0.8888888888888888,
              "#fdca26"
             ],
             [
              1,
              "#f0f921"
             ]
            ],
            "type": "heatmapgl"
           }
          ],
          "histogram": [
           {
            "marker": {
             "pattern": {
              "fillmode": "overlay",
              "size": 10,
              "solidity": 0.2
             }
            },
            "type": "histogram"
           }
          ],
          "histogram2d": [
           {
            "colorbar": {
             "outlinewidth": 0,
             "ticks": ""
            },
            "colorscale": [
             [
              0,
              "#0d0887"
             ],
             [
              0.1111111111111111,
              "#46039f"
             ],
             [
              0.2222222222222222,
              "#7201a8"
             ],
             [
              0.3333333333333333,
              "#9c179e"
             ],
             [
              0.4444444444444444,
              "#bd3786"
             ],
             [
              0.5555555555555556,
              "#d8576b"
             ],
             [
              0.6666666666666666,
              "#ed7953"
             ],
             [
              0.7777777777777778,
              "#fb9f3a"
             ],
             [
              0.8888888888888888,
              "#fdca26"
             ],
             [
              1,
              "#f0f921"
             ]
            ],
            "type": "histogram2d"
           }
          ],
          "histogram2dcontour": [
           {
            "colorbar": {
             "outlinewidth": 0,
             "ticks": ""
            },
            "colorscale": [
             [
              0,
              "#0d0887"
             ],
             [
              0.1111111111111111,
              "#46039f"
             ],
             [
              0.2222222222222222,
              "#7201a8"
             ],
             [
              0.3333333333333333,
              "#9c179e"
             ],
             [
              0.4444444444444444,
              "#bd3786"
             ],
             [
              0.5555555555555556,
              "#d8576b"
             ],
             [
              0.6666666666666666,
              "#ed7953"
             ],
             [
              0.7777777777777778,
              "#fb9f3a"
             ],
             [
              0.8888888888888888,
              "#fdca26"
             ],
             [
              1,
              "#f0f921"
             ]
            ],
            "type": "histogram2dcontour"
           }
          ],
          "mesh3d": [
           {
            "colorbar": {
             "outlinewidth": 0,
             "ticks": ""
            },
            "type": "mesh3d"
           }
          ],
          "parcoords": [
           {
            "line": {
             "colorbar": {
              "outlinewidth": 0,
              "ticks": ""
             }
            },
            "type": "parcoords"
           }
          ],
          "pie": [
           {
            "automargin": true,
            "type": "pie"
           }
          ],
          "scatter": [
           {
            "fillpattern": {
             "fillmode": "overlay",
             "size": 10,
             "solidity": 0.2
            },
            "type": "scatter"
           }
          ],
          "scatter3d": [
           {
            "line": {
             "colorbar": {
              "outlinewidth": 0,
              "ticks": ""
             }
            },
            "marker": {
             "colorbar": {
              "outlinewidth": 0,
              "ticks": ""
             }
            },
            "type": "scatter3d"
           }
          ],
          "scattercarpet": [
           {
            "marker": {
             "colorbar": {
              "outlinewidth": 0,
              "ticks": ""
             }
            },
            "type": "scattercarpet"
           }
          ],
          "scattergeo": [
           {
            "marker": {
             "colorbar": {
              "outlinewidth": 0,
              "ticks": ""
             }
            },
            "type": "scattergeo"
           }
          ],
          "scattergl": [
           {
            "marker": {
             "colorbar": {
              "outlinewidth": 0,
              "ticks": ""
             }
            },
            "type": "scattergl"
           }
          ],
          "scattermapbox": [
           {
            "marker": {
             "colorbar": {
              "outlinewidth": 0,
              "ticks": ""
             }
            },
            "type": "scattermapbox"
           }
          ],
          "scatterpolar": [
           {
            "marker": {
             "colorbar": {
              "outlinewidth": 0,
              "ticks": ""
             }
            },
            "type": "scatterpolar"
           }
          ],
          "scatterpolargl": [
           {
            "marker": {
             "colorbar": {
              "outlinewidth": 0,
              "ticks": ""
             }
            },
            "type": "scatterpolargl"
           }
          ],
          "scatterternary": [
           {
            "marker": {
             "colorbar": {
              "outlinewidth": 0,
              "ticks": ""
             }
            },
            "type": "scatterternary"
           }
          ],
          "surface": [
           {
            "colorbar": {
             "outlinewidth": 0,
             "ticks": ""
            },
            "colorscale": [
             [
              0,
              "#0d0887"
             ],
             [
              0.1111111111111111,
              "#46039f"
             ],
             [
              0.2222222222222222,
              "#7201a8"
             ],
             [
              0.3333333333333333,
              "#9c179e"
             ],
             [
              0.4444444444444444,
              "#bd3786"
             ],
             [
              0.5555555555555556,
              "#d8576b"
             ],
             [
              0.6666666666666666,
              "#ed7953"
             ],
             [
              0.7777777777777778,
              "#fb9f3a"
             ],
             [
              0.8888888888888888,
              "#fdca26"
             ],
             [
              1,
              "#f0f921"
             ]
            ],
            "type": "surface"
           }
          ],
          "table": [
           {
            "cells": {
             "fill": {
              "color": "#EBF0F8"
             },
             "line": {
              "color": "white"
             }
            },
            "header": {
             "fill": {
              "color": "#C8D4E3"
             },
             "line": {
              "color": "white"
             }
            },
            "type": "table"
           }
          ]
         },
         "layout": {
          "annotationdefaults": {
           "arrowcolor": "#2a3f5f",
           "arrowhead": 0,
           "arrowwidth": 1
          },
          "autotypenumbers": "strict",
          "coloraxis": {
           "colorbar": {
            "outlinewidth": 0,
            "ticks": ""
           }
          },
          "colorscale": {
           "diverging": [
            [
             0,
             "#8e0152"
            ],
            [
             0.1,
             "#c51b7d"
            ],
            [
             0.2,
             "#de77ae"
            ],
            [
             0.3,
             "#f1b6da"
            ],
            [
             0.4,
             "#fde0ef"
            ],
            [
             0.5,
             "#f7f7f7"
            ],
            [
             0.6,
             "#e6f5d0"
            ],
            [
             0.7,
             "#b8e186"
            ],
            [
             0.8,
             "#7fbc41"
            ],
            [
             0.9,
             "#4d9221"
            ],
            [
             1,
             "#276419"
            ]
           ],
           "sequential": [
            [
             0,
             "#0d0887"
            ],
            [
             0.1111111111111111,
             "#46039f"
            ],
            [
             0.2222222222222222,
             "#7201a8"
            ],
            [
             0.3333333333333333,
             "#9c179e"
            ],
            [
             0.4444444444444444,
             "#bd3786"
            ],
            [
             0.5555555555555556,
             "#d8576b"
            ],
            [
             0.6666666666666666,
             "#ed7953"
            ],
            [
             0.7777777777777778,
             "#fb9f3a"
            ],
            [
             0.8888888888888888,
             "#fdca26"
            ],
            [
             1,
             "#f0f921"
            ]
           ],
           "sequentialminus": [
            [
             0,
             "#0d0887"
            ],
            [
             0.1111111111111111,
             "#46039f"
            ],
            [
             0.2222222222222222,
             "#7201a8"
            ],
            [
             0.3333333333333333,
             "#9c179e"
            ],
            [
             0.4444444444444444,
             "#bd3786"
            ],
            [
             0.5555555555555556,
             "#d8576b"
            ],
            [
             0.6666666666666666,
             "#ed7953"
            ],
            [
             0.7777777777777778,
             "#fb9f3a"
            ],
            [
             0.8888888888888888,
             "#fdca26"
            ],
            [
             1,
             "#f0f921"
            ]
           ]
          },
          "colorway": [
           "#636efa",
           "#EF553B",
           "#00cc96",
           "#ab63fa",
           "#FFA15A",
           "#19d3f3",
           "#FF6692",
           "#B6E880",
           "#FF97FF",
           "#FECB52"
          ],
          "font": {
           "color": "#2a3f5f"
          },
          "geo": {
           "bgcolor": "white",
           "lakecolor": "white",
           "landcolor": "#E5ECF6",
           "showlakes": true,
           "showland": true,
           "subunitcolor": "white"
          },
          "hoverlabel": {
           "align": "left"
          },
          "hovermode": "closest",
          "mapbox": {
           "style": "light"
          },
          "paper_bgcolor": "white",
          "plot_bgcolor": "#E5ECF6",
          "polar": {
           "angularaxis": {
            "gridcolor": "white",
            "linecolor": "white",
            "ticks": ""
           },
           "bgcolor": "#E5ECF6",
           "radialaxis": {
            "gridcolor": "white",
            "linecolor": "white",
            "ticks": ""
           }
          },
          "scene": {
           "xaxis": {
            "backgroundcolor": "#E5ECF6",
            "gridcolor": "white",
            "gridwidth": 2,
            "linecolor": "white",
            "showbackground": true,
            "ticks": "",
            "zerolinecolor": "white"
           },
           "yaxis": {
            "backgroundcolor": "#E5ECF6",
            "gridcolor": "white",
            "gridwidth": 2,
            "linecolor": "white",
            "showbackground": true,
            "ticks": "",
            "zerolinecolor": "white"
           },
           "zaxis": {
            "backgroundcolor": "#E5ECF6",
            "gridcolor": "white",
            "gridwidth": 2,
            "linecolor": "white",
            "showbackground": true,
            "ticks": "",
            "zerolinecolor": "white"
           }
          },
          "shapedefaults": {
           "line": {
            "color": "#2a3f5f"
           }
          },
          "ternary": {
           "aaxis": {
            "gridcolor": "white",
            "linecolor": "white",
            "ticks": ""
           },
           "baxis": {
            "gridcolor": "white",
            "linecolor": "white",
            "ticks": ""
           },
           "bgcolor": "#E5ECF6",
           "caxis": {
            "gridcolor": "white",
            "linecolor": "white",
            "ticks": ""
           }
          },
          "title": {
           "x": 0.05
          },
          "xaxis": {
           "automargin": true,
           "gridcolor": "white",
           "linecolor": "white",
           "ticks": "",
           "title": {
            "standoff": 15
           },
           "zerolinecolor": "white",
           "zerolinewidth": 2
          },
          "yaxis": {
           "automargin": true,
           "gridcolor": "white",
           "linecolor": "white",
           "ticks": "",
           "title": {
            "standoff": 15
           },
           "zerolinecolor": "white",
           "zerolinewidth": 2
          }
         }
        }
       }
      }
     },
     "metadata": {},
     "output_type": "display_data"
    }
   ],
   "source": [
    "# fig1 = px.treemap(cidades_emendas_df, path=[\"Cidade\"], values=\"vlr\",color=\"vlr\",color_continuous_scale='viridis')\n",
    "# fig1.update_traces(\n",
    "#     #textinfo=\"label+value\"\n",
    "#     texttemplate='%{label} <br> %{value: text} <br> %{percentRoot}'\n",
    "#     ,selector=dict(type='treemap')\n",
    "# )\n",
    "# fig1.show()\n",
    "\n",
    "\n",
    "\n",
    "\n",
    "# emendas_estaduais[['Estado','Políticos','Emendas','vlr_prty', 'Valor']]\n",
    "# cidades_emendas_df.head()\n",
    "\n",
    "fig2 = px.treemap(cidades_emendas_df, path=[px.Constant(\"Cidades do Ceará\"),\"Cidade\"], values=\"Valor\", color=\"Valor\", color_continuous_scale='viridis')\n",
    "fig2.update_traces(\n",
    "    text=cidades_emendas_df['vlr_prty'],\n",
    "    textinfo=\"label+text\", \n",
    "    selector=dict(type='treemap'), \n",
    "    opacity=0.75\n",
    ")\n",
    "fig2.show()"
   ]
  },
  {
   "cell_type": "markdown",
   "metadata": {},
   "source": [
    "### Outliers\n",
    "\n",
    "Vamos indentificar valores outliers das emendas enviadas para o estado e para as cidades. Os dados não serão agregados e utilizaremos um gráfico boxplot."
   ]
  },
  {
   "cell_type": "code",
   "execution_count": 34,
   "metadata": {},
   "outputs": [
    {
     "data": {
      "application/vnd.plotly.v1+json": {
       "config": {
        "plotlyServerURL": "https://plot.ly"
       },
       "data": [
        {
         "alignmentgroup": "True",
         "hovertemplate": "Tipo=%{y}<br>Valor=%{x}<extra></extra>",
         "legendgroup": "Estadual",
         "marker": {
          "color": "#636efa"
         },
         "name": "Estadual",
         "notched": false,
         "offsetgroup": "Estadual",
         "orientation": "h",
         "showlegend": true,
         "type": "box",
         "x": [
          16051700,
          16051699,
          16051698,
          15888779,
          15551253,
          15171695,
          14644231.88,
          13921711,
          13611876,
          13076179,
          13033674,
          10837034,
          10804665.87,
          10804665.87,
          10719076.64,
          10462308.95,
          10345479,
          10270707.75,
          9414815.44,
          9321119.2,
          9206994.52,
          9084774.81,
          8819682,
          8800000,
          8669682,
          8569682,
          8549682,
          8519682,
          8485650.19,
          8000000,
          7819682,
          7600000,
          7417733.38,
          7355365,
          7299682,
          6904197.99,
          6500000,
          6289365,
          6000000,
          6000000,
          5365690.92,
          5210737,
          5192413.36,
          5150000,
          5000000,
          4913026,
          4889365,
          4813419.68,
          4644442,
          4639365,
          4105869.7,
          1629209,
          1629209,
          1629209,
          1600036,
          1225891,
          814604,
          814604,
          814600,
          500000,
          488760
         ],
         "x0": " ",
         "xaxis": "x",
         "y": [
          "Estadual",
          "Estadual",
          "Estadual",
          "Estadual",
          "Estadual",
          "Estadual",
          "Estadual",
          "Estadual",
          "Estadual",
          "Estadual",
          "Estadual",
          "Estadual",
          "Estadual",
          "Estadual",
          "Estadual",
          "Estadual",
          "Estadual",
          "Estadual",
          "Estadual",
          "Estadual",
          "Estadual",
          "Estadual",
          "Estadual",
          "Estadual",
          "Estadual",
          "Estadual",
          "Estadual",
          "Estadual",
          "Estadual",
          "Estadual",
          "Estadual",
          "Estadual",
          "Estadual",
          "Estadual",
          "Estadual",
          "Estadual",
          "Estadual",
          "Estadual",
          "Estadual",
          "Estadual",
          "Estadual",
          "Estadual",
          "Estadual",
          "Estadual",
          "Estadual",
          "Estadual",
          "Estadual",
          "Estadual",
          "Estadual",
          "Estadual",
          "Estadual",
          "Estadual",
          "Estadual",
          "Estadual",
          "Estadual",
          "Estadual",
          "Estadual",
          "Estadual",
          "Estadual",
          "Estadual",
          "Estadual"
         ],
         "y0": " ",
         "yaxis": "y"
        },
        {
         "alignmentgroup": "True",
         "hovertemplate": "Tipo=%{y}<br>Valor=%{x}<extra></extra>",
         "legendgroup": "Municipal",
         "marker": {
          "color": "#EF553B"
         },
         "name": "Municipal",
         "notched": false,
         "offsetgroup": "Municipal",
         "orientation": "h",
         "showlegend": true,
         "type": "box",
         "x": [
          100000,
          250000,
          250000,
          400000,
          500000,
          500000,
          500000,
          500000,
          500000,
          500000,
          500000,
          500000,
          500012,
          800000,
          800000,
          800012,
          900000,
          977525,
          977525,
          1000000,
          1000000,
          1000000,
          1000000,
          1000000,
          1000000,
          216566.2,
          1000000,
          1000000,
          1000000,
          1000000,
          1000000,
          847138.5,
          1000000,
          1000000,
          1000000,
          1000012,
          1000012,
          1000012,
          1089365,
          1125000,
          1294786,
          1450000,
          1500000,
          1500000,
          1629209,
          1714511,
          1852448,
          1935792,
          2000000,
          2000000,
          2000000,
          2000000,
          2443813,
          2600000,
          2719682,
          2769655,
          461857.04,
          3000000,
          3258418,
          3258418,
          3258418,
          3500000,
          3665720,
          2672458.52,
          4073023,
          4887627,
          4887627,
          4947710,
          5000000,
          4665.87,
          5702232,
          5819682,
          6000000,
          7000000,
          7331441,
          10000000,
          1868873.87
         ],
         "x0": " ",
         "xaxis": "x",
         "y": [
          "Municipal",
          "Municipal",
          "Municipal",
          "Municipal",
          "Municipal",
          "Municipal",
          "Municipal",
          "Municipal",
          "Municipal",
          "Municipal",
          "Municipal",
          "Municipal",
          "Municipal",
          "Municipal",
          "Municipal",
          "Municipal",
          "Municipal",
          "Municipal",
          "Municipal",
          "Municipal",
          "Municipal",
          "Municipal",
          "Municipal",
          "Municipal",
          "Municipal",
          "Municipal",
          "Municipal",
          "Municipal",
          "Municipal",
          "Municipal",
          "Municipal",
          "Municipal",
          "Municipal",
          "Municipal",
          "Municipal",
          "Municipal",
          "Municipal",
          "Municipal",
          "Municipal",
          "Municipal",
          "Municipal",
          "Municipal",
          "Municipal",
          "Municipal",
          "Municipal",
          "Municipal",
          "Municipal",
          "Municipal",
          "Municipal",
          "Municipal",
          "Municipal",
          "Municipal",
          "Municipal",
          "Municipal",
          "Municipal",
          "Municipal",
          "Municipal",
          "Municipal",
          "Municipal",
          "Municipal",
          "Municipal",
          "Municipal",
          "Municipal",
          "Municipal",
          "Municipal",
          "Municipal",
          "Municipal",
          "Municipal",
          "Municipal",
          "Municipal",
          "Municipal",
          "Municipal",
          "Municipal",
          "Municipal",
          "Municipal",
          "Municipal",
          "Municipal"
         ],
         "y0": " ",
         "yaxis": "y"
        }
       ],
       "layout": {
        "boxmode": "overlay",
        "legend": {
         "title": {
          "text": "Tipo"
         },
         "tracegroupgap": 0
        },
        "margin": {
         "t": 60
        },
        "paper_bgcolor": "rgb(243, 243, 243)",
        "plot_bgcolor": "rgb(243, 243, 243)",
        "showlegend": false,
        "template": {
         "data": {
          "bar": [
           {
            "error_x": {
             "color": "#2a3f5f"
            },
            "error_y": {
             "color": "#2a3f5f"
            },
            "marker": {
             "line": {
              "color": "#E5ECF6",
              "width": 0.5
             },
             "pattern": {
              "fillmode": "overlay",
              "size": 10,
              "solidity": 0.2
             }
            },
            "type": "bar"
           }
          ],
          "barpolar": [
           {
            "marker": {
             "line": {
              "color": "#E5ECF6",
              "width": 0.5
             },
             "pattern": {
              "fillmode": "overlay",
              "size": 10,
              "solidity": 0.2
             }
            },
            "type": "barpolar"
           }
          ],
          "carpet": [
           {
            "aaxis": {
             "endlinecolor": "#2a3f5f",
             "gridcolor": "white",
             "linecolor": "white",
             "minorgridcolor": "white",
             "startlinecolor": "#2a3f5f"
            },
            "baxis": {
             "endlinecolor": "#2a3f5f",
             "gridcolor": "white",
             "linecolor": "white",
             "minorgridcolor": "white",
             "startlinecolor": "#2a3f5f"
            },
            "type": "carpet"
           }
          ],
          "choropleth": [
           {
            "colorbar": {
             "outlinewidth": 0,
             "ticks": ""
            },
            "type": "choropleth"
           }
          ],
          "contour": [
           {
            "colorbar": {
             "outlinewidth": 0,
             "ticks": ""
            },
            "colorscale": [
             [
              0,
              "#0d0887"
             ],
             [
              0.1111111111111111,
              "#46039f"
             ],
             [
              0.2222222222222222,
              "#7201a8"
             ],
             [
              0.3333333333333333,
              "#9c179e"
             ],
             [
              0.4444444444444444,
              "#bd3786"
             ],
             [
              0.5555555555555556,
              "#d8576b"
             ],
             [
              0.6666666666666666,
              "#ed7953"
             ],
             [
              0.7777777777777778,
              "#fb9f3a"
             ],
             [
              0.8888888888888888,
              "#fdca26"
             ],
             [
              1,
              "#f0f921"
             ]
            ],
            "type": "contour"
           }
          ],
          "contourcarpet": [
           {
            "colorbar": {
             "outlinewidth": 0,
             "ticks": ""
            },
            "type": "contourcarpet"
           }
          ],
          "heatmap": [
           {
            "colorbar": {
             "outlinewidth": 0,
             "ticks": ""
            },
            "colorscale": [
             [
              0,
              "#0d0887"
             ],
             [
              0.1111111111111111,
              "#46039f"
             ],
             [
              0.2222222222222222,
              "#7201a8"
             ],
             [
              0.3333333333333333,
              "#9c179e"
             ],
             [
              0.4444444444444444,
              "#bd3786"
             ],
             [
              0.5555555555555556,
              "#d8576b"
             ],
             [
              0.6666666666666666,
              "#ed7953"
             ],
             [
              0.7777777777777778,
              "#fb9f3a"
             ],
             [
              0.8888888888888888,
              "#fdca26"
             ],
             [
              1,
              "#f0f921"
             ]
            ],
            "type": "heatmap"
           }
          ],
          "heatmapgl": [
           {
            "colorbar": {
             "outlinewidth": 0,
             "ticks": ""
            },
            "colorscale": [
             [
              0,
              "#0d0887"
             ],
             [
              0.1111111111111111,
              "#46039f"
             ],
             [
              0.2222222222222222,
              "#7201a8"
             ],
             [
              0.3333333333333333,
              "#9c179e"
             ],
             [
              0.4444444444444444,
              "#bd3786"
             ],
             [
              0.5555555555555556,
              "#d8576b"
             ],
             [
              0.6666666666666666,
              "#ed7953"
             ],
             [
              0.7777777777777778,
              "#fb9f3a"
             ],
             [
              0.8888888888888888,
              "#fdca26"
             ],
             [
              1,
              "#f0f921"
             ]
            ],
            "type": "heatmapgl"
           }
          ],
          "histogram": [
           {
            "marker": {
             "pattern": {
              "fillmode": "overlay",
              "size": 10,
              "solidity": 0.2
             }
            },
            "type": "histogram"
           }
          ],
          "histogram2d": [
           {
            "colorbar": {
             "outlinewidth": 0,
             "ticks": ""
            },
            "colorscale": [
             [
              0,
              "#0d0887"
             ],
             [
              0.1111111111111111,
              "#46039f"
             ],
             [
              0.2222222222222222,
              "#7201a8"
             ],
             [
              0.3333333333333333,
              "#9c179e"
             ],
             [
              0.4444444444444444,
              "#bd3786"
             ],
             [
              0.5555555555555556,
              "#d8576b"
             ],
             [
              0.6666666666666666,
              "#ed7953"
             ],
             [
              0.7777777777777778,
              "#fb9f3a"
             ],
             [
              0.8888888888888888,
              "#fdca26"
             ],
             [
              1,
              "#f0f921"
             ]
            ],
            "type": "histogram2d"
           }
          ],
          "histogram2dcontour": [
           {
            "colorbar": {
             "outlinewidth": 0,
             "ticks": ""
            },
            "colorscale": [
             [
              0,
              "#0d0887"
             ],
             [
              0.1111111111111111,
              "#46039f"
             ],
             [
              0.2222222222222222,
              "#7201a8"
             ],
             [
              0.3333333333333333,
              "#9c179e"
             ],
             [
              0.4444444444444444,
              "#bd3786"
             ],
             [
              0.5555555555555556,
              "#d8576b"
             ],
             [
              0.6666666666666666,
              "#ed7953"
             ],
             [
              0.7777777777777778,
              "#fb9f3a"
             ],
             [
              0.8888888888888888,
              "#fdca26"
             ],
             [
              1,
              "#f0f921"
             ]
            ],
            "type": "histogram2dcontour"
           }
          ],
          "mesh3d": [
           {
            "colorbar": {
             "outlinewidth": 0,
             "ticks": ""
            },
            "type": "mesh3d"
           }
          ],
          "parcoords": [
           {
            "line": {
             "colorbar": {
              "outlinewidth": 0,
              "ticks": ""
             }
            },
            "type": "parcoords"
           }
          ],
          "pie": [
           {
            "automargin": true,
            "type": "pie"
           }
          ],
          "scatter": [
           {
            "fillpattern": {
             "fillmode": "overlay",
             "size": 10,
             "solidity": 0.2
            },
            "type": "scatter"
           }
          ],
          "scatter3d": [
           {
            "line": {
             "colorbar": {
              "outlinewidth": 0,
              "ticks": ""
             }
            },
            "marker": {
             "colorbar": {
              "outlinewidth": 0,
              "ticks": ""
             }
            },
            "type": "scatter3d"
           }
          ],
          "scattercarpet": [
           {
            "marker": {
             "colorbar": {
              "outlinewidth": 0,
              "ticks": ""
             }
            },
            "type": "scattercarpet"
           }
          ],
          "scattergeo": [
           {
            "marker": {
             "colorbar": {
              "outlinewidth": 0,
              "ticks": ""
             }
            },
            "type": "scattergeo"
           }
          ],
          "scattergl": [
           {
            "marker": {
             "colorbar": {
              "outlinewidth": 0,
              "ticks": ""
             }
            },
            "type": "scattergl"
           }
          ],
          "scattermapbox": [
           {
            "marker": {
             "colorbar": {
              "outlinewidth": 0,
              "ticks": ""
             }
            },
            "type": "scattermapbox"
           }
          ],
          "scatterpolar": [
           {
            "marker": {
             "colorbar": {
              "outlinewidth": 0,
              "ticks": ""
             }
            },
            "type": "scatterpolar"
           }
          ],
          "scatterpolargl": [
           {
            "marker": {
             "colorbar": {
              "outlinewidth": 0,
              "ticks": ""
             }
            },
            "type": "scatterpolargl"
           }
          ],
          "scatterternary": [
           {
            "marker": {
             "colorbar": {
              "outlinewidth": 0,
              "ticks": ""
             }
            },
            "type": "scatterternary"
           }
          ],
          "surface": [
           {
            "colorbar": {
             "outlinewidth": 0,
             "ticks": ""
            },
            "colorscale": [
             [
              0,
              "#0d0887"
             ],
             [
              0.1111111111111111,
              "#46039f"
             ],
             [
              0.2222222222222222,
              "#7201a8"
             ],
             [
              0.3333333333333333,
              "#9c179e"
             ],
             [
              0.4444444444444444,
              "#bd3786"
             ],
             [
              0.5555555555555556,
              "#d8576b"
             ],
             [
              0.6666666666666666,
              "#ed7953"
             ],
             [
              0.7777777777777778,
              "#fb9f3a"
             ],
             [
              0.8888888888888888,
              "#fdca26"
             ],
             [
              1,
              "#f0f921"
             ]
            ],
            "type": "surface"
           }
          ],
          "table": [
           {
            "cells": {
             "fill": {
              "color": "#EBF0F8"
             },
             "line": {
              "color": "white"
             }
            },
            "header": {
             "fill": {
              "color": "#C8D4E3"
             },
             "line": {
              "color": "white"
             }
            },
            "type": "table"
           }
          ]
         },
         "layout": {
          "annotationdefaults": {
           "arrowcolor": "#2a3f5f",
           "arrowhead": 0,
           "arrowwidth": 1
          },
          "autotypenumbers": "strict",
          "coloraxis": {
           "colorbar": {
            "outlinewidth": 0,
            "ticks": ""
           }
          },
          "colorscale": {
           "diverging": [
            [
             0,
             "#8e0152"
            ],
            [
             0.1,
             "#c51b7d"
            ],
            [
             0.2,
             "#de77ae"
            ],
            [
             0.3,
             "#f1b6da"
            ],
            [
             0.4,
             "#fde0ef"
            ],
            [
             0.5,
             "#f7f7f7"
            ],
            [
             0.6,
             "#e6f5d0"
            ],
            [
             0.7,
             "#b8e186"
            ],
            [
             0.8,
             "#7fbc41"
            ],
            [
             0.9,
             "#4d9221"
            ],
            [
             1,
             "#276419"
            ]
           ],
           "sequential": [
            [
             0,
             "#0d0887"
            ],
            [
             0.1111111111111111,
             "#46039f"
            ],
            [
             0.2222222222222222,
             "#7201a8"
            ],
            [
             0.3333333333333333,
             "#9c179e"
            ],
            [
             0.4444444444444444,
             "#bd3786"
            ],
            [
             0.5555555555555556,
             "#d8576b"
            ],
            [
             0.6666666666666666,
             "#ed7953"
            ],
            [
             0.7777777777777778,
             "#fb9f3a"
            ],
            [
             0.8888888888888888,
             "#fdca26"
            ],
            [
             1,
             "#f0f921"
            ]
           ],
           "sequentialminus": [
            [
             0,
             "#0d0887"
            ],
            [
             0.1111111111111111,
             "#46039f"
            ],
            [
             0.2222222222222222,
             "#7201a8"
            ],
            [
             0.3333333333333333,
             "#9c179e"
            ],
            [
             0.4444444444444444,
             "#bd3786"
            ],
            [
             0.5555555555555556,
             "#d8576b"
            ],
            [
             0.6666666666666666,
             "#ed7953"
            ],
            [
             0.7777777777777778,
             "#fb9f3a"
            ],
            [
             0.8888888888888888,
             "#fdca26"
            ],
            [
             1,
             "#f0f921"
            ]
           ]
          },
          "colorway": [
           "#636efa",
           "#EF553B",
           "#00cc96",
           "#ab63fa",
           "#FFA15A",
           "#19d3f3",
           "#FF6692",
           "#B6E880",
           "#FF97FF",
           "#FECB52"
          ],
          "font": {
           "color": "#2a3f5f"
          },
          "geo": {
           "bgcolor": "white",
           "lakecolor": "white",
           "landcolor": "#E5ECF6",
           "showlakes": true,
           "showland": true,
           "subunitcolor": "white"
          },
          "hoverlabel": {
           "align": "left"
          },
          "hovermode": "closest",
          "mapbox": {
           "style": "light"
          },
          "paper_bgcolor": "white",
          "plot_bgcolor": "#E5ECF6",
          "polar": {
           "angularaxis": {
            "gridcolor": "white",
            "linecolor": "white",
            "ticks": ""
           },
           "bgcolor": "#E5ECF6",
           "radialaxis": {
            "gridcolor": "white",
            "linecolor": "white",
            "ticks": ""
           }
          },
          "scene": {
           "xaxis": {
            "backgroundcolor": "#E5ECF6",
            "gridcolor": "white",
            "gridwidth": 2,
            "linecolor": "white",
            "showbackground": true,
            "ticks": "",
            "zerolinecolor": "white"
           },
           "yaxis": {
            "backgroundcolor": "#E5ECF6",
            "gridcolor": "white",
            "gridwidth": 2,
            "linecolor": "white",
            "showbackground": true,
            "ticks": "",
            "zerolinecolor": "white"
           },
           "zaxis": {
            "backgroundcolor": "#E5ECF6",
            "gridcolor": "white",
            "gridwidth": 2,
            "linecolor": "white",
            "showbackground": true,
            "ticks": "",
            "zerolinecolor": "white"
           }
          },
          "shapedefaults": {
           "line": {
            "color": "#2a3f5f"
           }
          },
          "ternary": {
           "aaxis": {
            "gridcolor": "white",
            "linecolor": "white",
            "ticks": ""
           },
           "baxis": {
            "gridcolor": "white",
            "linecolor": "white",
            "ticks": ""
           },
           "bgcolor": "#E5ECF6",
           "caxis": {
            "gridcolor": "white",
            "linecolor": "white",
            "ticks": ""
           }
          },
          "title": {
           "x": 0.05
          },
          "xaxis": {
           "automargin": true,
           "gridcolor": "white",
           "linecolor": "white",
           "ticks": "",
           "title": {
            "standoff": 15
           },
           "zerolinecolor": "white",
           "zerolinewidth": 2
          },
          "yaxis": {
           "automargin": true,
           "gridcolor": "white",
           "linecolor": "white",
           "ticks": "",
           "title": {
            "standoff": 15
           },
           "zerolinecolor": "white",
           "zerolinewidth": 2
          }
         }
        },
        "title": {
         "text": "Boxplot das emendas estaduais e municipais"
        },
        "xaxis": {
         "anchor": "y",
         "domain": [
          0,
          1
         ],
         "gridcolor": "rgb(255, 255, 255)",
         "gridwidth": 1,
         "showgrid": true,
         "title": {
          "text": "Valor"
         },
         "zerolinecolor": "rgb(255, 255, 255)",
         "zerolinewidth": 2
        },
        "yaxis": {
         "anchor": "x",
         "categoryarray": [
          "Municipal",
          "Estadual"
         ],
         "categoryorder": "array",
         "domain": [
          0,
          1
         ],
         "showgrid": false,
         "title": {
          "text": ""
         }
        }
       }
      }
     },
     "metadata": {},
     "output_type": "display_data"
    }
   ],
   "source": [
    "# copia dos dados estaduais\n",
    "df_ce_out = df_ce.copy()\n",
    "# coluna tipo\n",
    "df_ce_out['Tipo'] = 'Estadual'\n",
    "\n",
    "# copia dos dados municipais\n",
    "df_cidades_out = df_cidades.copy()\n",
    "# nova coluna tipo\n",
    "df_cidades_out['Tipo'] = 'Municipal'\n",
    "\n",
    "df_outliers = pd.concat([df_ce_out,df_cidades_out])\n",
    "# df_outliers.head()\n",
    "\n",
    "df_outliers.rename(columns={'vlr':'Valor'}, inplace=True)\n",
    "\n",
    "fig = px.box(\n",
    "    df_outliers\n",
    "    # , title=\"Boxplot das emendas estaduais e municipais\"\n",
    "    , y=\"Tipo\"\n",
    "    , x=\"Valor\"\n",
    "    , color=\"Tipo\"\n",
    ")\n",
    "\n",
    "# fig.update_traces(\n",
    "#     marker=dict(outliercolor='rgb(51, 204, 51)')\n",
    "# )\n",
    "\n",
    "fig.update_layout(\n",
    "    title='Boxplot das emendas estaduais e municipais',\n",
    "    yaxis=dict(\n",
    "        # autorange=True,\n",
    "        showgrid=False,\n",
    "        # zeroline=True,\n",
    "        # dtick=5,\n",
    "        # gridcolor='rgb(255, 255, 255)',\n",
    "        # gridwidth=1,\n",
    "        # zerolinecolor='rgb(255, 255, 255)',\n",
    "        # zerolinewidth=2,\n",
    "        title=dict(text=\"\")\n",
    "        # visible=False,\n",
    "        # showticklabels=False\n",
    "    ),\n",
    "    xaxis=dict(\n",
    "        # autorange=True,\n",
    "        showgrid=True,\n",
    "        # zeroline=True,\n",
    "        # dtick=5,\n",
    "        gridcolor='rgb(255, 255, 255)',\n",
    "        gridwidth=1,\n",
    "        zerolinecolor='rgb(255, 255, 255)',\n",
    "        zerolinewidth=2,\n",
    "        # visible=False,\n",
    "        # showticklabels=False\n",
    "    ),\n",
    "    # margin=dict(\n",
    "    #     l=40,\n",
    "    #     r=30,\n",
    "    #     b=80,\n",
    "    #     t=100,\n",
    "    # ),\n",
    "    paper_bgcolor='rgb(243, 243, 243)',\n",
    "    plot_bgcolor='rgb(243, 243, 243)',\n",
    "    showlegend=False\n",
    ")\n",
    "\n",
    "fig.show()"
   ]
  },
  {
   "cell_type": "markdown",
   "metadata": {},
   "source": [
    "Para os dados municipais identificamos alguns outliers. Precisamos identificar quais são estes dados."
   ]
  },
  {
   "cell_type": "code",
   "execution_count": 42,
   "metadata": {},
   "outputs": [
    {
     "data": {
      "text/html": [
       "<style type=\"text/css\">\n",
       "</style>\n",
       "<table id=\"T_46cdc\">\n",
       "  <caption>Dados outliers das emendas pagas para municípios</caption>\n",
       "  <thead>\n",
       "    <tr>\n",
       "      <th class=\"blank level0\" >&nbsp;</th>\n",
       "      <th id=\"T_46cdc_level0_col0\" class=\"col_heading level0 col0\" >Político</th>\n",
       "      <th id=\"T_46cdc_level0_col1\" class=\"col_heading level0 col1\" >Cidade</th>\n",
       "      <th id=\"T_46cdc_level0_col2\" class=\"col_heading level0 col2\" >Valor</th>\n",
       "    </tr>\n",
       "  </thead>\n",
       "  <tbody>\n",
       "    <tr>\n",
       "      <th id=\"T_46cdc_level0_row0\" class=\"row_heading level0 row0\" >75</th>\n",
       "      <td id=\"T_46cdc_row0_col0\" class=\"data row0 col0\" >MOSES RODRIGUES</td>\n",
       "      <td id=\"T_46cdc_row0_col1\" class=\"data row0 col1\" >CRUZ</td>\n",
       "      <td id=\"T_46cdc_row0_col2\" class=\"data row0 col2\" >10.000.000,00</td>\n",
       "    </tr>\n",
       "    <tr>\n",
       "      <th id=\"T_46cdc_level0_row1\" class=\"row_heading level0 row1\" >74</th>\n",
       "      <td id=\"T_46cdc_row1_col0\" class=\"data row1 col0\" >HEITOR FREIRE</td>\n",
       "      <td id=\"T_46cdc_row1_col1\" class=\"data row1 col1\" >GRANJA</td>\n",
       "      <td id=\"T_46cdc_row1_col2\" class=\"data row1 col2\" >7.331.441,00</td>\n",
       "    </tr>\n",
       "    <tr>\n",
       "      <th id=\"T_46cdc_level0_row2\" class=\"row_heading level0 row2\" >73</th>\n",
       "      <td id=\"T_46cdc_row2_col0\" class=\"data row2 col0\" >YURY DO PAREDAO</td>\n",
       "      <td id=\"T_46cdc_row2_col1\" class=\"data row2 col1\" >QUITERIANÓPOLIS</td>\n",
       "      <td id=\"T_46cdc_row2_col2\" class=\"data row2 col2\" >7.000.000,00</td>\n",
       "    </tr>\n",
       "    <tr>\n",
       "      <th id=\"T_46cdc_level0_row3\" class=\"row_heading level0 row3\" >72</th>\n",
       "      <td id=\"T_46cdc_row3_col0\" class=\"data row3 col0\" >PEDRO AUGUSTO BEZERRA</td>\n",
       "      <td id=\"T_46cdc_row3_col1\" class=\"data row3 col1\" >NOVO ORIENTE</td>\n",
       "      <td id=\"T_46cdc_row3_col2\" class=\"data row3 col2\" >6.000.000,00</td>\n",
       "    </tr>\n",
       "    <tr>\n",
       "      <th id=\"T_46cdc_level0_row4\" class=\"row_heading level0 row4\" >71</th>\n",
       "      <td id=\"T_46cdc_row4_col0\" class=\"data row4 col0\" >GENECIAS NORONHA</td>\n",
       "      <td id=\"T_46cdc_row4_col1\" class=\"data row4 col1\" >PARAMBU</td>\n",
       "      <td id=\"T_46cdc_row4_col2\" class=\"data row4 col2\" >5.819.682,00</td>\n",
       "    </tr>\n",
       "    <tr>\n",
       "      <th id=\"T_46cdc_level0_row5\" class=\"row_heading level0 row5\" >70</th>\n",
       "      <td id=\"T_46cdc_row5_col0\" class=\"data row5 col0\" >DR. JAZIEL</td>\n",
       "      <td id=\"T_46cdc_row5_col1\" class=\"data row5 col1\" >NOVO ORIENTE</td>\n",
       "      <td id=\"T_46cdc_row5_col2\" class=\"data row5 col2\" >5.702.232,00</td>\n",
       "    </tr>\n",
       "  </tbody>\n",
       "</table>\n"
      ],
      "text/plain": [
       "<pandas.io.formats.style.Styler at 0x248585abed0>"
      ]
     },
     "execution_count": 42,
     "metadata": {},
     "output_type": "execute_result"
    }
   ],
   "source": [
    "def identificar_limites(serie_coluna):\n",
    "    # Calcular os quartis Q1 e Q3\n",
    "    Q1 = serie_coluna.quantile(0.25)\n",
    "    Q3 = serie_coluna.quantile(0.75)\n",
    "\n",
    "    # Calcular o IQR\n",
    "    IQR = Q3 - Q1\n",
    "\n",
    "    # Definir os limites inferior e superior\n",
    "    limite_inferior = Q1 - 1.5 * IQR\n",
    "    limite_superior = Q3 + 1.5 * IQR\n",
    "    return limite_inferior, limite_superior\n",
    "\n",
    "def get_outliers(df,coluna):\n",
    "    limite_inferior,limite_superior = identificar_limites(df[coluna])\n",
    "    outliers = df[(df[coluna] < limite_inferior) | (df[coluna] > limite_superior)]\n",
    "    return outliers.sort_values(by='Valor', ascending=False)\n",
    "    # return outliers\n",
    "\n",
    "\n",
    "def get_noutliers(df,coluna):\n",
    "    limite_inferior,limite_superior = identificar_limites(df[coluna])\n",
    "    outliers = df[~((df[coluna] < limite_inferior) | (df[coluna] > limite_superior))]\n",
    "    return outliers.sort_values(by='Valor', ascending=False)\n",
    "    # return outliers\n",
    "\n",
    "\n",
    "# Identificar outliers\n",
    "# outliers = df_outliers.query(\"Tipo == 'Municipal'\")\n",
    "\n",
    "outliers = get_outliers(df_outliers.query(\"Tipo == 'Municipal'\"),'Valor')\n",
    "# outliers.head()\n",
    "\n",
    "outliers = outliers[['emenda_autor','local_gasto','Valor']]\n",
    "outliers = outliers.rename(columns={'emenda_autor':'Político','local_gasto':'Cidade'})\n",
    "outliers.style \\\n",
    ".set_caption(\"Dados outliers das emendas pagas para municípios\") \\\n",
    ".format(precision=2, thousands=\".\", decimal=\",\") \n"
   ]
  },
  {
   "cell_type": "markdown",
   "metadata": {},
   "source": [
    "### Políticos\n",
    "\n",
    "- politicos que enviaram\n",
    "- políticos enviaram para quantas cidades diferentes\n",
    "- valor enviado por cada político"
   ]
  },
  {
   "cell_type": "code",
   "execution_count": 43,
   "metadata": {},
   "outputs": [
    {
     "data": {
      "text/html": [
       "<style type=\"text/css\">\n",
       "#T_71a6b_row0_col2 {\n",
       "  background-color: #31668e;\n",
       "  color: #f1f1f1;\n",
       "}\n",
       "#T_71a6b_row1_col2 {\n",
       "  background-color: #471063;\n",
       "  color: #f1f1f1;\n",
       "}\n",
       "#T_71a6b_row2_col2 {\n",
       "  background-color: #46337f;\n",
       "  color: #f1f1f1;\n",
       "}\n",
       "#T_71a6b_row3_col2 {\n",
       "  background-color: #287c8e;\n",
       "  color: #f1f1f1;\n",
       "}\n",
       "#T_71a6b_row4_col2 {\n",
       "  background-color: #c0df25;\n",
       "  color: #000000;\n",
       "}\n",
       "#T_71a6b_row5_col2 {\n",
       "  background-color: #26818e;\n",
       "  color: #f1f1f1;\n",
       "}\n",
       "#T_71a6b_row6_col2 {\n",
       "  background-color: #1f9e89;\n",
       "  color: #f1f1f1;\n",
       "}\n",
       "#T_71a6b_row7_col2 {\n",
       "  background-color: #1fa187;\n",
       "  color: #f1f1f1;\n",
       "}\n",
       "#T_71a6b_row8_col2 {\n",
       "  background-color: #3b528b;\n",
       "  color: #f1f1f1;\n",
       "}\n",
       "#T_71a6b_row9_col2 {\n",
       "  background-color: #423f85;\n",
       "  color: #f1f1f1;\n",
       "}\n",
       "#T_71a6b_row10_col2 {\n",
       "  background-color: #1f978b;\n",
       "  color: #f1f1f1;\n",
       "}\n",
       "#T_71a6b_row11_col2 {\n",
       "  background-color: #6ccd5a;\n",
       "  color: #000000;\n",
       "}\n",
       "#T_71a6b_row12_col1 {\n",
       "  background-color: yellow;\n",
       "}\n",
       "#T_71a6b_row12_col2 {\n",
       "  background-color: #fde725;\n",
       "  color: #000000;\n",
       "}\n",
       "#T_71a6b_row13_col2 {\n",
       "  background-color: #440154;\n",
       "  color: #f1f1f1;\n",
       "}\n",
       "#T_71a6b_row14_col2 {\n",
       "  background-color: #86d549;\n",
       "  color: #000000;\n",
       "}\n",
       "#T_71a6b_row15_col2 {\n",
       "  background-color: #482374;\n",
       "  color: #f1f1f1;\n",
       "}\n",
       "#T_71a6b_row16_col2 {\n",
       "  background-color: #1e9c89;\n",
       "  color: #f1f1f1;\n",
       "}\n",
       "</style>\n",
       "<table id=\"T_71a6b\">\n",
       "  <caption>Emendas por Político</caption>\n",
       "  <thead>\n",
       "    <tr>\n",
       "      <th class=\"blank level0\" >&nbsp;</th>\n",
       "      <th id=\"T_71a6b_level0_col0\" class=\"col_heading level0 col0\" >Autor</th>\n",
       "      <th id=\"T_71a6b_level0_col1\" class=\"col_heading level0 col1\" >Cidades Recebedoras</th>\n",
       "      <th id=\"T_71a6b_level0_col2\" class=\"col_heading level0 col2\" >Valor</th>\n",
       "    </tr>\n",
       "  </thead>\n",
       "  <tbody>\n",
       "    <tr>\n",
       "      <th id=\"T_71a6b_level0_row0\" class=\"row_heading level0 row0\" >0</th>\n",
       "      <td id=\"T_71a6b_row0_col0\" class=\"data row0 col0\" >ANDRE FERNANDES</td>\n",
       "      <td id=\"T_71a6b_row0_col1\" class=\"data row0 col1\" >4</td>\n",
       "      <td id=\"T_71a6b_row0_col2\" class=\"data row0 col2\" >6.847.138,50</td>\n",
       "    </tr>\n",
       "    <tr>\n",
       "      <th id=\"T_71a6b_level0_row1\" class=\"row_heading level0 row1\" >1</th>\n",
       "      <td id=\"T_71a6b_row1_col0\" class=\"data row1 col0\" >CAPITAO WAGNER</td>\n",
       "      <td id=\"T_71a6b_row1_col1\" class=\"data row1 col1\" >1</td>\n",
       "      <td id=\"T_71a6b_row1_col2\" class=\"data row1 col2\" >1.714.511,00</td>\n",
       "    </tr>\n",
       "    <tr>\n",
       "      <th id=\"T_71a6b_level0_row2\" class=\"row_heading level0 row2\" >2</th>\n",
       "      <td id=\"T_71a6b_row2_col0\" class=\"data row2 col0\" >CID GOMES</td>\n",
       "      <td id=\"T_71a6b_row2_col1\" class=\"data row2 col1\" >5</td>\n",
       "      <td id=\"T_71a6b_row2_col2\" class=\"data row2 col2\" >3.589.365,00</td>\n",
       "    </tr>\n",
       "    <tr>\n",
       "      <th id=\"T_71a6b_level0_row3\" class=\"row_heading level0 row3\" >3</th>\n",
       "      <td id=\"T_71a6b_row3_col0\" class=\"data row3 col0\" >DENIS BEZERRA</td>\n",
       "      <td id=\"T_71a6b_row3_col1\" class=\"data row3 col1\" >2</td>\n",
       "      <td id=\"T_71a6b_row3_col2\" class=\"data row3 col2\" >8.447.710,00</td>\n",
       "    </tr>\n",
       "    <tr>\n",
       "      <th id=\"T_71a6b_level0_row4\" class=\"row_heading level0 row4\" >4</th>\n",
       "      <td id=\"T_71a6b_row4_col0\" class=\"data row4 col0\" >DR. JAZIEL</td>\n",
       "      <td id=\"T_71a6b_row4_col1\" class=\"data row4 col1\" >6</td>\n",
       "      <td id=\"T_71a6b_row4_col2\" class=\"data row4 col2\" >17.205.289,20</td>\n",
       "    </tr>\n",
       "    <tr>\n",
       "      <th id=\"T_71a6b_level0_row5\" class=\"row_heading level0 row5\" >5</th>\n",
       "      <td id=\"T_71a6b_row5_col0\" class=\"data row5 col0\" >GENECIAS NORONHA</td>\n",
       "      <td id=\"T_71a6b_row5_col1\" class=\"data row5 col1\" >4</td>\n",
       "      <td id=\"T_71a6b_row5_col2\" class=\"data row5 col2\" >8.819.682,00</td>\n",
       "    </tr>\n",
       "    <tr>\n",
       "      <th id=\"T_71a6b_level0_row6\" class=\"row_heading level0 row6\" >6</th>\n",
       "      <td id=\"T_71a6b_row6_col0\" class=\"data row6 col0\" >HEITOR FREIRE</td>\n",
       "      <td id=\"T_71a6b_row6_col1\" class=\"data row6 col1\" >2</td>\n",
       "      <td id=\"T_71a6b_row6_col2\" class=\"data row6 col2\" >10.997.161,00</td>\n",
       "    </tr>\n",
       "    <tr>\n",
       "      <th id=\"T_71a6b_level0_row7\" class=\"row_heading level0 row7\" >7</th>\n",
       "      <td id=\"T_71a6b_row7_col0\" class=\"data row7 col0\" >JOSE AIRTON FELIX CIRILO</td>\n",
       "      <td id=\"T_71a6b_row7_col1\" class=\"data row7 col1\" >1</td>\n",
       "      <td id=\"T_71a6b_row7_col2\" class=\"data row7 col2\" >11.258.418,00</td>\n",
       "    </tr>\n",
       "    <tr>\n",
       "      <th id=\"T_71a6b_level0_row8\" class=\"row_heading level0 row8\" >8</th>\n",
       "      <td id=\"T_71a6b_row8_col0\" class=\"data row8 col0\" >JULIO VENTURA</td>\n",
       "      <td id=\"T_71a6b_row8_col1\" class=\"data row8 col1\" >4</td>\n",
       "      <td id=\"T_71a6b_row8_col2\" class=\"data row8 col2\" >5.475.000,00</td>\n",
       "    </tr>\n",
       "    <tr>\n",
       "      <th id=\"T_71a6b_level0_row9\" class=\"row_heading level0 row9\" >9</th>\n",
       "      <td id=\"T_71a6b_row9_col0\" class=\"data row9 col0\" >MAURO BENEVIDES FILHO</td>\n",
       "      <td id=\"T_71a6b_row9_col1\" class=\"data row9 col1\" >5</td>\n",
       "      <td id=\"T_71a6b_row9_col2\" class=\"data row9 col2\" >4.300.060,00</td>\n",
       "    </tr>\n",
       "    <tr>\n",
       "      <th id=\"T_71a6b_level0_row10\" class=\"row_heading level0 row10\" >10</th>\n",
       "      <td id=\"T_71a6b_row10_col0\" class=\"data row10 col0\" >MOSES RODRIGUES</td>\n",
       "      <td id=\"T_71a6b_row10_col1\" class=\"data row10 col1\" >2</td>\n",
       "      <td id=\"T_71a6b_row10_col2\" class=\"data row10 col2\" >10.461.857,04</td>\n",
       "    </tr>\n",
       "    <tr>\n",
       "      <th id=\"T_71a6b_level0_row11\" class=\"row_heading level0 row11\" >11</th>\n",
       "      <td id=\"T_71a6b_row11_col0\" class=\"data row11 col0\" >PEDRO AUGUSTO BEZERRA</td>\n",
       "      <td id=\"T_71a6b_row11_col1\" class=\"data row11 col1\" >8</td>\n",
       "      <td id=\"T_71a6b_row11_col2\" class=\"data row11 col2\" >14.905.652,00</td>\n",
       "    </tr>\n",
       "    <tr>\n",
       "      <th id=\"T_71a6b_level0_row12\" class=\"row_heading level0 row12\" >12</th>\n",
       "      <td id=\"T_71a6b_row12_col0\" class=\"data row12 col0\" >ROBERIO MONTEIRO</td>\n",
       "      <td id=\"T_71a6b_row12_col1\" class=\"data row12 col1\" >13</td>\n",
       "      <td id=\"T_71a6b_row12_col2\" class=\"data row12 col2\" >18.924.347,87</td>\n",
       "    </tr>\n",
       "    <tr>\n",
       "      <th id=\"T_71a6b_level0_row13\" class=\"row_heading level0 row13\" >13</th>\n",
       "      <td id=\"T_71a6b_row13_col0\" class=\"data row13 col0\" >RONALDO MARTINS</td>\n",
       "      <td id=\"T_71a6b_row13_col1\" class=\"data row13 col1\" >1</td>\n",
       "      <td id=\"T_71a6b_row13_col2\" class=\"data row13 col2\" >977.525,00</td>\n",
       "    </tr>\n",
       "    <tr>\n",
       "      <th id=\"T_71a6b_level0_row14\" class=\"row_heading level0 row14\" >14</th>\n",
       "      <td id=\"T_71a6b_row14_col0\" class=\"data row14 col0\" >VAIDON OLIVEIRA</td>\n",
       "      <td id=\"T_71a6b_row14_col1\" class=\"data row14 col1\" >5</td>\n",
       "      <td id=\"T_71a6b_row14_col2\" class=\"data row14 col2\" >15.640.406,00</td>\n",
       "    </tr>\n",
       "    <tr>\n",
       "      <th id=\"T_71a6b_level0_row15\" class=\"row_heading level0 row15\" >15</th>\n",
       "      <td id=\"T_71a6b_row15_col0\" class=\"data row15 col0\" >VINICIUS GURGEL</td>\n",
       "      <td id=\"T_71a6b_row15_col1\" class=\"data row15 col1\" >1</td>\n",
       "      <td id=\"T_71a6b_row15_col2\" class=\"data row15 col2\" >2.672.458,52</td>\n",
       "    </tr>\n",
       "    <tr>\n",
       "      <th id=\"T_71a6b_level0_row16\" class=\"row_heading level0 row16\" >16</th>\n",
       "      <td id=\"T_71a6b_row16_col0\" class=\"data row16 col0\" >YURY DO PAREDAO</td>\n",
       "      <td id=\"T_71a6b_row16_col1\" class=\"data row16 col1\" >3</td>\n",
       "      <td id=\"T_71a6b_row16_col2\" class=\"data row16 col2\" >10.804.665,87</td>\n",
       "    </tr>\n",
       "  </tbody>\n",
       "</table>\n"
      ],
      "text/plain": [
       "<pandas.io.formats.style.Styler at 0x2485857ab90>"
      ]
     },
     "execution_count": 43,
     "metadata": {},
     "output_type": "execute_result"
    }
   ],
   "source": [
    "politicos_df = (\n",
    "    df_cidades\n",
    "    .groupby(['emenda_autor'], as_index=False)\n",
    "    .agg({'local_gasto':pd.Series.nunique, 'vlr': 'sum'})\n",
    ")\n",
    "\n",
    "\n",
    "# politicos_df = politicos_df.sort_values(by='vlr', ascending=False)\n",
    "politicos_df.rename(columns={'emenda_autor':'Autor', 'local_gasto':'Cidades Recebedoras','vlr':'Valor'}, inplace=True)\n",
    "\n",
    "\n",
    "\n",
    "politicos_df.style \\\n",
    ".set_caption(\"Emendas por Político\") \\\n",
    ".format(precision=2, thousands=\".\", decimal=\",\") \\\n",
    ".background_gradient(subset=[\"Valor\"],cmap=\"viridis\") \\\n",
    ".highlight_max(subset=[\"Cidades Recebedoras\"], color='yellow', axis=0, props=None)\n"
   ]
  }
 ],
 "metadata": {
  "kernelspec": {
   "display_name": "Python 3",
   "language": "python",
   "name": "python3"
  },
  "language_info": {
   "codemirror_mode": {
    "name": "ipython",
    "version": 3
   },
   "file_extension": ".py",
   "mimetype": "text/x-python",
   "name": "python",
   "nbconvert_exporter": "python",
   "pygments_lexer": "ipython3",
   "version": "3.11.3"
  }
 },
 "nbformat": 4,
 "nbformat_minor": 2
}
